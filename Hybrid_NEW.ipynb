{
  "nbformat": 4,
  "nbformat_minor": 0,
  "metadata": {
    "colab": {
      "provenance": []
    },
    "kernelspec": {
      "name": "python3",
      "display_name": "Python 3"
    },
    "language_info": {
      "name": "python"
    }
  },
  "cells": [
    {
      "cell_type": "code",
      "source": [
        "# For Building recommender systems\n",
        "!pip install scikit-surprise"
      ],
      "metadata": {
        "colab": {
          "base_uri": "https://localhost:8080/"
        },
        "id": "K34bGtp-FXzp",
        "outputId": "3048698d-b3d3-407f-a88f-1ac4cfd02b20"
      },
      "execution_count": 343,
      "outputs": [
        {
          "output_type": "stream",
          "name": "stdout",
          "text": [
            "Requirement already satisfied: scikit-surprise in /usr/local/lib/python3.11/dist-packages (1.1.4)\n",
            "Requirement already satisfied: joblib>=1.2.0 in /usr/local/lib/python3.11/dist-packages (from scikit-surprise) (1.4.2)\n",
            "Requirement already satisfied: numpy>=1.19.5 in /usr/local/lib/python3.11/dist-packages (from scikit-surprise) (1.26.4)\n",
            "Requirement already satisfied: scipy>=1.6.0 in /usr/local/lib/python3.11/dist-packages (from scikit-surprise) (1.13.1)\n"
          ]
        }
      ]
    },
    {
      "cell_type": "code",
      "execution_count": 344,
      "metadata": {
        "id": "OtkTr_jngKIr"
      },
      "outputs": [],
      "source": [
        "import pandas as pd\n",
        "import numpy as np\n",
        "import joblib\n",
        "from surprise import SVD, Reader, Dataset, accuracy"
      ]
    },
    {
      "cell_type": "code",
      "source": [
        "news_df = pd.read_csv('/content/news.csv')\n",
        "rec_items_df = pd.read_csv('/content/rec_items.csv')\n",
        "rec_feedback_df = pd.read_csv('/content/rec_feedback.csv')\n",
        "users_df = pd.read_csv('/content/users.csv')\n",
        "rec_users_df = pd.read_csv('/content/rec_users.csv')"
      ],
      "metadata": {
        "id": "mhS1TXJ8gbrB"
      },
      "execution_count": 345,
      "outputs": []
    },
    {
      "cell_type": "code",
      "source": [
        "# Load the CBF model (TF-IDF and Cosine Similarity Matrix)\n",
        "tfidf = joblib.load('/content/tfidf_vectorizer.pkl')\n",
        "cosine_sim = joblib.load('/content/cosine_similarity_matrix.pkl')\n",
        "\n",
        "# Load the CF model (e.g., a pre-trained collaborative filtering model)\n",
        "cf_model = joblib.load('/content/svd_recommender_model.pkl')"
      ],
      "metadata": {
        "id": "vSKphCAGFHbh"
      },
      "execution_count": 346,
      "outputs": []
    },
    {
      "cell_type": "code",
      "source": [
        "# Define custom interaction weights\n",
        "interaction_weights = {'click': 1, 'read': 2, 'like': 3}\n",
        "\n",
        "# Map interaction types to their corresponding weights\n",
        "rec_feedback_df['rating'] = rec_feedback_df['feedback_type'].map(interaction_weights)\n",
        "\n",
        "rec_feedback_df['rating'] = rec_feedback_df['rating'].fillna(0)"
      ],
      "metadata": {
        "id": "T9Ve3OWtZDti"
      },
      "execution_count": 347,
      "outputs": []
    },
    {
      "cell_type": "code",
      "source": [
        "# Function to get CBF (Content-Based Filtering) recommendations\n",
        "def get_cbf_recommendations(user_id, top_n=5):\n",
        "    user_interactions = rec_feedback_df[rec_feedback_df['user_id'] == user_id]\n",
        "    interacted_article_ids = user_interactions['item_id'].unique()\n",
        "\n",
        "    if len(interacted_article_ids) == 0:\n",
        "        return \"No interactions found for this user.\"\n",
        "\n",
        "    interacted_article_indices = news_df[news_df['id'].isin(interacted_article_ids)].index.tolist()\n",
        "    if len(interacted_article_indices) == 0:\n",
        "        return \"No articles found for user interactions.\"\n",
        "\n",
        "    sim_scores = []\n",
        "    for idx in interacted_article_indices:\n",
        "        sim_scores.extend(list(enumerate(cosine_sim[idx])))\n",
        "\n",
        "    sim_scores = sorted(sim_scores, key=lambda x: x[1], reverse=True)\n",
        "    recommended_articles = []\n",
        "\n",
        "    # Ensure diversity by checking different topics (optional)\n",
        "    recommended_articles_set = set()\n",
        "    for score in sim_scores:\n",
        "        article_idx = score[0]\n",
        "        if news_df.iloc[article_idx]['id'] not in interacted_article_ids:\n",
        "            recommended_articles.append(news_df.iloc[article_idx][['id', 'title', 'description']])\n",
        "            recommended_articles_set.add(news_df.iloc[article_idx]['id'])\n",
        "        if len(recommended_articles) == top_n:\n",
        "            break\n",
        "\n",
        "    return pd.DataFrame(recommended_articles)"
      ],
      "metadata": {
        "id": "MNRD_9czamXf"
      },
      "execution_count": 348,
      "outputs": []
    },
    {
      "cell_type": "code",
      "source": [
        "# Function to get CF (Collaborative Filtering) recommendations\n",
        "def get_cf_recommendations(user_id, top_n=5):\n",
        "    user_interactions = rec_feedback_df[rec_feedback_df['user_id'] == user_id]\n",
        "    if user_interactions.empty:\n",
        "        return \"No interactions found for this user.\"\n",
        "\n",
        "    reader = Reader(rating_scale=(0, 3))  # Custom rating scale\n",
        "    data = Dataset.load_from_df(rec_feedback_df[['user_id', 'item_id', 'rating']], reader)\n",
        "    trainset = data.build_full_trainset()\n",
        "\n",
        "    all_items = news_df['id'].tolist()\n",
        "    predictions = []\n",
        "    for item_id in all_items:\n",
        "        prediction = cf_model.predict(user_id, item_id)  # Predict the rating for user and item\n",
        "        predictions.append((item_id, prediction.est))  # Collect item and predicted rating\n",
        "\n",
        "    predictions.sort(key=lambda x: x[1], reverse=True)\n",
        "    recommended_articles = []\n",
        "    for item_id, _ in predictions[:top_n]:\n",
        "        article = news_df[news_df['id'] == item_id][['id', 'title', 'description']].iloc[0]\n",
        "        recommended_articles.append(article)\n",
        "\n",
        "    return pd.DataFrame(recommended_articles)"
      ],
      "metadata": {
        "id": "64U3LyxvapzW"
      },
      "execution_count": 349,
      "outputs": []
    },
    {
      "cell_type": "code",
      "source": [
        "# Hybrid Recommendation Function (combining CF and CBF)\n",
        "def get_hybrid_recommendations(user_id, top_n=5, alpha=0.5):\n",
        "    \"\"\"\n",
        "    Combine CF and CBF recommendations with a weight parameter alpha.\n",
        "    alpha: weight to combine CF and CBF (0.5 for equal weight).\n",
        "    \"\"\"\n",
        "    # Get CBF recommendations\n",
        "    cbf_recs = get_cbf_recommendations(user_id, top_n)\n",
        "\n",
        "    # If no CBF recommendations, return CF recommendations\n",
        "    if isinstance(cbf_recs, str):\n",
        "        return get_cf_recommendations(user_id, top_n)\n",
        "\n",
        "    # Get CF recommendations\n",
        "    cf_recs = get_cf_recommendations(user_id, top_n)\n",
        "\n",
        "    # Merge and add score for hybrid model\n",
        "    cbf_recs['score'] = alpha\n",
        "    cf_recs['score'] = 1 - alpha\n",
        "\n",
        "    combined_recommendations = pd.concat([cbf_recs, cf_recs], ignore_index=True)\n",
        "    combined_recommendations = combined_recommendations.drop_duplicates(subset='id', keep='first')\n",
        "\n",
        "    # Sorting by score (hybrid recommendation)\n",
        "    combined_recommendations = combined_recommendations.sort_values(by='score', ascending=False)\n",
        "\n",
        "    # Get the top-N recommendations\n",
        "    return combined_recommendations.head(top_n)"
      ],
      "metadata": {
        "id": "LUaPWNWcaqqG"
      },
      "execution_count": 350,
      "outputs": []
    },
    {
      "cell_type": "code",
      "source": [
        "user_ids = [2329, 645, 678]\n",
        "\n",
        "for user_id in user_ids:\n",
        "    print(f\"Recommendations for User {user_id}:\\n\")\n",
        "    hybrid_recommendations = get_hybrid_recommendations(user_id, top_n=5, alpha=0.5)\n",
        "    print(hybrid_recommendations)\n",
        "    print(\"\\n---\\n\")"
      ],
      "metadata": {
        "colab": {
          "base_uri": "https://localhost:8080/"
        },
        "id": "FLOeWkHNr9Gy",
        "outputId": "4a3cdc57-dc79-412c-bb41-7c715aa2f02c"
      },
      "execution_count": 351,
      "outputs": [
        {
          "output_type": "stream",
          "name": "stdout",
          "text": [
            "Recommendations for User 2329:\n",
            "\n",
            "      id                                              title  \\\n",
            "0  23269  ලාංකිකයින් 3065ක් අමෙරිකාවෙන් පිටුවහල් කිරීමට ...   \n",
            "1  23484            ඉන්ධන සැපයූ සමාගමක් ලංකාවෙන් ඉවත්ව යයි.   \n",
            "2  23848                   ට්‍රම්ප්ගෙන් 25%ක අලුත් බද්දක්\\n   \n",
            "3  23521           සංචාරකයින්ගේ පැමිණීමේ වාර්තාගත වැඩිවීමක්   \n",
            "4  23826        ජනපතිගේ ඩුබායි නිල සංචාරයේ දෙවැනි දිනය අදයි   \n",
            "\n",
            "                                         description  score  \n",
            "0  නව අමෙරිකානු පරිපාලනය විසින් පිටුවහල් කිරීමට න...    0.5  \n",
            "1  මෙරට ඉන්ධන වෙලදාම සදහා පැමිණි ඕස්ට්‍රේලියාවේ ...    0.5  \n",
            "2  අමෙරිකාවට ආනයනය කරන සියලු‍ම වානේ සහ ඇලු‍මිනියම...    0.5  \n",
            "3  මෙරටට පැමිණි සංචාරකයින්ගේ වාර්තාගත වැඩි වීමක් ...    0.5  \n",
            "4   ජනාධිපති අනුර කුමාර දිසානායක මහතාගේ එක්සත් අර...    0.5  \n",
            "\n",
            "---\n",
            "\n",
            "Recommendations for User 645:\n",
            "\n",
            "      id                                              title  \\\n",
            "0  23854  පරිභෝජනයට නුසුදුසු කඩල පරිප්පු වෙළෙඳ පොළට නිකු...   \n",
            "1  23852        CID වැඩවලට අලුත් විමර්ශන කොට්ඨාසයක් එක්වෙයි   \n",
            "2  23751              හිටපු අගමැති ඛාන් වෙනුවෙන් විරෝධතාවක්   \n",
            "3  23864  ක‍්‍රීඩා නියෝජ්‍ය ඇමති පවුල පිටින් ඕස්ට්‍රේලිය...   \n",
            "4  23701  හිටපු සුරාබදු කොමසාරිස් ජෙනරාල්වරයාට එරෙහිව ගො...   \n",
            "\n",
            "                                         description  score  \n",
            "0  ගුල්ලන් සහිත මනුෂ්‍යය පරිභෝජනයට නුසුදුසු කඩල ප...    0.5  \n",
            "1  අපරාධ පරීක්ෂණ දෙපාර්තමේන්තුව යටතේ ඇති නොයෙකුත්...    0.5  \n",
            "2  විවිධ චෝදනා රැසකට වරදකරු කර ඇති පාකිස්තානයේ හි...    0.5  \n",
            "3  ක්‍රීඩා හා තරුණ කටයුතු නියෝජ්‍ය ඇමති සුගත් තිල...    0.5  \n",
            "4  අධිකරණයට අපහාස කළේ යැයි චෝදනා එල්ලවූ හිටපු සුර...    0.5  \n",
            "\n",
            "---\n",
            "\n",
            "Recommendations for User 678:\n",
            "\n",
            "      id                                              title  \\\n",
            "0  23762  යළි විදුලි කප්පාදු කාල සටහනක් එයි. - නොරොච්චලේ...   \n",
            "1  23804        භික්ෂුවකට අකැප දේ කළ නා හිමි නමක් සිපිරිගෙට   \n",
            "2  23914              නොරොච්චෝලේ අද පනගන්වන්න දැඩි උත්සහයක්   \n",
            "3  23796  නොරොච්චෝල ON වෙන තුරු විදුලි කප්පාදුවක්. සැලසු...   \n",
            "4  23859                 අදත් පැය එකහමාරක විදුලි කප්පාදුවක්   \n",
            "\n",
            "                                         description  score  \n",
            "0  ඉදිරි දින කිහිපයක් සඳහා විදුලිය කප්පාදු කිරීමට...    0.5  \n",
            "1  නීතිවිරෝධී මත්ද්‍රව්‍යයක් ලෙස සැලකෙන හෙරොයින් ...    0.5  \n",
            "2  බිඳවැටුණු නොරොච්චෝලේ විදුලි බලාගාරය යළි යථා තත...    0.5  \n",
            "3  අද (10) සහ හෙට (11) දින දෙකේදී පැය එකහමාර බැගි...    0.5  \n",
            "4  මේ අතර අද (11) දිනයේ ත් දිවයින පුරා මිනිත්තු 9...    0.5  \n",
            "\n",
            "---\n",
            "\n"
          ]
        }
      ]
    }
  ]
}