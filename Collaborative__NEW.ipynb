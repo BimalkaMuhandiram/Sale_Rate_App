{
  "nbformat": 4,
  "nbformat_minor": 0,
  "metadata": {
    "colab": {
      "provenance": []
    },
    "kernelspec": {
      "name": "python3",
      "display_name": "Python 3"
    },
    "language_info": {
      "name": "python"
    }
  },
  "cells": [
    {
      "cell_type": "code",
      "source": [
        "# For Building recommender systems\n",
        "!pip install scikit-surprise"
      ],
      "metadata": {
        "colab": {
          "base_uri": "https://localhost:8080/"
        },
        "id": "TiTTPYUPePuJ",
        "outputId": "b7cff076-1b45-4dd3-93e6-8fec4d3c90ad"
      },
      "execution_count": 114,
      "outputs": [
        {
          "output_type": "stream",
          "name": "stdout",
          "text": [
            "Requirement already satisfied: scikit-surprise in /usr/local/lib/python3.11/dist-packages (1.1.4)\n",
            "Requirement already satisfied: joblib>=1.2.0 in /usr/local/lib/python3.11/dist-packages (from scikit-surprise) (1.4.2)\n",
            "Requirement already satisfied: numpy>=1.19.5 in /usr/local/lib/python3.11/dist-packages (from scikit-surprise) (1.26.4)\n",
            "Requirement already satisfied: scipy>=1.6.0 in /usr/local/lib/python3.11/dist-packages (from scikit-surprise) (1.13.1)\n"
          ]
        }
      ]
    },
    {
      "cell_type": "code",
      "source": [
        "import pandas as pd\n",
        "from datetime import datetime\n",
        "from surprise import Dataset, Reader, SVD\n",
        "from surprise.model_selection import train_test_split, cross_validate\n",
        "from surprise.accuracy import rmse\n",
        "import joblib"
      ],
      "metadata": {
        "id": "6g1TGk1jUPT0"
      },
      "execution_count": 115,
      "outputs": []
    },
    {
      "cell_type": "code",
      "execution_count": 116,
      "metadata": {
        "id": "TDKk6FjUTv8z"
      },
      "outputs": [],
      "source": [
        "news_df = pd.read_csv('/content/news.csv')\n",
        "rec_items_df = pd.read_csv('/content/rec_items.csv')\n",
        "rec_feedback_df = pd.read_csv('/content/rec_feedback.csv')\n",
        "users_df = pd.read_csv('/content/users.csv')\n",
        "rec_users_df = pd.read_csv('/content/rec_users.csv')"
      ]
    },
    {
      "cell_type": "code",
      "source": [
        "rec_feedback_df.head() # Display the first 5 rows"
      ],
      "metadata": {
        "colab": {
          "base_uri": "https://localhost:8080/",
          "height": 206
        },
        "id": "FTePOFOlUWF6",
        "outputId": "9c5e648a-b34a-4204-c679-933f60dce08e"
      },
      "execution_count": 117,
      "outputs": [
        {
          "output_type": "execute_result",
          "data": {
            "text/plain": [
              "      id feedback_type                  time_stamp  comment  user_id  item_id  \\\n",
              "0  49554         click  2025-02-13 10:03:47.440412      NaN     1182    23942   \n",
              "1  49553          read  2025-02-13 10:03:42.411734      NaN     1182    23942   \n",
              "2  49552         click  2025-02-13 10:01:54.947236      NaN     1058    23942   \n",
              "3  49550         click  2025-02-13 10:01:31.955569      NaN     1058    23930   \n",
              "4  49549         click  2025-02-13 10:01:10.809916      NaN     1058    23941   \n",
              "\n",
              "   created_at  updated_at  created_by_id  updated_by_id  \n",
              "0         NaN         NaN            NaN            NaN  \n",
              "1         NaN         NaN            NaN            NaN  \n",
              "2         NaN         NaN            NaN            NaN  \n",
              "3         NaN         NaN            NaN            NaN  \n",
              "4         NaN         NaN            NaN            NaN  "
            ],
            "text/html": [
              "\n",
              "  <div id=\"df-6c350512-79c2-4d47-b119-4aac8f8d8ef4\" class=\"colab-df-container\">\n",
              "    <div>\n",
              "<style scoped>\n",
              "    .dataframe tbody tr th:only-of-type {\n",
              "        vertical-align: middle;\n",
              "    }\n",
              "\n",
              "    .dataframe tbody tr th {\n",
              "        vertical-align: top;\n",
              "    }\n",
              "\n",
              "    .dataframe thead th {\n",
              "        text-align: right;\n",
              "    }\n",
              "</style>\n",
              "<table border=\"1\" class=\"dataframe\">\n",
              "  <thead>\n",
              "    <tr style=\"text-align: right;\">\n",
              "      <th></th>\n",
              "      <th>id</th>\n",
              "      <th>feedback_type</th>\n",
              "      <th>time_stamp</th>\n",
              "      <th>comment</th>\n",
              "      <th>user_id</th>\n",
              "      <th>item_id</th>\n",
              "      <th>created_at</th>\n",
              "      <th>updated_at</th>\n",
              "      <th>created_by_id</th>\n",
              "      <th>updated_by_id</th>\n",
              "    </tr>\n",
              "  </thead>\n",
              "  <tbody>\n",
              "    <tr>\n",
              "      <th>0</th>\n",
              "      <td>49554</td>\n",
              "      <td>click</td>\n",
              "      <td>2025-02-13 10:03:47.440412</td>\n",
              "      <td>NaN</td>\n",
              "      <td>1182</td>\n",
              "      <td>23942</td>\n",
              "      <td>NaN</td>\n",
              "      <td>NaN</td>\n",
              "      <td>NaN</td>\n",
              "      <td>NaN</td>\n",
              "    </tr>\n",
              "    <tr>\n",
              "      <th>1</th>\n",
              "      <td>49553</td>\n",
              "      <td>read</td>\n",
              "      <td>2025-02-13 10:03:42.411734</td>\n",
              "      <td>NaN</td>\n",
              "      <td>1182</td>\n",
              "      <td>23942</td>\n",
              "      <td>NaN</td>\n",
              "      <td>NaN</td>\n",
              "      <td>NaN</td>\n",
              "      <td>NaN</td>\n",
              "    </tr>\n",
              "    <tr>\n",
              "      <th>2</th>\n",
              "      <td>49552</td>\n",
              "      <td>click</td>\n",
              "      <td>2025-02-13 10:01:54.947236</td>\n",
              "      <td>NaN</td>\n",
              "      <td>1058</td>\n",
              "      <td>23942</td>\n",
              "      <td>NaN</td>\n",
              "      <td>NaN</td>\n",
              "      <td>NaN</td>\n",
              "      <td>NaN</td>\n",
              "    </tr>\n",
              "    <tr>\n",
              "      <th>3</th>\n",
              "      <td>49550</td>\n",
              "      <td>click</td>\n",
              "      <td>2025-02-13 10:01:31.955569</td>\n",
              "      <td>NaN</td>\n",
              "      <td>1058</td>\n",
              "      <td>23930</td>\n",
              "      <td>NaN</td>\n",
              "      <td>NaN</td>\n",
              "      <td>NaN</td>\n",
              "      <td>NaN</td>\n",
              "    </tr>\n",
              "    <tr>\n",
              "      <th>4</th>\n",
              "      <td>49549</td>\n",
              "      <td>click</td>\n",
              "      <td>2025-02-13 10:01:10.809916</td>\n",
              "      <td>NaN</td>\n",
              "      <td>1058</td>\n",
              "      <td>23941</td>\n",
              "      <td>NaN</td>\n",
              "      <td>NaN</td>\n",
              "      <td>NaN</td>\n",
              "      <td>NaN</td>\n",
              "    </tr>\n",
              "  </tbody>\n",
              "</table>\n",
              "</div>\n",
              "    <div class=\"colab-df-buttons\">\n",
              "\n",
              "  <div class=\"colab-df-container\">\n",
              "    <button class=\"colab-df-convert\" onclick=\"convertToInteractive('df-6c350512-79c2-4d47-b119-4aac8f8d8ef4')\"\n",
              "            title=\"Convert this dataframe to an interactive table.\"\n",
              "            style=\"display:none;\">\n",
              "\n",
              "  <svg xmlns=\"http://www.w3.org/2000/svg\" height=\"24px\" viewBox=\"0 -960 960 960\">\n",
              "    <path d=\"M120-120v-720h720v720H120Zm60-500h600v-160H180v160Zm220 220h160v-160H400v160Zm0 220h160v-160H400v160ZM180-400h160v-160H180v160Zm440 0h160v-160H620v160ZM180-180h160v-160H180v160Zm440 0h160v-160H620v160Z\"/>\n",
              "  </svg>\n",
              "    </button>\n",
              "\n",
              "  <style>\n",
              "    .colab-df-container {\n",
              "      display:flex;\n",
              "      gap: 12px;\n",
              "    }\n",
              "\n",
              "    .colab-df-convert {\n",
              "      background-color: #E8F0FE;\n",
              "      border: none;\n",
              "      border-radius: 50%;\n",
              "      cursor: pointer;\n",
              "      display: none;\n",
              "      fill: #1967D2;\n",
              "      height: 32px;\n",
              "      padding: 0 0 0 0;\n",
              "      width: 32px;\n",
              "    }\n",
              "\n",
              "    .colab-df-convert:hover {\n",
              "      background-color: #E2EBFA;\n",
              "      box-shadow: 0px 1px 2px rgba(60, 64, 67, 0.3), 0px 1px 3px 1px rgba(60, 64, 67, 0.15);\n",
              "      fill: #174EA6;\n",
              "    }\n",
              "\n",
              "    .colab-df-buttons div {\n",
              "      margin-bottom: 4px;\n",
              "    }\n",
              "\n",
              "    [theme=dark] .colab-df-convert {\n",
              "      background-color: #3B4455;\n",
              "      fill: #D2E3FC;\n",
              "    }\n",
              "\n",
              "    [theme=dark] .colab-df-convert:hover {\n",
              "      background-color: #434B5C;\n",
              "      box-shadow: 0px 1px 3px 1px rgba(0, 0, 0, 0.15);\n",
              "      filter: drop-shadow(0px 1px 2px rgba(0, 0, 0, 0.3));\n",
              "      fill: #FFFFFF;\n",
              "    }\n",
              "  </style>\n",
              "\n",
              "    <script>\n",
              "      const buttonEl =\n",
              "        document.querySelector('#df-6c350512-79c2-4d47-b119-4aac8f8d8ef4 button.colab-df-convert');\n",
              "      buttonEl.style.display =\n",
              "        google.colab.kernel.accessAllowed ? 'block' : 'none';\n",
              "\n",
              "      async function convertToInteractive(key) {\n",
              "        const element = document.querySelector('#df-6c350512-79c2-4d47-b119-4aac8f8d8ef4');\n",
              "        const dataTable =\n",
              "          await google.colab.kernel.invokeFunction('convertToInteractive',\n",
              "                                                    [key], {});\n",
              "        if (!dataTable) return;\n",
              "\n",
              "        const docLinkHtml = 'Like what you see? Visit the ' +\n",
              "          '<a target=\"_blank\" href=https://colab.research.google.com/notebooks/data_table.ipynb>data table notebook</a>'\n",
              "          + ' to learn more about interactive tables.';\n",
              "        element.innerHTML = '';\n",
              "        dataTable['output_type'] = 'display_data';\n",
              "        await google.colab.output.renderOutput(dataTable, element);\n",
              "        const docLink = document.createElement('div');\n",
              "        docLink.innerHTML = docLinkHtml;\n",
              "        element.appendChild(docLink);\n",
              "      }\n",
              "    </script>\n",
              "  </div>\n",
              "\n",
              "\n",
              "<div id=\"df-a33524cd-1700-42a3-ba6a-d26f2390902c\">\n",
              "  <button class=\"colab-df-quickchart\" onclick=\"quickchart('df-a33524cd-1700-42a3-ba6a-d26f2390902c')\"\n",
              "            title=\"Suggest charts\"\n",
              "            style=\"display:none;\">\n",
              "\n",
              "<svg xmlns=\"http://www.w3.org/2000/svg\" height=\"24px\"viewBox=\"0 0 24 24\"\n",
              "     width=\"24px\">\n",
              "    <g>\n",
              "        <path d=\"M19 3H5c-1.1 0-2 .9-2 2v14c0 1.1.9 2 2 2h14c1.1 0 2-.9 2-2V5c0-1.1-.9-2-2-2zM9 17H7v-7h2v7zm4 0h-2V7h2v10zm4 0h-2v-4h2v4z\"/>\n",
              "    </g>\n",
              "</svg>\n",
              "  </button>\n",
              "\n",
              "<style>\n",
              "  .colab-df-quickchart {\n",
              "      --bg-color: #E8F0FE;\n",
              "      --fill-color: #1967D2;\n",
              "      --hover-bg-color: #E2EBFA;\n",
              "      --hover-fill-color: #174EA6;\n",
              "      --disabled-fill-color: #AAA;\n",
              "      --disabled-bg-color: #DDD;\n",
              "  }\n",
              "\n",
              "  [theme=dark] .colab-df-quickchart {\n",
              "      --bg-color: #3B4455;\n",
              "      --fill-color: #D2E3FC;\n",
              "      --hover-bg-color: #434B5C;\n",
              "      --hover-fill-color: #FFFFFF;\n",
              "      --disabled-bg-color: #3B4455;\n",
              "      --disabled-fill-color: #666;\n",
              "  }\n",
              "\n",
              "  .colab-df-quickchart {\n",
              "    background-color: var(--bg-color);\n",
              "    border: none;\n",
              "    border-radius: 50%;\n",
              "    cursor: pointer;\n",
              "    display: none;\n",
              "    fill: var(--fill-color);\n",
              "    height: 32px;\n",
              "    padding: 0;\n",
              "    width: 32px;\n",
              "  }\n",
              "\n",
              "  .colab-df-quickchart:hover {\n",
              "    background-color: var(--hover-bg-color);\n",
              "    box-shadow: 0 1px 2px rgba(60, 64, 67, 0.3), 0 1px 3px 1px rgba(60, 64, 67, 0.15);\n",
              "    fill: var(--button-hover-fill-color);\n",
              "  }\n",
              "\n",
              "  .colab-df-quickchart-complete:disabled,\n",
              "  .colab-df-quickchart-complete:disabled:hover {\n",
              "    background-color: var(--disabled-bg-color);\n",
              "    fill: var(--disabled-fill-color);\n",
              "    box-shadow: none;\n",
              "  }\n",
              "\n",
              "  .colab-df-spinner {\n",
              "    border: 2px solid var(--fill-color);\n",
              "    border-color: transparent;\n",
              "    border-bottom-color: var(--fill-color);\n",
              "    animation:\n",
              "      spin 1s steps(1) infinite;\n",
              "  }\n",
              "\n",
              "  @keyframes spin {\n",
              "    0% {\n",
              "      border-color: transparent;\n",
              "      border-bottom-color: var(--fill-color);\n",
              "      border-left-color: var(--fill-color);\n",
              "    }\n",
              "    20% {\n",
              "      border-color: transparent;\n",
              "      border-left-color: var(--fill-color);\n",
              "      border-top-color: var(--fill-color);\n",
              "    }\n",
              "    30% {\n",
              "      border-color: transparent;\n",
              "      border-left-color: var(--fill-color);\n",
              "      border-top-color: var(--fill-color);\n",
              "      border-right-color: var(--fill-color);\n",
              "    }\n",
              "    40% {\n",
              "      border-color: transparent;\n",
              "      border-right-color: var(--fill-color);\n",
              "      border-top-color: var(--fill-color);\n",
              "    }\n",
              "    60% {\n",
              "      border-color: transparent;\n",
              "      border-right-color: var(--fill-color);\n",
              "    }\n",
              "    80% {\n",
              "      border-color: transparent;\n",
              "      border-right-color: var(--fill-color);\n",
              "      border-bottom-color: var(--fill-color);\n",
              "    }\n",
              "    90% {\n",
              "      border-color: transparent;\n",
              "      border-bottom-color: var(--fill-color);\n",
              "    }\n",
              "  }\n",
              "</style>\n",
              "\n",
              "  <script>\n",
              "    async function quickchart(key) {\n",
              "      const quickchartButtonEl =\n",
              "        document.querySelector('#' + key + ' button');\n",
              "      quickchartButtonEl.disabled = true;  // To prevent multiple clicks.\n",
              "      quickchartButtonEl.classList.add('colab-df-spinner');\n",
              "      try {\n",
              "        const charts = await google.colab.kernel.invokeFunction(\n",
              "            'suggestCharts', [key], {});\n",
              "      } catch (error) {\n",
              "        console.error('Error during call to suggestCharts:', error);\n",
              "      }\n",
              "      quickchartButtonEl.classList.remove('colab-df-spinner');\n",
              "      quickchartButtonEl.classList.add('colab-df-quickchart-complete');\n",
              "    }\n",
              "    (() => {\n",
              "      let quickchartButtonEl =\n",
              "        document.querySelector('#df-a33524cd-1700-42a3-ba6a-d26f2390902c button');\n",
              "      quickchartButtonEl.style.display =\n",
              "        google.colab.kernel.accessAllowed ? 'block' : 'none';\n",
              "    })();\n",
              "  </script>\n",
              "</div>\n",
              "\n",
              "    </div>\n",
              "  </div>\n"
            ],
            "application/vnd.google.colaboratory.intrinsic+json": {
              "type": "dataframe",
              "variable_name": "rec_feedback_df",
              "summary": "{\n  \"name\": \"rec_feedback_df\",\n  \"rows\": 1000,\n  \"fields\": [\n    {\n      \"column\": \"id\",\n      \"properties\": {\n        \"dtype\": \"number\",\n        \"std\": 359,\n        \"min\": 48319,\n        \"max\": 49554,\n        \"num_unique_values\": 1000,\n        \"samples\": [\n          48929,\n          48655,\n          48651\n        ],\n        \"semantic_type\": \"\",\n        \"description\": \"\"\n      }\n    },\n    {\n      \"column\": \"feedback_type\",\n      \"properties\": {\n        \"dtype\": \"category\",\n        \"num_unique_values\": 4,\n        \"samples\": [\n          \"read\",\n          \"share\",\n          \"click\"\n        ],\n        \"semantic_type\": \"\",\n        \"description\": \"\"\n      }\n    },\n    {\n      \"column\": \"time_stamp\",\n      \"properties\": {\n        \"dtype\": \"object\",\n        \"num_unique_values\": 1000,\n        \"samples\": [\n          \"2025-02-11 04:42:23.677528\",\n          \"2025-02-10 09:36:41.947892\",\n          \"2025-02-10 09:26:31.421717\"\n        ],\n        \"semantic_type\": \"\",\n        \"description\": \"\"\n      }\n    },\n    {\n      \"column\": \"comment\",\n      \"properties\": {\n        \"dtype\": \"number\",\n        \"std\": null,\n        \"min\": null,\n        \"max\": null,\n        \"num_unique_values\": 0,\n        \"samples\": [],\n        \"semantic_type\": \"\",\n        \"description\": \"\"\n      }\n    },\n    {\n      \"column\": \"user_id\",\n      \"properties\": {\n        \"dtype\": \"number\",\n        \"std\": 665,\n        \"min\": 257,\n        \"max\": 2329,\n        \"num_unique_values\": 107,\n        \"samples\": [],\n        \"semantic_type\": \"\",\n        \"description\": \"\"\n      }\n    },\n    {\n      \"column\": \"item_id\",\n      \"properties\": {\n        \"dtype\": \"number\",\n        \"std\": 1533,\n        \"min\": 15257,\n        \"max\": 23962,\n        \"num_unique_values\": 332,\n        \"samples\": [],\n        \"semantic_type\": \"\",\n        \"description\": \"\"\n      }\n    },\n    {\n      \"column\": \"created_at\",\n      \"properties\": {\n        \"dtype\": \"number\",\n        \"std\": null,\n        \"min\": null,\n        \"max\": null,\n        \"num_unique_values\": 0,\n        \"samples\": [],\n        \"semantic_type\": \"\",\n        \"description\": \"\"\n      }\n    },\n    {\n      \"column\": \"updated_at\",\n      \"properties\": {\n        \"dtype\": \"number\",\n        \"std\": null,\n        \"min\": null,\n        \"max\": null,\n        \"num_unique_values\": 0,\n        \"samples\": [],\n        \"semantic_type\": \"\",\n        \"description\": \"\"\n      }\n    },\n    {\n      \"column\": \"created_by_id\",\n      \"properties\": {\n        \"dtype\": \"number\",\n        \"std\": null,\n        \"min\": null,\n        \"max\": null,\n        \"num_unique_values\": 0,\n        \"samples\": [],\n        \"semantic_type\": \"\",\n        \"description\": \"\"\n      }\n    },\n    {\n      \"column\": \"updated_by_id\",\n      \"properties\": {\n        \"dtype\": \"number\",\n        \"std\": null,\n        \"min\": null,\n        \"max\": null,\n        \"num_unique_values\": 0,\n        \"samples\": [],\n        \"semantic_type\": \"\",\n        \"description\": \"\"\n      }\n    }\n  ]\n}"
            }
          },
          "metadata": {},
          "execution_count": 117
        }
      ]
    },
    {
      "cell_type": "code",
      "source": [
        "# Display the data types of each column\n",
        "rec_feedback_df.dtypes"
      ],
      "metadata": {
        "colab": {
          "base_uri": "https://localhost:8080/",
          "height": 398
        },
        "id": "2m43N_3jUZDK",
        "outputId": "cf9cc4aa-60f7-40c9-bd16-c78757ca20ef"
      },
      "execution_count": 118,
      "outputs": [
        {
          "output_type": "execute_result",
          "data": {
            "text/plain": [
              "id                 int64\n",
              "feedback_type     object\n",
              "time_stamp        object\n",
              "comment          float64\n",
              "user_id            int64\n",
              "item_id            int64\n",
              "created_at       float64\n",
              "updated_at       float64\n",
              "created_by_id    float64\n",
              "updated_by_id    float64\n",
              "dtype: object"
            ],
            "text/html": [
              "<div>\n",
              "<style scoped>\n",
              "    .dataframe tbody tr th:only-of-type {\n",
              "        vertical-align: middle;\n",
              "    }\n",
              "\n",
              "    .dataframe tbody tr th {\n",
              "        vertical-align: top;\n",
              "    }\n",
              "\n",
              "    .dataframe thead th {\n",
              "        text-align: right;\n",
              "    }\n",
              "</style>\n",
              "<table border=\"1\" class=\"dataframe\">\n",
              "  <thead>\n",
              "    <tr style=\"text-align: right;\">\n",
              "      <th></th>\n",
              "      <th>0</th>\n",
              "    </tr>\n",
              "  </thead>\n",
              "  <tbody>\n",
              "    <tr>\n",
              "      <th>id</th>\n",
              "      <td>int64</td>\n",
              "    </tr>\n",
              "    <tr>\n",
              "      <th>feedback_type</th>\n",
              "      <td>object</td>\n",
              "    </tr>\n",
              "    <tr>\n",
              "      <th>time_stamp</th>\n",
              "      <td>object</td>\n",
              "    </tr>\n",
              "    <tr>\n",
              "      <th>comment</th>\n",
              "      <td>float64</td>\n",
              "    </tr>\n",
              "    <tr>\n",
              "      <th>user_id</th>\n",
              "      <td>int64</td>\n",
              "    </tr>\n",
              "    <tr>\n",
              "      <th>item_id</th>\n",
              "      <td>int64</td>\n",
              "    </tr>\n",
              "    <tr>\n",
              "      <th>created_at</th>\n",
              "      <td>float64</td>\n",
              "    </tr>\n",
              "    <tr>\n",
              "      <th>updated_at</th>\n",
              "      <td>float64</td>\n",
              "    </tr>\n",
              "    <tr>\n",
              "      <th>created_by_id</th>\n",
              "      <td>float64</td>\n",
              "    </tr>\n",
              "    <tr>\n",
              "      <th>updated_by_id</th>\n",
              "      <td>float64</td>\n",
              "    </tr>\n",
              "  </tbody>\n",
              "</table>\n",
              "</div><br><label><b>dtype:</b> object</label>"
            ]
          },
          "metadata": {},
          "execution_count": 118
        }
      ]
    },
    {
      "cell_type": "code",
      "source": [
        "# Print the number of missing (null) values\n",
        "print(rec_feedback_df.isnull().sum())"
      ],
      "metadata": {
        "colab": {
          "base_uri": "https://localhost:8080/"
        },
        "id": "vvEPFQH7Uf0C",
        "outputId": "100e0157-75a6-4c81-fae4-5164ebbbdbab"
      },
      "execution_count": 119,
      "outputs": [
        {
          "output_type": "stream",
          "name": "stdout",
          "text": [
            "id                  0\n",
            "feedback_type       0\n",
            "time_stamp          0\n",
            "comment          1000\n",
            "user_id             0\n",
            "item_id             0\n",
            "created_at       1000\n",
            "updated_at       1000\n",
            "created_by_id    1000\n",
            "updated_by_id    1000\n",
            "dtype: int64\n"
          ]
        }
      ]
    },
    {
      "cell_type": "code",
      "source": [
        "# Drop unnecessary columns from the DataFrame\n",
        "rec_feedback_df.drop(columns=[\"comment\", \"created_at\", \"updated_at\", \"created_by_id\", \"updated_by_id\"], inplace=True)"
      ],
      "metadata": {
        "id": "bNkw69qtUj0x"
      },
      "execution_count": 120,
      "outputs": []
    },
    {
      "cell_type": "code",
      "source": [
        "print(rec_feedback_df.isnull().sum())"
      ],
      "metadata": {
        "colab": {
          "base_uri": "https://localhost:8080/"
        },
        "id": "Qf9wdr_OUk4h",
        "outputId": "5a940796-f132-4f23-dbf6-adf1a1e5b132"
      },
      "execution_count": 121,
      "outputs": [
        {
          "output_type": "stream",
          "name": "stdout",
          "text": [
            "id               0\n",
            "feedback_type    0\n",
            "time_stamp       0\n",
            "user_id          0\n",
            "item_id          0\n",
            "dtype: int64\n"
          ]
        }
      ]
    },
    {
      "cell_type": "code",
      "source": [
        "interaction_weights = {'click': 1, 'read': 2, 'like': 3} # Define a dictionary mapping interaction types to numerical weights\n",
        "rec_feedback_df['weight'] = rec_feedback_df['feedback_type'].map(interaction_weights) # Map the interaction type to its corresponding weight and create a new 'weight' column"
      ],
      "metadata": {
        "id": "ZtAyjc2SUnS5"
      },
      "execution_count": 122,
      "outputs": []
    },
    {
      "cell_type": "code",
      "source": [
        "# Convert 'time_stamp' column to datetime format\n",
        "rec_feedback_df[\"time_stamp\"] = pd.to_datetime(rec_feedback_df[\"time_stamp\"], errors='coerce')"
      ],
      "metadata": {
        "id": "EHBbEJmWUxDx"
      },
      "execution_count": 123,
      "outputs": []
    },
    {
      "cell_type": "code",
      "source": [
        "# Handle missing values by dropping rows with NaN timestamps\n",
        "rec_feedback_df.dropna(subset=[\"time_stamp\"], inplace=True)"
      ],
      "metadata": {
        "id": "tNsNx2lsVRzH"
      },
      "execution_count": 124,
      "outputs": []
    },
    {
      "cell_type": "code",
      "source": [
        "from datetime import datetime\n",
        "\n",
        "current_time = datetime.now() # Get the current date and time as a datetime object\n",
        "print(current_time)"
      ],
      "metadata": {
        "colab": {
          "base_uri": "https://localhost:8080/"
        },
        "id": "OSYUK7JUVYpQ",
        "outputId": "dcfb805b-4722-4821-e14f-454c0152d358"
      },
      "execution_count": 125,
      "outputs": [
        {
          "output_type": "stream",
          "name": "stdout",
          "text": [
            "2025-02-27 04:34:46.519632\n"
          ]
        }
      ]
    },
    {
      "cell_type": "code",
      "source": [
        "# Apply time decay factor\n",
        "current_time = datetime.now()\n",
        "time_decay_factor = 0.9\n",
        "rec_feedback_df['time_weight'] = rec_feedback_df['time_stamp'].apply(\n",
        "    lambda x: time_decay_factor ** ((current_time - x).days)\n",
        ")"
      ],
      "metadata": {
        "id": "kXrpKYN4Vhq_"
      },
      "execution_count": 126,
      "outputs": []
    },
    {
      "cell_type": "code",
      "source": [
        "# Calculate the final weight by multiplying the interaction weight with the time decay weight\n",
        "rec_feedback_df['final_weight'] = rec_feedback_df['weight'] * rec_feedback_df['time_weight']\n",
        "\n",
        "print(rec_feedback_df[['weight', 'time_weight', 'final_weight']])"
      ],
      "metadata": {
        "colab": {
          "base_uri": "https://localhost:8080/"
        },
        "id": "z88DoZwcVvym",
        "outputId": "af2bd36f-6f67-402c-84f5-ceb3bcccfe15"
      },
      "execution_count": 127,
      "outputs": [
        {
          "output_type": "stream",
          "name": "stdout",
          "text": [
            "     weight  time_weight  final_weight\n",
            "0       1.0     0.254187      0.254187\n",
            "1       2.0     0.254187      0.508373\n",
            "2       1.0     0.254187      0.254187\n",
            "3       1.0     0.254187      0.254187\n",
            "4       1.0     0.254187      0.254187\n",
            "..      ...          ...           ...\n",
            "995     1.0     0.185302      0.185302\n",
            "996     1.0     0.185302      0.185302\n",
            "997     2.0     0.185302      0.370604\n",
            "998     1.0     0.185302      0.185302\n",
            "999     1.0     0.185302      0.185302\n",
            "\n",
            "[1000 rows x 3 columns]\n"
          ]
        }
      ]
    },
    {
      "cell_type": "code",
      "source": [
        "# Prepare data for Surprise library\n",
        "reader = Reader(rating_scale=(1, 5))\n",
        "data = Dataset.load_from_df(rec_feedback_df[['user_id', 'item_id', 'final_weight']], reader)"
      ],
      "metadata": {
        "id": "tQCasemOd9-4"
      },
      "execution_count": 128,
      "outputs": []
    },
    {
      "cell_type": "code",
      "source": [
        "rec_feedback_df = rec_feedback_df.dropna(subset=['weight', 'final_weight'])"
      ],
      "metadata": {
        "id": "FG_5VvGQmPTy"
      },
      "execution_count": 129,
      "outputs": []
    },
    {
      "cell_type": "code",
      "source": [
        "# Fill NaN values in 'weight' column with the mean of the column using .loc\n",
        "rec_feedback_df.loc[:, 'weight'] = rec_feedback_df['weight'].fillna(rec_feedback_df['weight'].mean())\n",
        "\n",
        "# Fill NaN values in 'final_weight' column with the mean of the column using .loc\n",
        "rec_feedback_df.loc[:, 'final_weight'] = rec_feedback_df['final_weight'].fillna(rec_feedback_df['final_weight'].mean())"
      ],
      "metadata": {
        "id": "Je_TTbY5mTci"
      },
      "execution_count": 130,
      "outputs": []
    },
    {
      "cell_type": "code",
      "source": [
        "# Train-test split\n",
        "trainset, testset = train_test_split(data, test_size=0.2, random_state=42)"
      ],
      "metadata": {
        "id": "cg20BgCTd_-o"
      },
      "execution_count": 131,
      "outputs": []
    },
    {
      "cell_type": "code",
      "source": [
        "# Initialize and train the SVD model\n",
        "model = SVD(n_factors=20, n_epochs=30, lr_all=0.005, reg_all=0.1)  # Adjusting parameters\n",
        "model.fit(trainset)"
      ],
      "metadata": {
        "colab": {
          "base_uri": "https://localhost:8080/"
        },
        "id": "VBQh1alpeBwh",
        "outputId": "e9d0e120-1467-4c9d-e844-246e48744ae6"
      },
      "execution_count": 132,
      "outputs": [
        {
          "output_type": "execute_result",
          "data": {
            "text/plain": [
              "<surprise.prediction_algorithms.matrix_factorization.SVD at 0x7bc1b3565e90>"
            ]
          },
          "metadata": {},
          "execution_count": 132
        }
      ]
    },
    {
      "cell_type": "code",
      "source": [
        "# Function to get top-N recommendations ensuring unseen items only\n",
        "def get_top_n_recommendations(model, user_id, n=5):\n",
        "    unique_items = set(rec_feedback_df['item_id'].unique())\n",
        "    user_items = set(rec_feedback_df[rec_feedback_df['user_id'] == user_id]['item_id'].tolist())\n",
        "    unseen_items = unique_items - user_items  # Exclude already interacted items\n",
        "\n",
        "    # If no unseen items, recommend popular items\n",
        "    if not unseen_items:\n",
        "        popular_items = rec_feedback_df.groupby('item_id')['weight'].sum().sort_values(ascending=False).index[:n].tolist()\n",
        "        return user_items, unseen_items, popular_items\n",
        "\n",
        "    # Predict ratings for unseen items and sort them\n",
        "    predictions = [(item, model.predict(user_id, item).est) for item in unseen_items]\n",
        "    top_n = sorted(predictions, key=lambda x: x[1], reverse=True)[:n]\n",
        "    recommended_items = [item for item, _ in top_n]\n",
        "\n",
        "    return user_items, unseen_items, recommended_items"
      ],
      "metadata": {
        "id": "ffXmD7TceE_I"
      },
      "execution_count": 133,
      "outputs": []
    },
    {
      "cell_type": "code",
      "source": [
        "# Save the model using joblib\n",
        "joblib.dump(model, 'svd_recommender_model.pkl')"
      ],
      "metadata": {
        "colab": {
          "base_uri": "https://localhost:8080/"
        },
        "id": "EWfnmF62vN9D",
        "outputId": "89ff8b69-d123-4456-e6b6-390ec4c7a7ec"
      },
      "execution_count": 134,
      "outputs": [
        {
          "output_type": "execute_result",
          "data": {
            "text/plain": [
              "['svd_recommender_model.pkl']"
            ]
          },
          "metadata": {},
          "execution_count": 134
        }
      ]
    },
    {
      "cell_type": "code",
      "source": [
        "# Load the model from the saved file\n",
        "loaded_model = joblib.load('svd_recommender_model.pkl')"
      ],
      "metadata": {
        "id": "N2SZOj3PvPkl"
      },
      "execution_count": 135,
      "outputs": []
    },
    {
      "cell_type": "code",
      "source": [
        "target_user_id = 2329\n",
        "seen_items, unseen_items, recommended_items = get_top_n_recommendations(model, target_user_id, n=5)\n",
        "print(\"Seen items for user\", target_user_id, \":\", seen_items)\n",
        "print(\"Unseen items for user\", target_user_id, \":\", unseen_items)\n",
        "print(\"Recommended items for user\", target_user_id, \":\", recommended_items)"
      ],
      "metadata": {
        "colab": {
          "base_uri": "https://localhost:8080/"
        },
        "id": "m73ISpuveHv4",
        "outputId": "acfcafae-fd73-4bf0-bf64-514b1e86591a"
      },
      "execution_count": 136,
      "outputs": [
        {
          "output_type": "stream",
          "name": "stdout",
          "text": [
            "Seen items for user 2329 : {22528, 23042, 23557, 23559, 23572, 22551, 23580, 16418, 23590, 23595, 15921, 23601, 23094, 21564, 23103, 23625, 23628, 22604, 23124, 23637, 16983, 23640, 23647, 23650, 23660, 23152, 23680, 23681, 21634, 20100, 18566, 20102, 21638, 20628, 22167, 22683, 21687, 19652, 19663, 21726, 23263, 23776, 16609, 23777, 23784, 23785, 20717, 20719, 23291, 23803, 21757, 22784, 20224, 21250, 23811, 22788, 23812, 23835, 20252, 19744, 23844, 23849, 23850, 16686, 23350, 16697, 23360, 16721, 18771, 16726, 23901, 23912, 23916, 22894, 22895, 22393, 20349, 22398, 22401, 22927, 22928, 22929, 15257, 23452, 23454, 23461, 23467, 23468, 23473, 21948, 23501, 22999, 23519, 23522, 23524, 23530, 16888, 20473, 22526, 22527}\n",
            "Unseen items for user 2329 : {23565, 16432, 20016, 23603, 23609, 22090, 23118, 22612, 23639, 22618, 18530, 23140, 23652, 23653, 17513, 22307, 23149, 23150, 23662, 23664, 22641, 17521, 23666, 23668, 23679, 16519, 23689, 23692, 23693, 23695, 17557, 23702, 23708, 23711, 23712, 23713, 23715, 23718, 18599, 23721, 23722, 23723, 23732, 23733, 23735, 17596, 23740, 23742, 23232, 23744, 23745, 23747, 17604, 23749, 23750, 23239, 23240, 21705, 23754, 23753, 23756, 22733, 23759, 23760, 23761, 23763, 23764, 23254, 22743, 23766, 23767, 23769, 23770, 23771, 23774, 23778, 23780, 23781, 23782, 23783, 23786, 23275, 16620, 23788, 23789, 23791, 23794, 23795, 23796, 23797, 23799, 23800, 23801, 23804, 23293, 19709, 23805, 23806, 23808, 23810, 21762, 23813, 21766, 23303, 23816, 23819, 23820, 23309, 16657, 23314, 23832, 22298, 23836, 23837, 23326, 23838, 23328, 17184, 22818, 23840, 23332, 23841, 23842, 23843, 23845, 23847, 23848, 23339, 23340, 23846, 23861, 23863, 23864, 23865, 23867, 23869, 23871, 22338, 23876, 23365, 23877, 23878, 23879, 23880, 23881, 23371, 23882, 19277, 23373, 23883, 23884, 23377, 23885, 23886, 23380, 23381, 23887, 23888, 23889, 23890, 23891, 23892, 23893, 23894, 23895, 23896, 23897, 23898, 23899, 23900, 23903, 23397, 23904, 23906, 23908, 23408, 23920, 23922, 23924, 22901, 23414, 23925, 22904, 23927, 23930, 23933, 23934, 22362, 23936, 22913, 23937, 23427, 23938, 23939, 23940, 23941, 23942, 23433, 23946, 23949, 23952, 23953, 22930, 23442, 23956, 23959, 23962, 21914, 22947, 23462, 22955, 23469, 23471, 22960, 22963, 23475, 23477, 21939, 21941, 22456, 23487, 22976, 23493, 23495, 22988, 20437, 23513, 17373, 22493, 23520, 21995, 23532}\n",
            "Recommended items for user 2329 : [23565, 16432, 20016, 23603, 23609]\n"
          ]
        }
      ]
    },
    {
      "cell_type": "code",
      "source": [
        "target_user_id = 704\n",
        "seen_items, unseen_items, recommended_items = get_top_n_recommendations(model, target_user_id, n=5)\n",
        "print(\"Seen items for user\", target_user_id, \":\", seen_items)\n",
        "print(\"Unseen items for user\", target_user_id, \":\", unseen_items)\n",
        "print(\"Recommended items for user\", target_user_id, \":\", recommended_items)"
      ],
      "metadata": {
        "colab": {
          "base_uri": "https://localhost:8080/"
        },
        "id": "azeD37GRoeAF",
        "outputId": "432dae39-bfd5-4570-e8c3-33cab8dfc2ce"
      },
      "execution_count": 137,
      "outputs": [
        {
          "output_type": "stream",
          "name": "stdout",
          "text": [
            "Seen items for user 704 : {23930, 23796}\n",
            "Unseen items for user 704 : {22528, 23557, 23559, 23565, 23572, 22551, 23580, 16418, 23590, 23595, 16432, 23601, 23603, 23609, 21564, 23625, 22604, 23628, 22612, 23637, 23639, 23640, 22618, 23647, 18530, 23650, 23652, 23653, 17513, 23660, 23662, 23664, 22641, 17521, 23666, 23668, 23679, 23680, 23681, 21634, 18566, 16519, 21638, 23689, 23692, 23693, 23695, 20628, 17557, 23702, 22683, 23708, 23711, 23712, 23713, 23715, 23718, 18599, 23721, 23722, 23723, 23732, 23733, 21687, 23735, 17596, 23740, 23742, 23744, 23745, 23747, 17604, 23749, 19652, 23750, 21705, 23754, 23753, 23756, 22733, 23759, 23760, 23761, 19663, 23763, 23764, 23766, 22743, 23767, 23769, 23770, 23771, 23774, 21726, 23776, 16609, 23777, 23778, 23780, 23781, 23782, 23783, 23784, 23785, 23786, 16620, 20717, 23788, 20719, 23789, 23791, 23794, 23795, 23797, 23799, 23800, 23801, 23803, 23804, 19709, 23805, 23806, 22784, 23808, 21757, 23810, 22788, 23811, 23812, 23813, 21762, 21766, 23816, 23819, 23820, 16657, 23832, 23835, 23836, 23837, 23838, 23840, 23841, 22818, 23842, 23843, 23844, 23845, 19744, 23847, 23848, 23849, 23850, 23846, 16686, 23861, 23863, 23864, 16697, 23865, 23867, 23869, 23871, 23876, 23877, 23878, 23879, 23880, 23881, 23882, 23883, 23884, 23885, 23886, 23887, 23888, 16721, 23889, 18771, 23890, 23891, 16726, 23892, 23893, 23894, 23895, 23896, 23897, 23898, 23899, 23900, 23901, 23903, 23904, 23906, 23908, 23912, 23916, 22894, 22895, 23920, 23922, 23924, 22901, 23925, 23927, 22904, 23933, 23934, 23936, 22913, 23937, 23938, 23939, 23940, 23941, 23942, 23946, 23949, 22927, 22928, 22929, 22930, 23952, 23953, 23956, 23959, 23962, 21914, 22947, 22955, 22960, 22963, 21939, 21941, 21948, 22976, 22988, 22999, 21995, 16888, 23042, 20016, 15921, 23094, 23103, 22090, 23118, 23124, 16983, 23140, 23149, 23150, 23152, 20100, 20102, 22167, 23232, 23239, 23240, 23254, 23263, 23275, 23291, 23293, 20224, 21250, 23303, 23309, 23314, 22298, 20252, 23326, 23328, 17184, 22307, 23332, 23339, 23340, 23350, 23360, 22338, 23365, 23371, 19277, 23373, 23377, 23380, 23381, 22362, 23397, 23408, 23414, 22393, 20349, 22398, 22401, 23427, 23433, 23442, 15257, 23452, 23454, 23461, 23462, 23467, 23468, 23469, 23471, 23473, 23475, 23477, 22456, 23487, 23493, 23495, 23501, 20437, 23513, 17373, 22493, 23519, 23520, 23522, 23524, 23530, 23532, 20473, 22526, 22527}\n",
            "Recommended items for user 704 : [22528, 23557, 23559, 23565, 23572]\n"
          ]
        }
      ]
    },
    {
      "cell_type": "code",
      "source": [
        "print(rec_feedback_df['feedback_type'].describe())  # Check if the ratings are within expected range"
      ],
      "metadata": {
        "colab": {
          "base_uri": "https://localhost:8080/"
        },
        "id": "roHc_XyFnJyX",
        "outputId": "f9e619f7-0dd3-49ac-e3b0-70bbad2853c8"
      },
      "execution_count": 138,
      "outputs": [
        {
          "output_type": "stream",
          "name": "stdout",
          "text": [
            "count       999\n",
            "unique        3\n",
            "top       click\n",
            "freq        687\n",
            "Name: feedback_type, dtype: object\n"
          ]
        }
      ]
    },
    {
      "cell_type": "code",
      "source": [
        "from collections import Counter\n",
        "print(Counter(rec_feedback_df['user_id']))  # Check how many ratings each user has\n",
        "print(Counter(rec_feedback_df['item_id']))  # Check how many ratings each item has"
      ],
      "metadata": {
        "colab": {
          "base_uri": "https://localhost:8080/"
        },
        "id": "kJ2BS-nonR6v",
        "outputId": "5ed31172-00bf-46ac-861d-e6eb7a500b97"
      },
      "execution_count": 139,
      "outputs": [
        {
          "output_type": "stream",
          "name": "stdout",
          "text": [
            "Counter({2329: 175, 1376: 108, 645: 99, 1045: 57, 726: 35, 700: 34, 2095: 33, 2115: 28, 695: 18, 1979: 17, 1144: 16, 417: 13, 777: 13, 886: 12, 1427: 11, 1058: 10, 1203: 10, 1093: 10, 1182: 9, 286: 9, 262: 9, 1958: 8, 469: 8, 2303: 7, 787: 7, 1312: 7, 678: 7, 1483: 7, 2126: 7, 980: 7, 1221: 6, 2292: 6, 273: 6, 1200: 6, 737: 6, 795: 5, 891: 5, 258: 5, 1417: 5, 1042: 5, 1184: 5, 930: 5, 707: 5, 1482: 5, 979: 5, 1760: 4, 482: 4, 704: 4, 1770: 4, 650: 4, 714: 4, 1755: 4, 1526: 4, 1397: 4, 1126: 4, 1783: 3, 1375: 3, 662: 3, 2203: 3, 425: 3, 698: 2, 1980: 2, 797: 2, 2280: 2, 1490: 2, 257: 2, 1546: 2, 691: 2, 1021: 2, 1798: 2, 270: 2, 1085: 2, 876: 2, 1477: 2, 2258: 2, 1108: 2, 1540: 2, 1717: 2, 1192: 2, 287: 2, 349: 2, 676: 2, 1711: 2, 2281: 2, 1749: 2, 1349: 2, 268: 1, 1147: 1, 1362: 1, 1245: 1, 1244: 1, 1993: 1, 2301: 1, 848: 1, 1984: 1, 1814: 1, 646: 1, 2163: 1, 1356: 1, 333: 1, 1602: 1, 272: 1, 1495: 1, 2252: 1, 261: 1, 2139: 1, 679: 1})\n",
            "Counter({23749: 69, 23769: 32, 23820: 30, 23930: 22, 23786: 22, 23796: 18, 23939: 17, 23740: 16, 23841: 15, 23900: 15, 23904: 13, 23819: 11, 23941: 9, 23933: 9, 23781: 9, 23937: 8, 23901: 8, 16620: 8, 23946: 7, 23906: 7, 22988: 7, 23953: 6, 23850: 6, 23785: 6, 23876: 6, 23885: 6, 23803: 6, 23888: 6, 23771: 6, 23847: 5, 23849: 5, 23894: 5, 23887: 5, 23886: 5, 23326: 5, 23732: 5, 23784: 5, 23865: 5, 23309: 5, 23747: 5, 23788: 5, 23845: 4, 23896: 4, 23795: 4, 23812: 4, 23835: 4, 23232: 4, 23408: 4, 23846: 4, 23702: 4, 22929: 4, 23350: 4, 23764: 4, 23760: 4, 23777: 4, 23722: 4, 23628: 4, 23042: 4, 23774: 4, 23780: 4, 23942: 3, 23848: 3, 22927: 3, 23782: 3, 23832: 3, 23838: 3, 23912: 3, 23890: 3, 23880: 3, 23899: 3, 23878: 3, 23679: 3, 23891: 3, 23895: 3, 23532: 3, 23501: 3, 23524: 3, 23580: 3, 23559: 3, 23572: 3, 22947: 3, 23094: 3, 23666: 3, 23522: 3, 23811: 3, 23530: 3, 23473: 3, 23837: 3, 23733: 3, 23360: 3, 23680: 3, 23365: 3, 23742: 3, 23799: 3, 23766: 3, 23149: 3, 23314: 2, 23959: 2, 18530: 2, 18599: 2, 17184: 2, 17373: 2, 17513: 2, 17596: 2, 22456: 2, 22618: 2, 22641: 2, 23377: 2, 22362: 2, 19277: 2, 22298: 2, 22307: 2, 23339: 2, 23801: 2, 23805: 2, 23920: 2, 23861: 2, 16888: 2, 15921: 2, 18566: 2, 21687: 2, 23927: 2, 23844: 2, 23916: 2, 21948: 2, 19652: 2, 19744: 2, 22527: 2, 23877: 2, 23882: 2, 23884: 2, 23471: 2, 23883: 2, 23892: 2, 23893: 2, 20102: 2, 22167: 2, 16726: 2, 22788: 2, 23625: 2, 23240: 2, 23427: 2, 23442: 2, 23903: 2, 23879: 2, 23452: 2, 23565: 2, 23889: 2, 22393: 2, 22683: 2, 22784: 2, 23711: 2, 23843: 2, 22928: 2, 23467: 2, 23776: 2, 22894: 2, 22604: 2, 22528: 2, 20100: 2, 20224: 2, 23816: 2, 23454: 2, 23595: 2, 23650: 2, 23797: 2, 20252: 2, 21250: 2, 20473: 2, 23804: 2, 23806: 2, 23813: 2, 23140: 2, 23557: 2, 23590: 2, 23660: 2, 23291: 2, 23152: 2, 23468: 2, 23254: 2, 23328: 2, 23750: 2, 23759: 2, 23800: 2, 18771: 2, 21638: 2, 21726: 2, 22398: 2, 22401: 2, 23647: 2, 23639: 2, 17521: 2, 23778: 2, 23693: 2, 23761: 2, 21634: 2, 22904: 2, 23723: 2, 20349: 2, 23124: 2, 20628: 2, 23103: 2, 23461: 2, 23637: 2, 23681: 2, 15257: 2, 22551: 2, 23745: 2, 23239: 2, 16686: 2, 19663: 2, 23373: 2, 22526: 2, 23381: 2, 22895: 2, 23952: 1, 23303: 1, 23962: 1, 23414: 1, 16519: 1, 20016: 1, 22493: 1, 22612: 1, 22733: 1, 22743: 1, 22818: 1, 23936: 1, 23934: 1, 23938: 1, 23940: 1, 23949: 1, 23371: 1, 23380: 1, 23956: 1, 19709: 1, 17557: 1, 17604: 1, 21705: 1, 21914: 1, 21941: 1, 21939: 1, 22090: 1, 21995: 1, 22338: 1, 22930: 1, 23808: 1, 23869: 1, 23867: 1, 23863: 1, 23836: 1, 23908: 1, 23924: 1, 23922: 1, 23925: 1, 20719: 1, 23881: 1, 23898: 1, 23897: 1, 23477: 1, 23520: 1, 23603: 1, 16432: 1, 20437: 1, 22963: 1, 23842: 1, 23864: 1, 23871: 1, 16697: 1, 16609: 1, 16721: 1, 16983: 1, 23695: 1, 16418: 1, 23715: 1, 23718: 1, 23519: 1, 23840: 1, 20717: 1, 23810: 1, 21762: 1, 21766: 1, 22901: 1, 23118: 1, 23601: 1, 23150: 1, 23275: 1, 23293: 1, 23332: 1, 23340: 1, 23433: 1, 23668: 1, 23767: 1, 23789: 1, 23791: 1, 22955: 1, 21757: 1, 21564: 1, 23475: 1, 23495: 1, 23513: 1, 23609: 1, 23770: 1, 23794: 1, 23493: 1, 16657: 1, 23783: 1, 23756: 1, 23763: 1, 22913: 1, 23487: 1, 23263: 1, 22976: 1, 23640: 1, 23754: 1, 22960: 1, 23462: 1, 23712: 1, 23713: 1, 23744: 1, 23397: 1, 23735: 1, 23753: 1, 23469: 1, 23653: 1, 23662: 1, 23692: 1, 23689: 1, 23652: 1, 23664: 1, 23721: 1, 23708: 1, 22999: 1})\n"
          ]
        }
      ]
    }
  ]
}