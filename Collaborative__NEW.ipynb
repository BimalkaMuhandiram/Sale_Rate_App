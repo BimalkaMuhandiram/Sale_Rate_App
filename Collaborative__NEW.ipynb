{
  "nbformat": 4,
  "nbformat_minor": 0,
  "metadata": {
    "colab": {
      "provenance": []
    },
    "kernelspec": {
      "name": "python3",
      "display_name": "Python 3"
    },
    "language_info": {
      "name": "python"
    }
  },
  "cells": [
    {
      "cell_type": "code",
      "source": [
        "# For Building recommender systems\n",
        "!pip install scikit-surprise"
      ],
      "metadata": {
        "colab": {
          "base_uri": "https://localhost:8080/"
        },
        "id": "TiTTPYUPePuJ",
        "outputId": "9b3d9535-f32c-413b-eefd-0a9c81bd19eb"
      },
      "execution_count": 341,
      "outputs": [
        {
          "output_type": "stream",
          "name": "stdout",
          "text": [
            "Requirement already satisfied: scikit-surprise in /usr/local/lib/python3.11/dist-packages (1.1.4)\n",
            "Requirement already satisfied: joblib>=1.2.0 in /usr/local/lib/python3.11/dist-packages (from scikit-surprise) (1.4.2)\n",
            "Requirement already satisfied: numpy>=1.19.5 in /usr/local/lib/python3.11/dist-packages (from scikit-surprise) (1.26.4)\n",
            "Requirement already satisfied: scipy>=1.6.0 in /usr/local/lib/python3.11/dist-packages (from scikit-surprise) (1.13.1)\n"
          ]
        }
      ]
    },
    {
      "cell_type": "code",
      "source": [
        "import pandas as pd\n",
        "from datetime import datetime\n",
        "from surprise import Dataset, Reader, SVD\n",
        "from surprise.model_selection import train_test_split, cross_validate\n",
        "from surprise.accuracy import rmse\n",
        "import joblib"
      ],
      "metadata": {
        "id": "6g1TGk1jUPT0"
      },
      "execution_count": 342,
      "outputs": []
    },
    {
      "cell_type": "code",
      "execution_count": 343,
      "metadata": {
        "id": "TDKk6FjUTv8z"
      },
      "outputs": [],
      "source": [
        "news_df = pd.read_csv('/content/news.csv')\n",
        "rec_items_df = pd.read_csv('/content/rec_items.csv')\n",
        "rec_feedback_df = pd.read_csv('/content/rec_feedback.csv')\n",
        "users_df = pd.read_csv('/content/users.csv')\n",
        "rec_users_df = pd.read_csv('/content/rec_users.csv')"
      ]
    },
    {
      "cell_type": "code",
      "source": [
        "rec_feedback_df.head() # Display the first 5 rows"
      ],
      "metadata": {
        "colab": {
          "base_uri": "https://localhost:8080/",
          "height": 313
        },
        "id": "FTePOFOlUWF6",
        "outputId": "dd74e655-08b7-4c84-a14b-17f1517c289e"
      },
      "execution_count": 344,
      "outputs": [
        {
          "output_type": "execute_result",
          "data": {
            "text/plain": [
              "      id feedback_type                  time_stamp  comment  user_id  item_id  \\\n",
              "0  49554         click  2025-02-13 10:03:47.440412      NaN     1182    23942   \n",
              "1  49553          read  2025-02-13 10:03:42.411734      NaN     1182    23942   \n",
              "2  49552         click  2025-02-13 10:01:54.947236      NaN     1058    23942   \n",
              "3  49550         click  2025-02-13 10:01:31.955569      NaN     1058    23930   \n",
              "4  49549         click  2025-02-13 10:01:10.809916      NaN     1058    23941   \n",
              "\n",
              "   created_at  updated_at  created_by_id  updated_by_id  \n",
              "0         NaN         NaN            NaN            NaN  \n",
              "1         NaN         NaN            NaN            NaN  \n",
              "2         NaN         NaN            NaN            NaN  \n",
              "3         NaN         NaN            NaN            NaN  \n",
              "4         NaN         NaN            NaN            NaN  "
            ],
            "text/html": [
              "\n",
              "  <div id=\"df-ed656377-2a85-4cbe-a9ce-d82f3f8e90c8\" class=\"colab-df-container\">\n",
              "    <div>\n",
              "<style scoped>\n",
              "    .dataframe tbody tr th:only-of-type {\n",
              "        vertical-align: middle;\n",
              "    }\n",
              "\n",
              "    .dataframe tbody tr th {\n",
              "        vertical-align: top;\n",
              "    }\n",
              "\n",
              "    .dataframe thead th {\n",
              "        text-align: right;\n",
              "    }\n",
              "</style>\n",
              "<table border=\"1\" class=\"dataframe\">\n",
              "  <thead>\n",
              "    <tr style=\"text-align: right;\">\n",
              "      <th></th>\n",
              "      <th>id</th>\n",
              "      <th>feedback_type</th>\n",
              "      <th>time_stamp</th>\n",
              "      <th>comment</th>\n",
              "      <th>user_id</th>\n",
              "      <th>item_id</th>\n",
              "      <th>created_at</th>\n",
              "      <th>updated_at</th>\n",
              "      <th>created_by_id</th>\n",
              "      <th>updated_by_id</th>\n",
              "    </tr>\n",
              "  </thead>\n",
              "  <tbody>\n",
              "    <tr>\n",
              "      <th>0</th>\n",
              "      <td>49554</td>\n",
              "      <td>click</td>\n",
              "      <td>2025-02-13 10:03:47.440412</td>\n",
              "      <td>NaN</td>\n",
              "      <td>1182</td>\n",
              "      <td>23942</td>\n",
              "      <td>NaN</td>\n",
              "      <td>NaN</td>\n",
              "      <td>NaN</td>\n",
              "      <td>NaN</td>\n",
              "    </tr>\n",
              "    <tr>\n",
              "      <th>1</th>\n",
              "      <td>49553</td>\n",
              "      <td>read</td>\n",
              "      <td>2025-02-13 10:03:42.411734</td>\n",
              "      <td>NaN</td>\n",
              "      <td>1182</td>\n",
              "      <td>23942</td>\n",
              "      <td>NaN</td>\n",
              "      <td>NaN</td>\n",
              "      <td>NaN</td>\n",
              "      <td>NaN</td>\n",
              "    </tr>\n",
              "    <tr>\n",
              "      <th>2</th>\n",
              "      <td>49552</td>\n",
              "      <td>click</td>\n",
              "      <td>2025-02-13 10:01:54.947236</td>\n",
              "      <td>NaN</td>\n",
              "      <td>1058</td>\n",
              "      <td>23942</td>\n",
              "      <td>NaN</td>\n",
              "      <td>NaN</td>\n",
              "      <td>NaN</td>\n",
              "      <td>NaN</td>\n",
              "    </tr>\n",
              "    <tr>\n",
              "      <th>3</th>\n",
              "      <td>49550</td>\n",
              "      <td>click</td>\n",
              "      <td>2025-02-13 10:01:31.955569</td>\n",
              "      <td>NaN</td>\n",
              "      <td>1058</td>\n",
              "      <td>23930</td>\n",
              "      <td>NaN</td>\n",
              "      <td>NaN</td>\n",
              "      <td>NaN</td>\n",
              "      <td>NaN</td>\n",
              "    </tr>\n",
              "    <tr>\n",
              "      <th>4</th>\n",
              "      <td>49549</td>\n",
              "      <td>click</td>\n",
              "      <td>2025-02-13 10:01:10.809916</td>\n",
              "      <td>NaN</td>\n",
              "      <td>1058</td>\n",
              "      <td>23941</td>\n",
              "      <td>NaN</td>\n",
              "      <td>NaN</td>\n",
              "      <td>NaN</td>\n",
              "      <td>NaN</td>\n",
              "    </tr>\n",
              "  </tbody>\n",
              "</table>\n",
              "</div>\n",
              "    <div class=\"colab-df-buttons\">\n",
              "\n",
              "  <div class=\"colab-df-container\">\n",
              "    <button class=\"colab-df-convert\" onclick=\"convertToInteractive('df-ed656377-2a85-4cbe-a9ce-d82f3f8e90c8')\"\n",
              "            title=\"Convert this dataframe to an interactive table.\"\n",
              "            style=\"display:none;\">\n",
              "\n",
              "  <svg xmlns=\"http://www.w3.org/2000/svg\" height=\"24px\" viewBox=\"0 -960 960 960\">\n",
              "    <path d=\"M120-120v-720h720v720H120Zm60-500h600v-160H180v160Zm220 220h160v-160H400v160Zm0 220h160v-160H400v160ZM180-400h160v-160H180v160Zm440 0h160v-160H620v160ZM180-180h160v-160H180v160Zm440 0h160v-160H620v160Z\"/>\n",
              "  </svg>\n",
              "    </button>\n",
              "\n",
              "  <style>\n",
              "    .colab-df-container {\n",
              "      display:flex;\n",
              "      gap: 12px;\n",
              "    }\n",
              "\n",
              "    .colab-df-convert {\n",
              "      background-color: #E8F0FE;\n",
              "      border: none;\n",
              "      border-radius: 50%;\n",
              "      cursor: pointer;\n",
              "      display: none;\n",
              "      fill: #1967D2;\n",
              "      height: 32px;\n",
              "      padding: 0 0 0 0;\n",
              "      width: 32px;\n",
              "    }\n",
              "\n",
              "    .colab-df-convert:hover {\n",
              "      background-color: #E2EBFA;\n",
              "      box-shadow: 0px 1px 2px rgba(60, 64, 67, 0.3), 0px 1px 3px 1px rgba(60, 64, 67, 0.15);\n",
              "      fill: #174EA6;\n",
              "    }\n",
              "\n",
              "    .colab-df-buttons div {\n",
              "      margin-bottom: 4px;\n",
              "    }\n",
              "\n",
              "    [theme=dark] .colab-df-convert {\n",
              "      background-color: #3B4455;\n",
              "      fill: #D2E3FC;\n",
              "    }\n",
              "\n",
              "    [theme=dark] .colab-df-convert:hover {\n",
              "      background-color: #434B5C;\n",
              "      box-shadow: 0px 1px 3px 1px rgba(0, 0, 0, 0.15);\n",
              "      filter: drop-shadow(0px 1px 2px rgba(0, 0, 0, 0.3));\n",
              "      fill: #FFFFFF;\n",
              "    }\n",
              "  </style>\n",
              "\n",
              "    <script>\n",
              "      const buttonEl =\n",
              "        document.querySelector('#df-ed656377-2a85-4cbe-a9ce-d82f3f8e90c8 button.colab-df-convert');\n",
              "      buttonEl.style.display =\n",
              "        google.colab.kernel.accessAllowed ? 'block' : 'none';\n",
              "\n",
              "      async function convertToInteractive(key) {\n",
              "        const element = document.querySelector('#df-ed656377-2a85-4cbe-a9ce-d82f3f8e90c8');\n",
              "        const dataTable =\n",
              "          await google.colab.kernel.invokeFunction('convertToInteractive',\n",
              "                                                    [key], {});\n",
              "        if (!dataTable) return;\n",
              "\n",
              "        const docLinkHtml = 'Like what you see? Visit the ' +\n",
              "          '<a target=\"_blank\" href=https://colab.research.google.com/notebooks/data_table.ipynb>data table notebook</a>'\n",
              "          + ' to learn more about interactive tables.';\n",
              "        element.innerHTML = '';\n",
              "        dataTable['output_type'] = 'display_data';\n",
              "        await google.colab.output.renderOutput(dataTable, element);\n",
              "        const docLink = document.createElement('div');\n",
              "        docLink.innerHTML = docLinkHtml;\n",
              "        element.appendChild(docLink);\n",
              "      }\n",
              "    </script>\n",
              "  </div>\n",
              "\n",
              "\n",
              "<div id=\"df-e6e9ecf0-197e-489f-942c-205c4dab72cf\">\n",
              "  <button class=\"colab-df-quickchart\" onclick=\"quickchart('df-e6e9ecf0-197e-489f-942c-205c4dab72cf')\"\n",
              "            title=\"Suggest charts\"\n",
              "            style=\"display:none;\">\n",
              "\n",
              "<svg xmlns=\"http://www.w3.org/2000/svg\" height=\"24px\"viewBox=\"0 0 24 24\"\n",
              "     width=\"24px\">\n",
              "    <g>\n",
              "        <path d=\"M19 3H5c-1.1 0-2 .9-2 2v14c0 1.1.9 2 2 2h14c1.1 0 2-.9 2-2V5c0-1.1-.9-2-2-2zM9 17H7v-7h2v7zm4 0h-2V7h2v10zm4 0h-2v-4h2v4z\"/>\n",
              "    </g>\n",
              "</svg>\n",
              "  </button>\n",
              "\n",
              "<style>\n",
              "  .colab-df-quickchart {\n",
              "      --bg-color: #E8F0FE;\n",
              "      --fill-color: #1967D2;\n",
              "      --hover-bg-color: #E2EBFA;\n",
              "      --hover-fill-color: #174EA6;\n",
              "      --disabled-fill-color: #AAA;\n",
              "      --disabled-bg-color: #DDD;\n",
              "  }\n",
              "\n",
              "  [theme=dark] .colab-df-quickchart {\n",
              "      --bg-color: #3B4455;\n",
              "      --fill-color: #D2E3FC;\n",
              "      --hover-bg-color: #434B5C;\n",
              "      --hover-fill-color: #FFFFFF;\n",
              "      --disabled-bg-color: #3B4455;\n",
              "      --disabled-fill-color: #666;\n",
              "  }\n",
              "\n",
              "  .colab-df-quickchart {\n",
              "    background-color: var(--bg-color);\n",
              "    border: none;\n",
              "    border-radius: 50%;\n",
              "    cursor: pointer;\n",
              "    display: none;\n",
              "    fill: var(--fill-color);\n",
              "    height: 32px;\n",
              "    padding: 0;\n",
              "    width: 32px;\n",
              "  }\n",
              "\n",
              "  .colab-df-quickchart:hover {\n",
              "    background-color: var(--hover-bg-color);\n",
              "    box-shadow: 0 1px 2px rgba(60, 64, 67, 0.3), 0 1px 3px 1px rgba(60, 64, 67, 0.15);\n",
              "    fill: var(--button-hover-fill-color);\n",
              "  }\n",
              "\n",
              "  .colab-df-quickchart-complete:disabled,\n",
              "  .colab-df-quickchart-complete:disabled:hover {\n",
              "    background-color: var(--disabled-bg-color);\n",
              "    fill: var(--disabled-fill-color);\n",
              "    box-shadow: none;\n",
              "  }\n",
              "\n",
              "  .colab-df-spinner {\n",
              "    border: 2px solid var(--fill-color);\n",
              "    border-color: transparent;\n",
              "    border-bottom-color: var(--fill-color);\n",
              "    animation:\n",
              "      spin 1s steps(1) infinite;\n",
              "  }\n",
              "\n",
              "  @keyframes spin {\n",
              "    0% {\n",
              "      border-color: transparent;\n",
              "      border-bottom-color: var(--fill-color);\n",
              "      border-left-color: var(--fill-color);\n",
              "    }\n",
              "    20% {\n",
              "      border-color: transparent;\n",
              "      border-left-color: var(--fill-color);\n",
              "      border-top-color: var(--fill-color);\n",
              "    }\n",
              "    30% {\n",
              "      border-color: transparent;\n",
              "      border-left-color: var(--fill-color);\n",
              "      border-top-color: var(--fill-color);\n",
              "      border-right-color: var(--fill-color);\n",
              "    }\n",
              "    40% {\n",
              "      border-color: transparent;\n",
              "      border-right-color: var(--fill-color);\n",
              "      border-top-color: var(--fill-color);\n",
              "    }\n",
              "    60% {\n",
              "      border-color: transparent;\n",
              "      border-right-color: var(--fill-color);\n",
              "    }\n",
              "    80% {\n",
              "      border-color: transparent;\n",
              "      border-right-color: var(--fill-color);\n",
              "      border-bottom-color: var(--fill-color);\n",
              "    }\n",
              "    90% {\n",
              "      border-color: transparent;\n",
              "      border-bottom-color: var(--fill-color);\n",
              "    }\n",
              "  }\n",
              "</style>\n",
              "\n",
              "  <script>\n",
              "    async function quickchart(key) {\n",
              "      const quickchartButtonEl =\n",
              "        document.querySelector('#' + key + ' button');\n",
              "      quickchartButtonEl.disabled = true;  // To prevent multiple clicks.\n",
              "      quickchartButtonEl.classList.add('colab-df-spinner');\n",
              "      try {\n",
              "        const charts = await google.colab.kernel.invokeFunction(\n",
              "            'suggestCharts', [key], {});\n",
              "      } catch (error) {\n",
              "        console.error('Error during call to suggestCharts:', error);\n",
              "      }\n",
              "      quickchartButtonEl.classList.remove('colab-df-spinner');\n",
              "      quickchartButtonEl.classList.add('colab-df-quickchart-complete');\n",
              "    }\n",
              "    (() => {\n",
              "      let quickchartButtonEl =\n",
              "        document.querySelector('#df-e6e9ecf0-197e-489f-942c-205c4dab72cf button');\n",
              "      quickchartButtonEl.style.display =\n",
              "        google.colab.kernel.accessAllowed ? 'block' : 'none';\n",
              "    })();\n",
              "  </script>\n",
              "</div>\n",
              "\n",
              "    </div>\n",
              "  </div>\n"
            ],
            "application/vnd.google.colaboratory.intrinsic+json": {
              "type": "dataframe",
              "variable_name": "rec_feedback_df",
              "summary": "{\n  \"name\": \"rec_feedback_df\",\n  \"rows\": 1000,\n  \"fields\": [\n    {\n      \"column\": \"id\",\n      \"properties\": {\n        \"dtype\": \"number\",\n        \"std\": 359,\n        \"min\": 48319,\n        \"max\": 49554,\n        \"num_unique_values\": 1000,\n        \"samples\": [\n          48929,\n          48655,\n          48651\n        ],\n        \"semantic_type\": \"\",\n        \"description\": \"\"\n      }\n    },\n    {\n      \"column\": \"feedback_type\",\n      \"properties\": {\n        \"dtype\": \"category\",\n        \"num_unique_values\": 4,\n        \"samples\": [\n          \"read\",\n          \"share\",\n          \"click\"\n        ],\n        \"semantic_type\": \"\",\n        \"description\": \"\"\n      }\n    },\n    {\n      \"column\": \"time_stamp\",\n      \"properties\": {\n        \"dtype\": \"object\",\n        \"num_unique_values\": 1000,\n        \"samples\": [\n          \"2025-02-11 04:42:23.677528\",\n          \"2025-02-10 09:36:41.947892\",\n          \"2025-02-10 09:26:31.421717\"\n        ],\n        \"semantic_type\": \"\",\n        \"description\": \"\"\n      }\n    },\n    {\n      \"column\": \"comment\",\n      \"properties\": {\n        \"dtype\": \"number\",\n        \"std\": null,\n        \"min\": null,\n        \"max\": null,\n        \"num_unique_values\": 0,\n        \"samples\": [],\n        \"semantic_type\": \"\",\n        \"description\": \"\"\n      }\n    },\n    {\n      \"column\": \"user_id\",\n      \"properties\": {\n        \"dtype\": \"number\",\n        \"std\": 665,\n        \"min\": 257,\n        \"max\": 2329,\n        \"num_unique_values\": 107,\n        \"samples\": [],\n        \"semantic_type\": \"\",\n        \"description\": \"\"\n      }\n    },\n    {\n      \"column\": \"item_id\",\n      \"properties\": {\n        \"dtype\": \"number\",\n        \"std\": 1533,\n        \"min\": 15257,\n        \"max\": 23962,\n        \"num_unique_values\": 332,\n        \"samples\": [],\n        \"semantic_type\": \"\",\n        \"description\": \"\"\n      }\n    },\n    {\n      \"column\": \"created_at\",\n      \"properties\": {\n        \"dtype\": \"number\",\n        \"std\": null,\n        \"min\": null,\n        \"max\": null,\n        \"num_unique_values\": 0,\n        \"samples\": [],\n        \"semantic_type\": \"\",\n        \"description\": \"\"\n      }\n    },\n    {\n      \"column\": \"updated_at\",\n      \"properties\": {\n        \"dtype\": \"number\",\n        \"std\": null,\n        \"min\": null,\n        \"max\": null,\n        \"num_unique_values\": 0,\n        \"samples\": [],\n        \"semantic_type\": \"\",\n        \"description\": \"\"\n      }\n    },\n    {\n      \"column\": \"created_by_id\",\n      \"properties\": {\n        \"dtype\": \"number\",\n        \"std\": null,\n        \"min\": null,\n        \"max\": null,\n        \"num_unique_values\": 0,\n        \"samples\": [],\n        \"semantic_type\": \"\",\n        \"description\": \"\"\n      }\n    },\n    {\n      \"column\": \"updated_by_id\",\n      \"properties\": {\n        \"dtype\": \"number\",\n        \"std\": null,\n        \"min\": null,\n        \"max\": null,\n        \"num_unique_values\": 0,\n        \"samples\": [],\n        \"semantic_type\": \"\",\n        \"description\": \"\"\n      }\n    }\n  ]\n}"
            }
          },
          "metadata": {},
          "execution_count": 344
        }
      ]
    },
    {
      "cell_type": "code",
      "source": [
        "# Display the data types of each column\n",
        "rec_feedback_df.dtypes"
      ],
      "metadata": {
        "colab": {
          "base_uri": "https://localhost:8080/",
          "height": 398
        },
        "id": "2m43N_3jUZDK",
        "outputId": "b4c57195-d3c7-46a6-e6ea-c487fff2cf5d"
      },
      "execution_count": 345,
      "outputs": [
        {
          "output_type": "execute_result",
          "data": {
            "text/plain": [
              "id                 int64\n",
              "feedback_type     object\n",
              "time_stamp        object\n",
              "comment          float64\n",
              "user_id            int64\n",
              "item_id            int64\n",
              "created_at       float64\n",
              "updated_at       float64\n",
              "created_by_id    float64\n",
              "updated_by_id    float64\n",
              "dtype: object"
            ],
            "text/html": [
              "<div>\n",
              "<style scoped>\n",
              "    .dataframe tbody tr th:only-of-type {\n",
              "        vertical-align: middle;\n",
              "    }\n",
              "\n",
              "    .dataframe tbody tr th {\n",
              "        vertical-align: top;\n",
              "    }\n",
              "\n",
              "    .dataframe thead th {\n",
              "        text-align: right;\n",
              "    }\n",
              "</style>\n",
              "<table border=\"1\" class=\"dataframe\">\n",
              "  <thead>\n",
              "    <tr style=\"text-align: right;\">\n",
              "      <th></th>\n",
              "      <th>0</th>\n",
              "    </tr>\n",
              "  </thead>\n",
              "  <tbody>\n",
              "    <tr>\n",
              "      <th>id</th>\n",
              "      <td>int64</td>\n",
              "    </tr>\n",
              "    <tr>\n",
              "      <th>feedback_type</th>\n",
              "      <td>object</td>\n",
              "    </tr>\n",
              "    <tr>\n",
              "      <th>time_stamp</th>\n",
              "      <td>object</td>\n",
              "    </tr>\n",
              "    <tr>\n",
              "      <th>comment</th>\n",
              "      <td>float64</td>\n",
              "    </tr>\n",
              "    <tr>\n",
              "      <th>user_id</th>\n",
              "      <td>int64</td>\n",
              "    </tr>\n",
              "    <tr>\n",
              "      <th>item_id</th>\n",
              "      <td>int64</td>\n",
              "    </tr>\n",
              "    <tr>\n",
              "      <th>created_at</th>\n",
              "      <td>float64</td>\n",
              "    </tr>\n",
              "    <tr>\n",
              "      <th>updated_at</th>\n",
              "      <td>float64</td>\n",
              "    </tr>\n",
              "    <tr>\n",
              "      <th>created_by_id</th>\n",
              "      <td>float64</td>\n",
              "    </tr>\n",
              "    <tr>\n",
              "      <th>updated_by_id</th>\n",
              "      <td>float64</td>\n",
              "    </tr>\n",
              "  </tbody>\n",
              "</table>\n",
              "</div><br><label><b>dtype:</b> object</label>"
            ]
          },
          "metadata": {},
          "execution_count": 345
        }
      ]
    },
    {
      "cell_type": "code",
      "source": [
        "# Print the number of missing (null) values\n",
        "print(rec_feedback_df.isnull().sum())"
      ],
      "metadata": {
        "colab": {
          "base_uri": "https://localhost:8080/"
        },
        "id": "vvEPFQH7Uf0C",
        "outputId": "46920bdf-dd7d-4810-f852-06418601194b"
      },
      "execution_count": 346,
      "outputs": [
        {
          "output_type": "stream",
          "name": "stdout",
          "text": [
            "id                  0\n",
            "feedback_type       0\n",
            "time_stamp          0\n",
            "comment          1000\n",
            "user_id             0\n",
            "item_id             0\n",
            "created_at       1000\n",
            "updated_at       1000\n",
            "created_by_id    1000\n",
            "updated_by_id    1000\n",
            "dtype: int64\n"
          ]
        }
      ]
    },
    {
      "cell_type": "code",
      "source": [
        "# Drop unnecessary columns from the DataFrame\n",
        "rec_feedback_df.drop(columns=[\"comment\", \"created_at\", \"updated_at\", \"created_by_id\", \"updated_by_id\"], inplace=True)"
      ],
      "metadata": {
        "id": "bNkw69qtUj0x"
      },
      "execution_count": 347,
      "outputs": []
    },
    {
      "cell_type": "code",
      "source": [
        "print(rec_feedback_df.isnull().sum())"
      ],
      "metadata": {
        "colab": {
          "base_uri": "https://localhost:8080/"
        },
        "id": "Qf9wdr_OUk4h",
        "outputId": "405e9d00-23bb-4545-bb6c-20a12fb2830e"
      },
      "execution_count": 348,
      "outputs": [
        {
          "output_type": "stream",
          "name": "stdout",
          "text": [
            "id               0\n",
            "feedback_type    0\n",
            "time_stamp       0\n",
            "user_id          0\n",
            "item_id          0\n",
            "dtype: int64\n"
          ]
        }
      ]
    },
    {
      "cell_type": "code",
      "source": [
        "interaction_weights = {'click': 1, 'read': 2, 'like': 3} # Define a dictionary mapping interaction types to numerical weights\n",
        "rec_feedback_df['weight'] = rec_feedback_df['feedback_type'].map(interaction_weights) # Map the interaction type to its corresponding weight and create a new 'weight' column"
      ],
      "metadata": {
        "id": "ZtAyjc2SUnS5"
      },
      "execution_count": 349,
      "outputs": []
    },
    {
      "cell_type": "code",
      "source": [
        "# Convert 'time_stamp' column to datetime format\n",
        "rec_feedback_df[\"time_stamp\"] = pd.to_datetime(rec_feedback_df[\"time_stamp\"], errors='coerce')"
      ],
      "metadata": {
        "id": "EHBbEJmWUxDx"
      },
      "execution_count": 350,
      "outputs": []
    },
    {
      "cell_type": "code",
      "source": [
        "# Handle missing values by dropping rows with NaN timestamps\n",
        "rec_feedback_df.dropna(subset=[\"time_stamp\"], inplace=True)"
      ],
      "metadata": {
        "id": "tNsNx2lsVRzH"
      },
      "execution_count": 351,
      "outputs": []
    },
    {
      "cell_type": "code",
      "source": [
        "from datetime import datetime\n",
        "\n",
        "current_time = datetime.now() # Get the current date and time as a datetime object\n",
        "print(current_time)"
      ],
      "metadata": {
        "colab": {
          "base_uri": "https://localhost:8080/"
        },
        "id": "OSYUK7JUVYpQ",
        "outputId": "abf5abc4-fd48-4105-aad1-3ca2d88a9670"
      },
      "execution_count": 352,
      "outputs": [
        {
          "output_type": "stream",
          "name": "stdout",
          "text": [
            "2025-02-25 11:05:53.486589\n"
          ]
        }
      ]
    },
    {
      "cell_type": "code",
      "source": [
        "# Apply time decay factor\n",
        "current_time = datetime.now()\n",
        "time_decay_factor = 0.9\n",
        "rec_feedback_df['time_weight'] = rec_feedback_df['time_stamp'].apply(\n",
        "    lambda x: time_decay_factor ** ((current_time - x).days)\n",
        ")"
      ],
      "metadata": {
        "id": "kXrpKYN4Vhq_"
      },
      "execution_count": 353,
      "outputs": []
    },
    {
      "cell_type": "code",
      "source": [
        "# Calculate the final weight by multiplying the interaction weight with the time decay weight\n",
        "rec_feedback_df['final_weight'] = rec_feedback_df['weight'] * rec_feedback_df['time_weight']\n",
        "\n",
        "print(rec_feedback_df[['weight', 'time_weight', 'final_weight']])"
      ],
      "metadata": {
        "colab": {
          "base_uri": "https://localhost:8080/"
        },
        "id": "z88DoZwcVvym",
        "outputId": "c518f2cc-d3a2-4237-85e0-1cae9968472e"
      },
      "execution_count": 354,
      "outputs": [
        {
          "output_type": "stream",
          "name": "stdout",
          "text": [
            "     weight  time_weight  final_weight\n",
            "0       1.0     0.282430      0.282430\n",
            "1       2.0     0.282430      0.564859\n",
            "2       1.0     0.282430      0.282430\n",
            "3       1.0     0.282430      0.282430\n",
            "4       1.0     0.282430      0.282430\n",
            "..      ...          ...           ...\n",
            "995     1.0     0.205891      0.205891\n",
            "996     1.0     0.205891      0.205891\n",
            "997     2.0     0.205891      0.411782\n",
            "998     1.0     0.205891      0.205891\n",
            "999     1.0     0.205891      0.205891\n",
            "\n",
            "[1000 rows x 3 columns]\n"
          ]
        }
      ]
    },
    {
      "cell_type": "code",
      "source": [
        "# Prepare data for Surprise library\n",
        "reader = Reader(rating_scale=(1, 5))\n",
        "data = Dataset.load_from_df(rec_feedback_df[['user_id', 'item_id', 'final_weight']], reader)"
      ],
      "metadata": {
        "id": "tQCasemOd9-4"
      },
      "execution_count": 355,
      "outputs": []
    },
    {
      "cell_type": "code",
      "source": [
        "# Train-test split\n",
        "trainset, testset = train_test_split(data, test_size=0.2, random_state=42)"
      ],
      "metadata": {
        "id": "cg20BgCTd_-o"
      },
      "execution_count": 356,
      "outputs": []
    },
    {
      "cell_type": "code",
      "source": [
        "# Train an SVD model\n",
        "model = SVD()\n",
        "model.fit(trainset)"
      ],
      "metadata": {
        "colab": {
          "base_uri": "https://localhost:8080/"
        },
        "id": "VBQh1alpeBwh",
        "outputId": "9f72e630-b910-4171-ef6e-2846a5d82e39"
      },
      "execution_count": 357,
      "outputs": [
        {
          "output_type": "execute_result",
          "data": {
            "text/plain": [
              "<surprise.prediction_algorithms.matrix_factorization.SVD at 0x7e288b17e990>"
            ]
          },
          "metadata": {},
          "execution_count": 357
        }
      ]
    },
    {
      "cell_type": "code",
      "source": [
        "# Function to get top-N recommendations ensuring unseen items only\n",
        "def get_top_n_recommendations(model, user_id, n=5):\n",
        "    unique_items = set(rec_feedback_df['item_id'].unique())\n",
        "    user_items = set(rec_feedback_df[rec_feedback_df['user_id'] == user_id]['item_id'].tolist())\n",
        "    unseen_items = unique_items - user_items  # Exclude already interacted items\n",
        "\n",
        "    # If the user is new or has interacted with all items, return popular items\n",
        "    if not unseen_items:\n",
        "        popular_items = rec_feedback_df.groupby('item_id')['weight'].sum().sort_values(ascending=False).index[:n].tolist()\n",
        "        return user_items, unseen_items, popular_items\n",
        "\n",
        "    # Predict ratings for unseen items only\n",
        "    predictions = [(item, model.predict(user_id, item).est) for item in unseen_items]\n",
        "\n",
        "    # Sort by estimated rating and return top-N\n",
        "    top_n = sorted(predictions, key=lambda x: x[1], reverse=True)[:n]\n",
        "    recommended_items = [item for item, _ in top_n]\n",
        "\n",
        "    return user_items, unseen_items, recommended_items"
      ],
      "metadata": {
        "id": "ffXmD7TceE_I"
      },
      "execution_count": 358,
      "outputs": []
    },
    {
      "cell_type": "code",
      "source": [
        "# Save the model using joblib\n",
        "joblib.dump(model, 'svd_recommender_model.pkl')"
      ],
      "metadata": {
        "colab": {
          "base_uri": "https://localhost:8080/"
        },
        "id": "EWfnmF62vN9D",
        "outputId": "4811a701-b36f-42b8-da04-705f51a0aad6"
      },
      "execution_count": 359,
      "outputs": [
        {
          "output_type": "execute_result",
          "data": {
            "text/plain": [
              "['svd_recommender_model.pkl']"
            ]
          },
          "metadata": {},
          "execution_count": 359
        }
      ]
    },
    {
      "cell_type": "code",
      "source": [
        "# Load the model from the saved file\n",
        "loaded_model = joblib.load('svd_recommender_model.pkl')"
      ],
      "metadata": {
        "id": "N2SZOj3PvPkl"
      },
      "execution_count": 360,
      "outputs": []
    },
    {
      "cell_type": "code",
      "source": [
        "target_user_id = 2329\n",
        "seen_items, unseen_items, recommended_items = get_top_n_recommendations(model, target_user_id, n=5)\n",
        "print(\"Seen items for user\", target_user_id, \":\", seen_items)\n",
        "print(\"Unseen items for user\", target_user_id, \":\", unseen_items)\n",
        "print(\"Recommended items for user\", target_user_id, \":\", recommended_items)"
      ],
      "metadata": {
        "colab": {
          "base_uri": "https://localhost:8080/"
        },
        "id": "m73ISpuveHv4",
        "outputId": "20d13a1f-3e44-423b-f2c4-f0190d47d3ff"
      },
      "execution_count": 361,
      "outputs": [
        {
          "output_type": "stream",
          "name": "stdout",
          "text": [
            "Seen items for user 2329 : {22528, 23042, 23557, 23559, 23572, 22551, 23580, 16418, 23590, 23595, 15921, 23601, 23094, 21564, 23103, 23625, 23628, 22604, 23124, 23637, 16983, 23640, 23647, 23650, 23660, 23152, 23680, 23681, 21634, 20100, 18566, 20102, 21638, 20628, 22167, 22683, 21687, 19652, 19663, 21726, 23263, 23776, 16609, 23777, 23784, 23785, 20717, 20719, 23291, 23803, 21757, 22784, 20224, 21250, 23811, 22788, 23812, 23835, 20252, 19744, 23844, 23849, 23850, 16686, 23350, 16697, 23360, 16721, 18771, 16726, 23901, 23912, 23916, 22894, 22895, 22393, 20349, 22398, 22401, 22927, 22928, 22929, 15257, 23452, 23454, 23461, 23467, 23468, 23473, 21948, 23501, 22999, 23519, 23522, 23524, 23530, 16888, 20473, 22526, 22527}\n",
            "Unseen items for user 2329 : {23565, 16432, 20016, 23603, 23609, 22090, 23118, 22612, 23639, 22618, 18530, 23140, 23652, 23653, 17513, 22307, 23149, 23150, 23662, 23664, 22641, 17521, 23666, 23668, 23679, 16519, 23689, 23692, 23693, 23695, 17557, 23702, 23708, 23711, 23712, 23713, 23715, 23718, 18599, 23721, 23722, 23723, 23732, 23733, 23735, 17596, 23740, 23742, 23232, 23744, 23745, 23747, 17604, 23749, 23750, 23239, 23240, 21705, 23754, 23753, 23756, 22733, 23759, 23760, 23761, 23763, 23764, 23254, 22743, 23766, 23767, 23769, 23770, 23771, 23774, 23778, 23780, 23781, 23782, 23783, 23786, 23275, 16620, 23788, 23789, 23791, 23794, 23795, 23796, 23797, 23799, 23800, 23801, 23804, 23293, 19709, 23805, 23806, 23808, 23810, 21762, 23813, 21766, 23303, 23816, 23819, 23820, 23309, 16657, 23314, 23832, 22298, 23836, 23837, 23326, 23838, 23328, 17184, 22818, 23840, 23332, 23841, 23842, 23843, 23845, 23847, 23848, 23339, 23340, 23846, 23861, 23863, 23864, 23865, 23867, 23869, 23871, 22338, 23876, 23365, 23877, 23878, 23879, 23880, 23881, 23371, 23882, 19277, 23373, 23883, 23884, 23377, 23885, 23886, 23380, 23381, 23887, 23888, 23889, 23890, 23891, 23892, 23893, 23894, 23895, 23896, 23897, 23898, 23899, 23900, 23903, 23397, 23904, 23906, 23908, 23408, 23920, 23922, 23924, 22901, 23414, 23925, 22904, 23927, 23930, 23933, 23934, 22362, 23936, 22913, 23937, 23427, 23938, 23939, 23940, 23941, 23942, 23433, 23946, 23949, 23952, 23953, 22930, 23442, 23956, 23959, 23962, 21914, 22947, 23462, 22955, 23469, 23471, 22960, 22963, 23475, 23477, 21939, 21941, 22456, 23487, 22976, 23493, 23495, 22988, 20437, 23513, 17373, 22493, 23520, 21995, 23532}\n",
            "Recommended items for user 2329 : [23565, 16432, 20016, 23603, 23609]\n"
          ]
        }
      ]
    },
    {
      "cell_type": "code",
      "source": [
        "target_user_id = 704\n",
        "seen_items, unseen_items, recommended_items = get_top_n_recommendations(model, target_user_id, n=5)\n",
        "print(\"Seen items for user\", target_user_id, \":\", seen_items)\n",
        "print(\"Unseen items for user\", target_user_id, \":\", unseen_items)\n",
        "print(\"Recommended items for user\", target_user_id, \":\", recommended_items)"
      ],
      "metadata": {
        "colab": {
          "base_uri": "https://localhost:8080/"
        },
        "id": "azeD37GRoeAF",
        "outputId": "d629d361-9b84-42db-c975-35cee751446d"
      },
      "execution_count": 371,
      "outputs": [
        {
          "output_type": "stream",
          "name": "stdout",
          "text": [
            "Seen items for user 704 : {23930, 23796}\n",
            "Unseen items for user 704 : {22528, 23557, 23559, 23565, 23572, 22551, 23580, 16418, 23590, 23595, 16432, 23601, 23603, 23609, 21564, 23625, 22604, 23628, 22612, 23637, 23639, 23640, 22618, 23647, 18530, 23650, 23652, 23653, 17513, 23660, 23662, 23664, 22641, 17521, 23666, 23668, 23679, 23680, 23681, 21634, 18566, 16519, 21638, 23689, 23692, 23693, 23695, 20628, 17557, 23702, 22683, 23708, 23711, 23712, 23713, 23715, 23718, 18599, 23721, 23722, 23723, 23732, 23733, 21687, 23735, 17596, 23740, 23742, 23744, 23745, 23747, 17604, 23749, 19652, 23750, 21705, 23754, 23753, 23756, 22733, 23759, 23760, 23761, 19663, 23763, 23764, 23766, 22743, 23767, 23769, 23770, 23771, 23774, 21726, 23776, 16609, 23777, 23778, 23780, 23781, 23782, 23783, 23784, 23785, 23786, 16620, 20717, 23788, 20719, 23789, 23791, 23794, 23795, 23797, 23799, 23800, 23801, 23803, 23804, 19709, 23805, 23806, 22784, 23808, 21757, 23810, 22788, 23811, 23812, 23813, 21762, 21766, 23816, 23819, 23820, 16657, 23832, 23835, 23836, 23837, 23838, 23840, 23841, 22818, 23842, 23843, 23844, 23845, 19744, 23847, 23848, 23849, 23850, 23846, 16686, 23861, 23863, 23864, 16697, 23865, 23867, 23869, 23871, 23876, 23877, 23878, 23879, 23880, 23881, 23882, 23883, 23884, 23885, 23886, 23887, 23888, 16721, 23889, 18771, 23890, 23891, 16726, 23892, 23893, 23894, 23895, 23896, 23897, 23898, 23899, 23900, 23901, 23903, 23904, 23906, 23908, 23912, 23916, 22894, 22895, 23920, 23922, 23924, 22901, 23925, 23927, 22904, 23933, 23934, 23936, 22913, 23937, 23938, 23939, 23940, 23941, 23942, 23946, 23949, 22927, 22928, 22929, 22930, 23952, 23953, 23956, 23959, 23962, 21914, 22947, 22955, 22960, 22963, 21939, 21941, 21948, 22976, 22988, 22999, 21995, 16888, 23042, 20016, 15921, 23094, 23103, 22090, 23118, 23124, 16983, 23140, 23149, 23150, 23152, 20100, 20102, 22167, 23232, 23239, 23240, 23254, 23263, 23275, 23291, 23293, 20224, 21250, 23303, 23309, 23314, 22298, 20252, 23326, 23328, 17184, 22307, 23332, 23339, 23340, 23350, 23360, 22338, 23365, 23371, 19277, 23373, 23377, 23380, 23381, 22362, 23397, 23408, 23414, 22393, 20349, 22398, 22401, 23427, 23433, 23442, 15257, 23452, 23454, 23461, 23462, 23467, 23468, 23469, 23471, 23473, 23475, 23477, 22456, 23487, 23493, 23495, 23501, 20437, 23513, 17373, 22493, 23519, 23520, 23522, 23524, 23530, 23532, 20473, 22526, 22527}\n",
            "Recommended items for user 704 : [22528, 23557, 23559, 23565, 23572]\n"
          ]
        }
      ]
    }
  ]
}