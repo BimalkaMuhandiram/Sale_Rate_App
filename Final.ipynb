{
  "nbformat": 4,
  "nbformat_minor": 0,
  "metadata": {
    "colab": {
      "provenance": []
    },
    "kernelspec": {
      "name": "python3",
      "display_name": "Python 3"
    },
    "language_info": {
      "name": "python"
    }
  },
  "cells": [
    {
      "cell_type": "markdown",
      "source": [
        "## Content-Based Filtering"
      ],
      "metadata": {
        "id": "uMlWGL4AQsrN"
      }
    },
    {
      "cell_type": "code",
      "execution_count": 14,
      "metadata": {
        "id": "lo278wSw7lor"
      },
      "outputs": [],
      "source": [
        "import pandas as pd # Data manipulation and analysis\n",
        "import numpy as np # Numerical operations\n",
        "import pickle # save and load serialized Python objects\n",
        "import re # (regular expressions) Text processing and pattern matching\n",
        "import nltk # (Natural Language Toolkit) Natural language processing\n",
        "from sklearn.feature_extraction.text import TfidfVectorizer # convert text into numerical form (TF-IDF representation)\n",
        "from sklearn.metrics.pairwise import cosine_similarity # Measure similarity between text data\n",
        "from nltk.tokenize import word_tokenize # Split text into individual words"
      ]
    },
    {
      "cell_type": "code",
      "source": [
        "news_df = pd.read_csv('/content/news.csv')\n",
        "rec_items_df = pd.read_csv('/content/rec_items.csv')\n",
        "rec_feedback_df = pd.read_csv('/content/rec_feedback.csv')\n",
        "users_df = pd.read_csv('/content/users.csv')\n",
        "rec_users_df = pd.read_csv('/content/rec_users.csv')"
      ],
      "metadata": {
        "id": "diitq6RBDS0P"
      },
      "execution_count": 15,
      "outputs": []
    },
    {
      "cell_type": "code",
      "source": [
        "# Displays the first 5 rows of the news dataset\n",
        "news_df.head()"
      ],
      "metadata": {
        "colab": {
          "base_uri": "https://localhost:8080/",
          "height": 573
        },
        "id": "JiV5V3DVDghe",
        "outputId": "b7ca3c89-4210-4dd2-83f0-395c0a2bcb09"
      },
      "execution_count": 16,
      "outputs": [
        {
          "output_type": "execute_result",
          "data": {
            "text/plain": [
              "      id                                              title  \\\n",
              "0  23996                                      අද ඩොලරයේ අගය   \n",
              "1  23995  ‘ක්ලීන් ශ‍්‍රී ලංකා ලිඛිතව තියෙනවා.’ මාලිමා මන...   \n",
              "2  23994  පාපන්දු ගෝල කණුවක් කඩා වැටී පාසැල් සිසුවෙකු ජී...   \n",
              "3  23993  සුජීව සේනසිංහගේ මූලික අයිතිවාසිකම් පෙත්සම විභා...   \n",
              "4  23992    නීති විරෝධී ධීවර දැල් දෙසීය පනහක් නීතියේ රැහැනට   \n",
              "\n",
              "                                         description           published_date  \\\n",
              "0  ශ්‍රී ලංකා මහ බැංකුව විසින් අද (13) දින නිකුත්...  2025-02-13 12:10:32.919   \n",
              "1  ‘ක්‍ලීන් ශ්‍රී ලංකා’ වැඩපිළිවෙල යනු කුමක්දැයි ...      2025-02-13 09:30:00   \n",
              "2  පාසැල් ක්‍රීඩාගංනයක තිබූ පාපන්දු ගෝල කණුවක් කඩ...  2025-02-13 11:10:47.133   \n",
              "3  තමන්ට එරෙහිව අපරාධ පරීක්ෂණ දෙපාර්තමේන්තුව විසි...  2025-02-13 10:10:29.598   \n",
              "4  ශ්‍රී ලංකා නාවික හමුදාව, කිලිනොච්චිය මුද්දලම්ප...  2025-02-13 10:58:56.639   \n",
              "\n",
              "   breaking_news  blob_image  \\\n",
              "0          False         NaN   \n",
              "1          False         NaN   \n",
              "2          False         NaN   \n",
              "3          False         NaN   \n",
              "4          False         NaN   \n",
              "\n",
              "                                          source_url               created_at  \\\n",
              "0  https://www.hirunews.lk/396721/%E0%B6%85%E0%B6...  2025-02-13 09:43:07.843   \n",
              "1  https://lankacnews.com/%e0%b6%9a%e0%b7%8a%e0%b...  2025-02-13 09:42:37.114   \n",
              "2  https://www.hirunews.lk/396719/%E0%B6%B4%E0%B7...  2025-02-13 09:33:20.185   \n",
              "3  https://www.hirunews.lk/396716/%E0%B7%83%E0%B7...  2025-02-13 09:31:55.442   \n",
              "4  https://www.dinamina.lk/2025/02/13/lawnorder/1...  2025-02-13 09:29:23.368   \n",
              "\n",
              "                updated_at             published_at  created_by_id  \\\n",
              "0  2025-02-13 09:43:12.403  2025-02-13 09:43:12.131            7.0   \n",
              "1  2025-02-13 09:42:47.003                      NaN            NaN   \n",
              "2  2025-02-13 09:33:23.796  2025-02-13 09:33:23.747            7.0   \n",
              "3  2025-02-13 09:31:59.501   2025-02-13 09:31:59.41            7.0   \n",
              "4  2025-02-13 09:29:26.299  2025-02-13 09:29:26.258            7.0   \n",
              "\n",
              "   updated_by_id  shares  comment_count  type  \n",
              "0            7.0       0              0  News  \n",
              "1            NaN       0              0  News  \n",
              "2            7.0       0              0  News  \n",
              "3            7.0       0              0  News  \n",
              "4            7.0       0              0  News  "
            ],
            "text/html": [
              "\n",
              "  <div id=\"df-420d58ef-7d94-45e0-8b6c-f4bf598e36e8\" class=\"colab-df-container\">\n",
              "    <div>\n",
              "<style scoped>\n",
              "    .dataframe tbody tr th:only-of-type {\n",
              "        vertical-align: middle;\n",
              "    }\n",
              "\n",
              "    .dataframe tbody tr th {\n",
              "        vertical-align: top;\n",
              "    }\n",
              "\n",
              "    .dataframe thead th {\n",
              "        text-align: right;\n",
              "    }\n",
              "</style>\n",
              "<table border=\"1\" class=\"dataframe\">\n",
              "  <thead>\n",
              "    <tr style=\"text-align: right;\">\n",
              "      <th></th>\n",
              "      <th>id</th>\n",
              "      <th>title</th>\n",
              "      <th>description</th>\n",
              "      <th>published_date</th>\n",
              "      <th>breaking_news</th>\n",
              "      <th>blob_image</th>\n",
              "      <th>source_url</th>\n",
              "      <th>created_at</th>\n",
              "      <th>updated_at</th>\n",
              "      <th>published_at</th>\n",
              "      <th>created_by_id</th>\n",
              "      <th>updated_by_id</th>\n",
              "      <th>shares</th>\n",
              "      <th>comment_count</th>\n",
              "      <th>type</th>\n",
              "    </tr>\n",
              "  </thead>\n",
              "  <tbody>\n",
              "    <tr>\n",
              "      <th>0</th>\n",
              "      <td>23996</td>\n",
              "      <td>අද ඩොලරයේ අගය</td>\n",
              "      <td>ශ්‍රී ලංකා මහ බැංකුව විසින් අද (13) දින නිකුත්...</td>\n",
              "      <td>2025-02-13 12:10:32.919</td>\n",
              "      <td>False</td>\n",
              "      <td>NaN</td>\n",
              "      <td>https://www.hirunews.lk/396721/%E0%B6%85%E0%B6...</td>\n",
              "      <td>2025-02-13 09:43:07.843</td>\n",
              "      <td>2025-02-13 09:43:12.403</td>\n",
              "      <td>2025-02-13 09:43:12.131</td>\n",
              "      <td>7.0</td>\n",
              "      <td>7.0</td>\n",
              "      <td>0</td>\n",
              "      <td>0</td>\n",
              "      <td>News</td>\n",
              "    </tr>\n",
              "    <tr>\n",
              "      <th>1</th>\n",
              "      <td>23995</td>\n",
              "      <td>‘ක්ලීන් ශ‍්‍රී ලංකා ලිඛිතව තියෙනවා.’ මාලිමා මන...</td>\n",
              "      <td>‘ක්‍ලීන් ශ්‍රී ලංකා’ වැඩපිළිවෙල යනු කුමක්දැයි ...</td>\n",
              "      <td>2025-02-13 09:30:00</td>\n",
              "      <td>False</td>\n",
              "      <td>NaN</td>\n",
              "      <td>https://lankacnews.com/%e0%b6%9a%e0%b7%8a%e0%b...</td>\n",
              "      <td>2025-02-13 09:42:37.114</td>\n",
              "      <td>2025-02-13 09:42:47.003</td>\n",
              "      <td>NaN</td>\n",
              "      <td>NaN</td>\n",
              "      <td>NaN</td>\n",
              "      <td>0</td>\n",
              "      <td>0</td>\n",
              "      <td>News</td>\n",
              "    </tr>\n",
              "    <tr>\n",
              "      <th>2</th>\n",
              "      <td>23994</td>\n",
              "      <td>පාපන්දු ගෝල කණුවක් කඩා වැටී පාසැල් සිසුවෙකු ජී...</td>\n",
              "      <td>පාසැල් ක්‍රීඩාගංනයක තිබූ පාපන්දු ගෝල කණුවක් කඩ...</td>\n",
              "      <td>2025-02-13 11:10:47.133</td>\n",
              "      <td>False</td>\n",
              "      <td>NaN</td>\n",
              "      <td>https://www.hirunews.lk/396719/%E0%B6%B4%E0%B7...</td>\n",
              "      <td>2025-02-13 09:33:20.185</td>\n",
              "      <td>2025-02-13 09:33:23.796</td>\n",
              "      <td>2025-02-13 09:33:23.747</td>\n",
              "      <td>7.0</td>\n",
              "      <td>7.0</td>\n",
              "      <td>0</td>\n",
              "      <td>0</td>\n",
              "      <td>News</td>\n",
              "    </tr>\n",
              "    <tr>\n",
              "      <th>3</th>\n",
              "      <td>23993</td>\n",
              "      <td>සුජීව සේනසිංහගේ මූලික අයිතිවාසිකම් පෙත්සම විභා...</td>\n",
              "      <td>තමන්ට එරෙහිව අපරාධ පරීක්ෂණ දෙපාර්තමේන්තුව විසි...</td>\n",
              "      <td>2025-02-13 10:10:29.598</td>\n",
              "      <td>False</td>\n",
              "      <td>NaN</td>\n",
              "      <td>https://www.hirunews.lk/396716/%E0%B7%83%E0%B7...</td>\n",
              "      <td>2025-02-13 09:31:55.442</td>\n",
              "      <td>2025-02-13 09:31:59.501</td>\n",
              "      <td>2025-02-13 09:31:59.41</td>\n",
              "      <td>7.0</td>\n",
              "      <td>7.0</td>\n",
              "      <td>0</td>\n",
              "      <td>0</td>\n",
              "      <td>News</td>\n",
              "    </tr>\n",
              "    <tr>\n",
              "      <th>4</th>\n",
              "      <td>23992</td>\n",
              "      <td>නීති විරෝධී ධීවර දැල් දෙසීය පනහක් නීතියේ රැහැනට</td>\n",
              "      <td>ශ්‍රී ලංකා නාවික හමුදාව, කිලිනොච්චිය මුද්දලම්ප...</td>\n",
              "      <td>2025-02-13 10:58:56.639</td>\n",
              "      <td>False</td>\n",
              "      <td>NaN</td>\n",
              "      <td>https://www.dinamina.lk/2025/02/13/lawnorder/1...</td>\n",
              "      <td>2025-02-13 09:29:23.368</td>\n",
              "      <td>2025-02-13 09:29:26.299</td>\n",
              "      <td>2025-02-13 09:29:26.258</td>\n",
              "      <td>7.0</td>\n",
              "      <td>7.0</td>\n",
              "      <td>0</td>\n",
              "      <td>0</td>\n",
              "      <td>News</td>\n",
              "    </tr>\n",
              "  </tbody>\n",
              "</table>\n",
              "</div>\n",
              "    <div class=\"colab-df-buttons\">\n",
              "\n",
              "  <div class=\"colab-df-container\">\n",
              "    <button class=\"colab-df-convert\" onclick=\"convertToInteractive('df-420d58ef-7d94-45e0-8b6c-f4bf598e36e8')\"\n",
              "            title=\"Convert this dataframe to an interactive table.\"\n",
              "            style=\"display:none;\">\n",
              "\n",
              "  <svg xmlns=\"http://www.w3.org/2000/svg\" height=\"24px\" viewBox=\"0 -960 960 960\">\n",
              "    <path d=\"M120-120v-720h720v720H120Zm60-500h600v-160H180v160Zm220 220h160v-160H400v160Zm0 220h160v-160H400v160ZM180-400h160v-160H180v160Zm440 0h160v-160H620v160ZM180-180h160v-160H180v160Zm440 0h160v-160H620v160Z\"/>\n",
              "  </svg>\n",
              "    </button>\n",
              "\n",
              "  <style>\n",
              "    .colab-df-container {\n",
              "      display:flex;\n",
              "      gap: 12px;\n",
              "    }\n",
              "\n",
              "    .colab-df-convert {\n",
              "      background-color: #E8F0FE;\n",
              "      border: none;\n",
              "      border-radius: 50%;\n",
              "      cursor: pointer;\n",
              "      display: none;\n",
              "      fill: #1967D2;\n",
              "      height: 32px;\n",
              "      padding: 0 0 0 0;\n",
              "      width: 32px;\n",
              "    }\n",
              "\n",
              "    .colab-df-convert:hover {\n",
              "      background-color: #E2EBFA;\n",
              "      box-shadow: 0px 1px 2px rgba(60, 64, 67, 0.3), 0px 1px 3px 1px rgba(60, 64, 67, 0.15);\n",
              "      fill: #174EA6;\n",
              "    }\n",
              "\n",
              "    .colab-df-buttons div {\n",
              "      margin-bottom: 4px;\n",
              "    }\n",
              "\n",
              "    [theme=dark] .colab-df-convert {\n",
              "      background-color: #3B4455;\n",
              "      fill: #D2E3FC;\n",
              "    }\n",
              "\n",
              "    [theme=dark] .colab-df-convert:hover {\n",
              "      background-color: #434B5C;\n",
              "      box-shadow: 0px 1px 3px 1px rgba(0, 0, 0, 0.15);\n",
              "      filter: drop-shadow(0px 1px 2px rgba(0, 0, 0, 0.3));\n",
              "      fill: #FFFFFF;\n",
              "    }\n",
              "  </style>\n",
              "\n",
              "    <script>\n",
              "      const buttonEl =\n",
              "        document.querySelector('#df-420d58ef-7d94-45e0-8b6c-f4bf598e36e8 button.colab-df-convert');\n",
              "      buttonEl.style.display =\n",
              "        google.colab.kernel.accessAllowed ? 'block' : 'none';\n",
              "\n",
              "      async function convertToInteractive(key) {\n",
              "        const element = document.querySelector('#df-420d58ef-7d94-45e0-8b6c-f4bf598e36e8');\n",
              "        const dataTable =\n",
              "          await google.colab.kernel.invokeFunction('convertToInteractive',\n",
              "                                                    [key], {});\n",
              "        if (!dataTable) return;\n",
              "\n",
              "        const docLinkHtml = 'Like what you see? Visit the ' +\n",
              "          '<a target=\"_blank\" href=https://colab.research.google.com/notebooks/data_table.ipynb>data table notebook</a>'\n",
              "          + ' to learn more about interactive tables.';\n",
              "        element.innerHTML = '';\n",
              "        dataTable['output_type'] = 'display_data';\n",
              "        await google.colab.output.renderOutput(dataTable, element);\n",
              "        const docLink = document.createElement('div');\n",
              "        docLink.innerHTML = docLinkHtml;\n",
              "        element.appendChild(docLink);\n",
              "      }\n",
              "    </script>\n",
              "  </div>\n",
              "\n",
              "\n",
              "<div id=\"df-6b65e6e6-3826-4f24-b877-70eb2aa5f610\">\n",
              "  <button class=\"colab-df-quickchart\" onclick=\"quickchart('df-6b65e6e6-3826-4f24-b877-70eb2aa5f610')\"\n",
              "            title=\"Suggest charts\"\n",
              "            style=\"display:none;\">\n",
              "\n",
              "<svg xmlns=\"http://www.w3.org/2000/svg\" height=\"24px\"viewBox=\"0 0 24 24\"\n",
              "     width=\"24px\">\n",
              "    <g>\n",
              "        <path d=\"M19 3H5c-1.1 0-2 .9-2 2v14c0 1.1.9 2 2 2h14c1.1 0 2-.9 2-2V5c0-1.1-.9-2-2-2zM9 17H7v-7h2v7zm4 0h-2V7h2v10zm4 0h-2v-4h2v4z\"/>\n",
              "    </g>\n",
              "</svg>\n",
              "  </button>\n",
              "\n",
              "<style>\n",
              "  .colab-df-quickchart {\n",
              "      --bg-color: #E8F0FE;\n",
              "      --fill-color: #1967D2;\n",
              "      --hover-bg-color: #E2EBFA;\n",
              "      --hover-fill-color: #174EA6;\n",
              "      --disabled-fill-color: #AAA;\n",
              "      --disabled-bg-color: #DDD;\n",
              "  }\n",
              "\n",
              "  [theme=dark] .colab-df-quickchart {\n",
              "      --bg-color: #3B4455;\n",
              "      --fill-color: #D2E3FC;\n",
              "      --hover-bg-color: #434B5C;\n",
              "      --hover-fill-color: #FFFFFF;\n",
              "      --disabled-bg-color: #3B4455;\n",
              "      --disabled-fill-color: #666;\n",
              "  }\n",
              "\n",
              "  .colab-df-quickchart {\n",
              "    background-color: var(--bg-color);\n",
              "    border: none;\n",
              "    border-radius: 50%;\n",
              "    cursor: pointer;\n",
              "    display: none;\n",
              "    fill: var(--fill-color);\n",
              "    height: 32px;\n",
              "    padding: 0;\n",
              "    width: 32px;\n",
              "  }\n",
              "\n",
              "  .colab-df-quickchart:hover {\n",
              "    background-color: var(--hover-bg-color);\n",
              "    box-shadow: 0 1px 2px rgba(60, 64, 67, 0.3), 0 1px 3px 1px rgba(60, 64, 67, 0.15);\n",
              "    fill: var(--button-hover-fill-color);\n",
              "  }\n",
              "\n",
              "  .colab-df-quickchart-complete:disabled,\n",
              "  .colab-df-quickchart-complete:disabled:hover {\n",
              "    background-color: var(--disabled-bg-color);\n",
              "    fill: var(--disabled-fill-color);\n",
              "    box-shadow: none;\n",
              "  }\n",
              "\n",
              "  .colab-df-spinner {\n",
              "    border: 2px solid var(--fill-color);\n",
              "    border-color: transparent;\n",
              "    border-bottom-color: var(--fill-color);\n",
              "    animation:\n",
              "      spin 1s steps(1) infinite;\n",
              "  }\n",
              "\n",
              "  @keyframes spin {\n",
              "    0% {\n",
              "      border-color: transparent;\n",
              "      border-bottom-color: var(--fill-color);\n",
              "      border-left-color: var(--fill-color);\n",
              "    }\n",
              "    20% {\n",
              "      border-color: transparent;\n",
              "      border-left-color: var(--fill-color);\n",
              "      border-top-color: var(--fill-color);\n",
              "    }\n",
              "    30% {\n",
              "      border-color: transparent;\n",
              "      border-left-color: var(--fill-color);\n",
              "      border-top-color: var(--fill-color);\n",
              "      border-right-color: var(--fill-color);\n",
              "    }\n",
              "    40% {\n",
              "      border-color: transparent;\n",
              "      border-right-color: var(--fill-color);\n",
              "      border-top-color: var(--fill-color);\n",
              "    }\n",
              "    60% {\n",
              "      border-color: transparent;\n",
              "      border-right-color: var(--fill-color);\n",
              "    }\n",
              "    80% {\n",
              "      border-color: transparent;\n",
              "      border-right-color: var(--fill-color);\n",
              "      border-bottom-color: var(--fill-color);\n",
              "    }\n",
              "    90% {\n",
              "      border-color: transparent;\n",
              "      border-bottom-color: var(--fill-color);\n",
              "    }\n",
              "  }\n",
              "</style>\n",
              "\n",
              "  <script>\n",
              "    async function quickchart(key) {\n",
              "      const quickchartButtonEl =\n",
              "        document.querySelector('#' + key + ' button');\n",
              "      quickchartButtonEl.disabled = true;  // To prevent multiple clicks.\n",
              "      quickchartButtonEl.classList.add('colab-df-spinner');\n",
              "      try {\n",
              "        const charts = await google.colab.kernel.invokeFunction(\n",
              "            'suggestCharts', [key], {});\n",
              "      } catch (error) {\n",
              "        console.error('Error during call to suggestCharts:', error);\n",
              "      }\n",
              "      quickchartButtonEl.classList.remove('colab-df-spinner');\n",
              "      quickchartButtonEl.classList.add('colab-df-quickchart-complete');\n",
              "    }\n",
              "    (() => {\n",
              "      let quickchartButtonEl =\n",
              "        document.querySelector('#df-6b65e6e6-3826-4f24-b877-70eb2aa5f610 button');\n",
              "      quickchartButtonEl.style.display =\n",
              "        google.colab.kernel.accessAllowed ? 'block' : 'none';\n",
              "    })();\n",
              "  </script>\n",
              "</div>\n",
              "\n",
              "    </div>\n",
              "  </div>\n"
            ],
            "application/vnd.google.colaboratory.intrinsic+json": {
              "type": "dataframe",
              "variable_name": "news_df",
              "summary": "{\n  \"name\": \"news_df\",\n  \"rows\": 1000,\n  \"fields\": [\n    {\n      \"column\": \"id\",\n      \"properties\": {\n        \"dtype\": \"number\",\n        \"std\": 293,\n        \"min\": 22979,\n        \"max\": 23996,\n        \"num_unique_values\": 1000,\n        \"samples\": [\n          23467,\n          23251,\n          23248\n        ],\n        \"semantic_type\": \"\",\n        \"description\": \"\"\n      }\n    },\n    {\n      \"column\": \"title\",\n      \"properties\": {\n        \"dtype\": \"string\",\n        \"num_unique_values\": 988,\n        \"samples\": [\n          \"\\u0dc0\\u0d9c\\u0d9a\\u0dd3\\u0db8\\u0dca \\u0dc0\\u0dd2\\u0dbb\\u0dc4\\u0dd2\\u0dad \\u0db4\\u0dd2\\u0dad\\u0dd2\\u0d9a\\u0dbb\\u0dab\\u0dba\\u0dd9\\u0db1\\u0dca \\u0dc1\\u0dca\\u200d\\u0dbb\\u0dd3 \\u0dbd\\u0d82\\u0d9a\\u0dcf\\u0dc0\\u0da7 \\u0dba\\u0dc5\\u0dd2\\u0dad\\u0dca \\u0daf\\u0dbb\\u0dd4\\u0dab\\u0dd4 \\u0db4\\u0dbb\\u0dcf\\u0da2\\u0dba\\u0d9a\\u0dca\",\n          \"\\u0db4\\u0dcf\\u0dbb\\u0dca\\u0dbd\\u0dd2\\u0db8\\u0dda\\u0db1\\u0dca\\u0dad\\u0dd4 \\u0dc3\\u0db7\\u0dcf\\u0dc0\\u0dcf\\u0dbb\\u0dba \\u0d87\\u0dbb\\u0db9\\u0dd9\\u0dba\\u0dd2\",\n          \"\\u0db4\\u0dc5\\u0db8\\u0dd4 \\u0dc0\\u0dbb\\u0da7 \\u0dc3\\u0dbd\\u0dca\\u0dbd\\u0dd2 \\u0daf\\u0dd3\\u0dbd\\u0dcf \\u0db4\\u0dcf\\u0dbb\\u0dca\\u0dbd\\u0dd2\\u0db8\\u0dda\\u0db1\\u0dca\\u0dad\\u0dd4\\u0dc0\\u0dd9\\u0db1\\u0dca \\u0d9a\\u0db1 \\u0db8\\u0db1\\u0dca\\u0dad\\u0dca\\u200d\\u0dbb\\u0dd3\\u0dc0\\u0dbb\\u0dd4\"\n        ],\n        \"semantic_type\": \"\",\n        \"description\": \"\"\n      }\n    },\n    {\n      \"column\": \"description\",\n      \"properties\": {\n        \"dtype\": \"string\",\n        \"num_unique_values\": 995,\n        \"samples\": [\n          \"\\u0dad\\u0db8 \\u0db1\\u0dd2\\u0dc0\\u0dc3\\u0da7 \\u0db4\\u0dd0\\u0db8\\u0dd2\\u0dab\\u0dd2 15 \\u0dc4\\u0dd0\\u0dc0\\u0dd2\\u0dbb\\u0dd2\\u0daf\\u0dd2 \\u0db4\\u0dcf\\u0dc3\\u0dbd\\u0dca \\u0dc3\\u0dd2\\u0dc3\\u0dd4\\u0dc0\\u0dd9\\u0d9a\\u0dd4 \\u0dc0\\u0dd2\\u0dc3\\u0dd2\\u0db1\\u0dca \\u0dc3\\u0dd2\\u0dba \\u0daf\\u0dd2\\u0dba\\u0dab\\u0dd2\\u0dba \\u0dc0 \\u0dbd\\u0dd2\\u0d82\\u0d9c\\u0dd2\\u0d9a \\u0d85\\u0dad\\u0dc0\\u0dbb\\u0dba\\u0da7 \\u0dbd\\u0d9a\\u0dca \\u0d9a\\u0dc5 \\u0db6\\u0dc0\\u0da7 \\u0dc0\\u0db1 \\u0db4\\u0dd0\\u0db8\\u0dd2\\u0dab\\u0dd2\\u0dbd\\u0dca\\u0dbd\\u0d9a\\u0dca \\u0dc4\\u0ddc\\u0dbb\\u0dab \\u0db8\\u0dd6\\u0dbd\\u0dc3\\u0dca\\u0dae\\u0dcf\\u0db1 \\u0db4\\u0ddc\\u0dbd\\u0dd2\\u0dc3\\u0dd2\\u0dba\\u0dda \\u0dc5\\u0db8\\u0dcf \\u0dc4\\u0dcf \\u0d9a\\u0dcf\\u0db1\\u0dca\\u0dad\\u0dcf \\u0d9a\\u0dcf\\u0dbb\\u0dca\\u200d\\u0dba\\u0dcf\\u0d82\\u0dc1\\u0dba\\u0da7 \\u0dbd\\u0dd0\\u0db6\\u0dd3 \\u0dad\\u0dd2\\u0db6\\u0dd9\\u0db1\\u0dc0\\u0dcf. \\n\\n\\u0d85\\u0dad\\u0dc0\\u0dbb\\u0dba\\u0da7 \\u0dbd\\u0d9a\\u0dca \\u0dc0\\u0dd6\\u0dc0\\u0dda \\u0dba\\u0dd0\\u0dba\\u0dd2 \\u0db4\\u0dd0\\u0dc0\\u0dc3\\u0dd9\\u0db1 \\u0daf\\u0dd0\\u0dbb\\u0dd2\\u0dba\\u0d9c\\u0dda \\u0db8\\u0dc0 \\u0dc0\\u0dd2\\u0dc3\\u0dd2\\u0db1\\u0dca \\u0d85\\u0daf\\u0dcf\\u0dc5 \\u0db4\\u0dd0\\u0db8\\u0dd2\\u0dab\\u0dd2\\u0dbd\\u0dca\\u0dbd \\u0dc3\\u0dd2\\u0daf\\u0dd4 \\u0d9a\\u0dbb\\u0db1 \\u0dbd\\u0daf \\u0db6\\u0dc0\\u0dba\\u0dd2 \\u0dc0\\u0dcf\\u0dbb\\u0dca\\u0dad\\u0dcf \\u0dc0\\u0db1\\u0dca\\u0db1\\u0dda. \\u0db8\\u0dd9\\u0db8 \\u0dc3\\u0dd2\\u0daf\\u0dca\\u0db0\\u0dd2\\u0dba\\u0da7 \\u0db8\\u0dd4\\u0dc4\\u0dd4\\u0dab \\u0db4\\u0dcf \\u0d87\\u0dad\\u0dca\\u0dad\\u0dda 11 \\u0dc1\\u0dca\\u200d\\u0dbb\\u0dda\\u0dab\\u0dd2\\u0dba\\u0dda \\u0d89\\u0d9c\\u0dd9\\u0db1\\u0dd4\\u0db8 \\u0dbd\\u0db6\\u0db1 \\u0daf\\u0dd0\\u0dbb\\u0dd2\\u0dba\\u0d9a\\u0dca. \\u0daf\\u0dd0\\u0db1\\u0da7 \\u0db8\\u0dcf\\u0dc3 09\\u0d9a \\u0db4\\u0db8\\u0dab \\u0dc3\\u0dd2\\u0da7 \\u0d85\\u0daf\\u0dcf\\u0dc5 \\u0dad\\u0dbb\\u0dd4\\u0dab \\u0db4\\u0dd2\\u0dbb\\u0dd2\\u0db8\\u0dd2 \\u0dc5\\u0db8\\u0dba\\u0dcf \\u0dc3\\u0db8\\u0d9c \\u0dc3\\u0dd2\\u0dba \\u0daf\\u0dd0\\u0dbb\\u0dd2\\u0dc0\\u0dd2\\u0dba \\u0db4\\u0dca\\u200d\\u0dbb\\u0dda\\u0db8 \\u0dc3\\u0db6\\u0db3\\u0dad\\u0dcf\\u0dc0\\u0d9a\\u0dca \\u0db4\\u0dc0\\u0dad\\u0dca\\u0dc0\\u0dcf\\u0d9c\\u0dd9\\u0db1 \\u0d9c\\u0ddc\\u0dc3\\u0dca \\u0d87\\u0dad\\u0dd2 \\u0db6\\u0dc0\\u0dad\\u0dca 2024 \\u0daf\\u0dd9\\u0dc3\\u0dd0\\u0db8\\u0dca\\u0db6\\u0dbb\\u0dca \\u0db8\\u0dcf\\u0dc3\\u0dba\\u0dda \\u0dc3\\u0dd2\\u0d9a\\u0dd4\\u0dbb\\u0dcf\\u0daf\\u0dcf \\u0daf\\u0dd2\\u0db1\\u0dd9\\u0d9a \\u0daf\\u0dd9\\u0daf\\u0dd9\\u0db1\\u0dcf \\u0db4\\u0dc5\\u0db8\\u0dd4 \\u0dc0\\u0dbb\\u0da7 \\u0dbd\\u0dd2\\u0d82\\u0d9c\\u0dd2\\u0d9a \\u0dc0 \\u0d91\\u0d9a\\u0dca \\u0dc0 \\u0d87\\u0dad\\u0dd2 \\u0db6\\u0dc0\\u0dad\\u0dca \\u0dc0\\u0dbb\\u0dd2\\u0db1\\u0dca \\u0dc0\\u0dbb \\u0d89\\u0db1\\u0dca \\u0db4\\u0dc3\\u0dd4\\u0dc0 \\u0daf \\u0d94\\u0dc0\\u0dd4\\u0db1\\u0dca \\u0daf\\u0dd9\\u0daf\\u0dd9\\u0db1\\u0dcf \\u0db8\\u0dd9\\u0dbd\\u0dd9\\u0dc3 \\u0db8\\u0dd4\\u0dab\\u0d9c\\u0dd0\\u0dc3\\u0dd3 \\u0d87\\u0dad\\u0dd2 \\u0db6\\u0dc0\\u0dad\\u0dca \\u0db4\\u0dd0\\u0dc0\\u0dc3\\u0dd9\\u0db1\\u0dc0\\u0dcf. \\n\\n\\u0d8a\\u0dba\\u0dda (28) \\u0daf\\u0dd2\\u0db1\\u0dba\\u0dda \\u0daf\\u0dd3 \\u0daf \\u0daf\\u0dd0\\u0dbb\\u0dd2\\u0dba \\u0dc0\\u0dd2\\u0dc3\\u0dd2\\u0db1\\u0dca \\u0dc3\\u0dd0\\u0d9a\\u0d9a\\u0dcf\\u0dbb \\u0db4\\u0dd9\\u0db8\\u0dca\\u0dc0\\u0dad\\u0dcf \\u0dc0 \\u0dc3\\u0dd2\\u0dba \\u0db1\\u0dd2\\u0dc0\\u0dc3\\u0da7 \\u0d9c\\u0dd9\\u0db1\\u0dca\\u0dc0\\u0dcf\\u0d9c\\u0dd9\\u0db1 \\u0d87\\u0dad\\u0dd2 \\u0d85\\u0dad\\u0dbb \\u0db4\\u0dd9\\u0dbb \\u0db4\\u0dbb\\u0dd2\\u0daf\\u0dd2 \\u0dbd\\u0dd2\\u0d82\\u0d9c\\u0dd2\\u0d9a \\u0dc0 \\u0dc4\\u0dd0\\u0dc3\\u0dd2\\u0dbb\\u0dd9\\u0db8\\u0dd2\\u0db1\\u0dca \\u0dc3\\u0dd2\\u0da7\\u0dd2\\u0dba\\u0daf\\u0dd3 \\u0daf\\u0dd0\\u0dbb\\u0dd2\\u0dba\\u0d9c\\u0dda \\u0dc0\\u0dd0\\u0da9\\u0dd2\\u0db8\\u0dc4\\u0dbd\\u0dca \\u0dc3\\u0ddc\\u0dc4\\u0ddc\\u0dba\\u0dd4\\u0dbb\\u0dcf \\u0db1\\u0dd2\\u0dc0\\u0dc3\\u0da7 \\u0db4\\u0dd0\\u0db8\\u0dd2\\u0dab \\u0d87\\u0dad\\u0dd2 \\u0db6\\u0dc0\\u0dba\\u0dd2 \\u0db4\\u0dd0\\u0dc0\\u0dc3\\u0dd9\\u0db1\\u0dca\\u0db1\\u0dda. \\n\\n\\u0d91\\u0db8 \\u0d85\\u0dc0\\u0dc3\\u0dca\\u0dae\\u0dcf\\u0dc0\\u0dda \\u0daf\\u0dd3 \\u0dc3\\u0ddc\\u0dba\\u0dd4\\u0dbb\\u0dcf \\u0dc0\\u0dd2\\u0dc3\\u0dd2\\u0db1\\u0dca \\u0dad\\u0dbb\\u0dd4\\u0dab \\u0db4\\u0dd9\\u0db8\\u0dca\\u0dc0\\u0dad\\u0dcf\\u0da7 \\u0dc3\\u0dc4 \\u0dc3\\u0dd2\\u0dba \\u0db1\\u0dd0\\u0d9c\\u0dab\\u0dd2\\u0dba\\u0da7 \\u0db4\\u0dc4\\u0dbb \\u0daf\\u0dd3 \\u0d87\\u0dad\\u0dd2 \\u0d85\\u0dad\\u0dbb \\u0db4\\u0dc4\\u0dbb\\u0d9a\\u0dd1 \\u0dad\\u0dbb\\u0dd4\\u0dab\\u0dba\\u0dcf \\u0db8\\u0dd4\\u0dc4\\u0dd4\\u0dab\\u0dda \\u0dad\\u0dd0\\u0dbd\\u0dd4\\u0db8\\u0dca \\u0db4\\u0dc4\\u0dbb \\u0dc3\\u0db8\\u0d9c\\u0dd2\\u0db1\\u0dca \\u0dc4\\u0ddc\\u0dbb\\u0dab \\u0daf\\u0dd2\\u0dc3\\u0dca\\u0dad\\u0dca\\u200d\\u0dbb\\u0dd2\\u0d9a\\u0dca \\u0dbb\\u0ddd\\u0dc4\\u0dbd \\u0dc0\\u0dd9\\u0dad \\u0d87\\u0dad\\u0dd4\\u0dc5\\u0dad\\u0dca \\u0d9a\\u0dbb \\u0dad\\u0dd2\\u0db6\\u0dd9\\u0db1\\u0dc0\\u0dcf. \\u0dc3\\u0dd2\\u0daf\\u0dca\\u0db0\\u0dd2\\u0dba\\u0da7 \\u0db8\\u0dd4\\u0dc4\\u0dd4\\u0dab \\u0daf\\u0dd4\\u0db1\\u0dca \\u0daf\\u0dd0\\u0dbb\\u0dd2\\u0dba \\u0db4\\u0ddc\\u0dbd\\u0dd2\\u0dc3\\u0dd2\\u0dba \\u0db8\\u0d9c\\u0dd2\\u0db1\\u0dca \\u0dc0\\u0ddb\\u0daf\\u0dca\\u200d\\u0dba \\u0db4\\u0dbb\\u0dd3\\u0d9a\\u0dca\\u0dc2\\u0dab\\u0dba\\u0d9a\\u0dca \\u0dc3\\u0db3\\u0dc4\\u0dcf \\u0dc4\\u0ddc\\u0dbb\\u0dab \\u0daf\\u0dd2\\u0dc3\\u0dca\\u0dad\\u0dca\\u200d\\u0dbb\\u0dd2\\u0d9a\\u0dca \\u0dbb\\u0ddd\\u0dc4\\u0dbd \\u0dc0\\u0dd9\\u0dad \\u0d87\\u0dad\\u0dd4\\u0dc5\\u0dad\\u0dca \\u0d9a\\u0dbb \\u0d87\\u0dad\\u0dd2 \\u0db6\\u0dc0\\u0dba\\u0dd2 \\u0dc0\\u0dcf\\u0dbb\\u0dca\\u0dad\\u0dcf \\u0dc0\\u0db1\\u0dca\\u0db1\\u0dda. \\u0dc4\\u0ddc\\u0dbb\\u0dab \\u0db4\\u0ddc\\u0dbd\\u0dd2\\u0dc3\\u0dca \\u0dc3\\u0dca\\u0dae\\u0dcf\\u0db1\\u0dba\\u0dda \\u0dc5\\u0db8\\u0dcf \\u0dc4\\u0dcf \\u0d9a\\u0dcf\\u0db1\\u0dca\\u0dad\\u0dcf \\u0d9a\\u0dcf\\u0dbb\\u0dca\\u0dba\\u0dcf\\u0d82\\u0dc1\\u0dba \\u0db8\\u0d9c\\u0dd2\\u0db1\\u0dca \\u0dc3\\u0dd2\\u0daf\\u0dca\\u0db0\\u0dd2\\u0dba \\u0dc3\\u0db8\\u0dca\\u0db6\\u0db1\\u0dca\\u0db0\\u0dba\\u0dd9\\u0db1\\u0dca \\u0dc0\\u0dd0\\u0da9\\u0dd2\\u0daf\\u0dd4\\u0dbb \\u0dc0\\u0dd2\\u0db8\\u0dbb\\u0dca\\u0dc1\\u0db1 \\u0d86\\u0dbb\\u0db8\\u0dca\\u0db7 \\u0d9a\\u0dbb \\u0dad\\u0dd2\\u0db6\\u0dd9\\u0db1\\u0dc0\\u0dcf.\",\n          \"\\u0daf\\u0dd2\\u0dbd\\u0dca\\u0dbd\\u0dd2 \\u0dc0\\u0dca\\u200d\\u0dba\\u0dc0\\u0dc3\\u0dca\\u0dae\\u0dcf\\u0daf\\u0dcf\\u0dba\\u0d9a \\u0dc3\\u0db7\\u0dcf\\u0dc0 \\u0dc3\\u0db3\\u0dc4\\u0dcf \\u0dc0\\u0db1 \\u0db8\\u0dd0\\u0dad\\u0dd2\\u0dc0\\u0dbb\\u0dab\\u0dba\\u0da7 \\u0d85\\u0daf\\u0dcf\\u0dc5 \\u0da1\\u0db1\\u0dca\\u0daf \\u0dc0\\u0dd2\\u0db8\\u0dc3\\u0dd3\\u0db8 \\u0d85\\u0daf (05) \\u0db4\\u0dd0\\u0dc0\\u0dd0\\u0dad\\u0dca\\u0dc0\\u0dda.\\n\\n\\u0d91\\u0dc4\\u0dd2 \\u0db4\\u0dca\\u200d\\u0dbb\\u0dad\\u0dd2\\u0db5\\u0dbd \\u0db1\\u0dd2\\u0d9a\\u0dd4\\u0dad\\u0dca \\u0d9a\\u0dd2\\u0dbb\\u0dd3\\u0db8\\u0da7 \\u0db1\\u0dd2\\u0dba\\u0db8\\u0dd2\\u0dad\\u0dc0 \\u0d87\\u0dad\\u0dca\\u0dad\\u0dda \\u0db4\\u0dd9\\u0db6\\u0dbb\\u0dc0\\u0dcf\\u0dbb\\u0dd2 8 \\u0dc0\\u0dd0\\u0db1\\u0dd2\\u0daf\\u0dcf \\u0dba.\\n\\n\\u0da1\\u0db1\\u0dca\\u0daf \\u0db8\\u0db0\\u0dca\\u200d\\u0dba\\u0dc3\\u0dca\\u0dae\\u0dcf\\u0db1 13,033\\u0d9a \\u0daf\\u0dd3 \\u0db4\\u0dd9\\u0dbb\\u0dc0\\u0dbb\\u0dd4 7 \\u0da7 \\u0da1\\u0db1\\u0dca\\u0daf \\u0dc0\\u0dd2\\u0db8\\u0dc3\\u0dd3\\u0db8 \\u0d86\\u0dbb\\u0db8\\u0dca\\u0db7 \\u0dc0\\u0dd6 \\u0db6\\u0dc0 \\u0d89\\u0db1\\u0dca\\u0daf\\u0dd3\\u0dba \\u0db8\\u0dcf\\u0db0\\u0dca\\u200d\\u0dba \\u0dc0\\u0dcf\\u0dbb\\u0dca\\u0dad\\u0dcf \\u0d9a\\u0dbb\\u0dba\\u0dd2.\\n\\n\\u0db8\\u0dd9\\u0db8 \\u0db8\\u0dd0\\u0dad\\u0dd2\\u0dc0\\u0dbb\\u0dab\\u0dba\\u0dda \\u0daf\\u0dd3, \\u0dc0\\u0dc3\\u0dbb \\u0daf\\u0dc4\\u0dba\\u0d9a\\u0dca \\u0dad\\u0dd2\\u0dc3\\u0dca\\u0dc3\\u0dda \\u0daf\\u0dd2\\u0dbd\\u0dca\\u0dbd\\u0dd2 \\u0db4\\u0dca\\u200d\\u0dbb\\u0daf\\u0dda\\u0dc1\\u0dba \\u0db4\\u0dcf\\u0dbd\\u0db1\\u0dba \\u0d9a\\u0dc5 \\u0d86\\u0db8\\u0dca \\u0d86\\u0daf\\u0dca\\u0db8\\u0dd2 \\u0db4\\u0d9a\\u0dca\\u0dc2\\u0dba\\u0da7 (AAP) \\u0db7\\u0dcf\\u0dbb\\u0dad\\u0dd3\\u0dba \\u0da2\\u0db1\\u0dad\\u0dcf \\u0db4\\u0d9a\\u0dca\\u0dc2\\u0dba\\u0dd9\\u0db1\\u0dca (BJP) \\u0dc3\\u0dd0\\u0dbd\\u0d9a\\u0dd2\\u0dba \\u0dba\\u0dd4\\u0dad\\u0dd4 \\u0d85\\u0db7\\u0dd2\\u0dba\\u0ddd\\u0d9c\\u0dba\\u0d9a\\u0dca \\u0d91\\u0dbd\\u0dca\\u0dbd \\u0dc0\\u0dda \\u0dba\\u0dd0\\u0dba\\u0dd2 \\u0d85\\u0db4\\u0dda\\u0d9a\\u0dca\\u0dc2\\u0dcf \\u0d9a\\u0dd9\\u0dbb\\u0dda.\\n\\n\\u0daf\\u0dd2\\u0dbd\\u0dca\\u0dbd\\u0dd2\\u0dba \\u0dba\\u0db1\\u0dd4 \\u0d89\\u0db1\\u0dca\\u0daf\\u0dd2\\u0dba\\u0dcf\\u0dc0\\u0dda \\u0db8\\u0db0\\u0dca\\u200d\\u0dba\\u0db8 \\u0d86\\u0dab\\u0dca\\u0da9\\u0dd4\\u0dc0\\u0dda \\u0db4\\u0dcf\\u0dbd\\u0db1\\u0dba \\u0dba\\u0da7\\u0dad\\u0dda \\u0db4\\u0dc0\\u0dad\\u0dd2\\u0db1 \\u0db4\\u0dca\\u200d\\u0dbb\\u0daf\\u0dda\\u0dc1\\u0dba\\u0d9a\\u0dca \\u0dc0\\u0db1 \\u0d85\\u0dad\\u0dbb, \\u0d91\\u0dc4\\u0dd2 \\u0dc0\\u0dca\\u200d\\u0dba\\u0dc0\\u0dc3\\u0dca\\u0dae\\u0dcf\\u0daf\\u0dcf\\u0dba\\u0d9a \\u0dc3\\u0db7\\u0dcf\\u0dc0\\u0d9a\\u0dca \\u0db4\\u0dc0\\u0dad\\u0dd3. 2015 \\u0daf\\u0dd3 \\u0db4\\u0dd0\\u0dc0\\u0dad\\u0dd2 \\u0db8\\u0dd0\\u0dad\\u0dd2\\u0dc0\\u0dbb\\u0dab\\u0dba\\u0dd9\\u0db1\\u0dca \\u0d91\\u0dc4\\u0dd2 \\u0db6\\u0dbd\\u0dba \\u0d86\\u0db8\\u0dca \\u0d86\\u0daf\\u0dca\\u0db8\\u0dd2 \\u0db4\\u0d9a\\u0dca\\u0dc2\\u0dba\\u0da7 \\u0dc4\\u0dd2\\u0db8\\u0dd2 \\u0dc0\\u0dd6 \\u0d85\\u0dad\\u0dbb, 2020 \\u0daf\\u0dd3 \\u0db4\\u0dd0\\u0dc0\\u0dad\\u0dd2 \\u0db8\\u0dd0\\u0dad\\u0dd2\\u0dc0\\u0dbb\\u0dab\\u0dba\\u0dd9\\u0db1\\u0dca \\u0daf \\u0d94\\u0dc0\\u0dd4\\u0db1\\u0dca \\u0d91\\u0db8 \\u0db6\\u0dbd\\u0dba \\u0dbb\\u0db3\\u0dc0\\u0dcf \\u0d9c\\u0dd0\\u0db1\\u0dd3\\u0db8\\u0da7 \\u0dc3\\u0db8\\u0dad\\u0dca \\u0dc0\\u0dd2\\u0dba. \\u0dc0\\u0dca\\u200d\\u0dba\\u0dc0\\u0dc3\\u0dca\\u0dae\\u0dcf\\u0daf\\u0dcf\\u0dba\\u0d9a \\u0dc3\\u0db7\\u0dcf\\u0dc0\\u0dda \\u0d86\\u0dc3\\u0db1 70 \\u0db1\\u0dca 67 \\u0d9a\\u0dca 2015 \\u0daf\\u0dd3 \\u0da2\\u0dba\\u0d9c\\u0dad\\u0dca \\u0d86\\u0db8\\u0dca \\u0d86\\u0daf\\u0dca\\u0db8\\u0dd2 \\u0db4\\u0d9a\\u0dca\\u0dc2\\u0dba, 2020 \\u0daf\\u0dd3 \\u0d86\\u0dc3\\u0db1 62 \\u0d9a\\u0dca \\u0daf\\u0dd2\\u0db1\\u0dcf \\u0d9c\\u0dd0\\u0db1\\u0dd3\\u0db8\\u0da7 \\u0dc3\\u0db8\\u0dad\\u0dca \\u0dc0\\u0dd2\\u0dba.\\n\\n\\u0db4\\u0dc3\\u0dd4\\u0d9c\\u0dd2\\u0dba \\u0d9a\\u0dcf\\u0dbd\\u0dba\\u0dda \\u0daf\\u0dd3 \\u0d86\\u0db8\\u0dca \\u0d86\\u0daf\\u0dca\\u0db8\\u0dd2 \\u0db4\\u0d9a\\u0dca\\u0dc2\\u0dba\\u0da7 \\u0d91\\u0dbb\\u0dd9\\u0dc4\\u0dd2\\u0dc0 \\u0d91\\u0dbd\\u0dca\\u0dbd \\u0dc0\\u0dd6 \\u0daf\\u0dd6\\u0dc2\\u0dab \\u0da0\\u0ddd\\u0daf\\u0db1\\u0dcf \\u0dc4\\u0dda\\u0dad\\u0dd4\\u0dc0\\u0dd9\\u0db1\\u0dca \\u0d91\\u0db8 \\u0db4\\u0d9a\\u0dca\\u0dc2\\u0dba \\u0d9a\\u0dd9\\u0dbb\\u0dd9\\u0dc4\\u0dd2 \\u0da2\\u0db1\\u0dad\\u0dcf \\u0dc0\\u0dd2\\u0dc1\\u0dca\\u0dc0\\u0dcf\\u0dc3\\u0dba \\u0dba\\u0db8\\u0dca \\u0db4\\u0dca\\u200d\\u0dbb\\u0db8\\u0dcf\\u0dab\\u0dba\\u0d9a\\u0da7 \\u0db4\\u0dc5\\u0dd4\\u0daf\\u0dd4 \\u0dc0\\u0dd3 \\u0d87\\u0dad. \\u0db7\\u0dcf\\u0dbb\\u0dad\\u0dd3\\u0dba \\u0da2\\u0db1\\u0dad\\u0dcf \\u0db4\\u0d9a\\u0dca\\u0dc2\\u0dba \\u0dc0\\u0dd2\\u0dc1\\u0dca\\u0dc0\\u0dcf\\u0dc3 \\u0d9a\\u0dbb\\u0db1\\u0dca\\u0db1\\u0dda \\u0d91\\u0db8 \\u0dad\\u0dad\\u0dca\\u0dad\\u0dca\\u0dc0\\u0dba \\u0dad\\u0dd4\\u0dc5 \\u0dad\\u0db8 \\u0db4\\u0d9a\\u0dca\\u0dc2\\u0dba\\u0da7 \\u0dc0\\u0dd0\\u0da9\\u0dd2 \\u0dc0\\u0dcf\\u0dc3\\u0dd2 \\u0d85\\u0dad\\u0dca\\u0d9a\\u0dbb \\u0d9c\\u0dad \\u0dc4\\u0dd0\\u0d9a\\u0dd2 \\u0db6\\u0dc0\\u0dba\\u0dd2. \\u0d9a\\u0dd9\\u0dc3\\u0dda \\u0dc0\\u0dd9\\u0dad\\u0dad\\u0dca, \\u0dad\\u0dc0\\u0db8\\u0dad\\u0dca \\u0d86\\u0db8\\u0dca \\u0d86\\u0daf\\u0dca\\u0db8\\u0dd2 \\u0db4\\u0d9a\\u0dca\\u0dc2\\u0dba \\u0d89\\u0daf\\u0dd2\\u0dbb\\u0dd2\\u0dba\\u0dd9\\u0db1\\u0dca \\u0dc3\\u0dd2\\u0da7\\u0dd2\\u0db1 \\u0db6\\u0dc0 \\u0d87\\u0dad\\u0dd0\\u0db8\\u0dca \\u0daf\\u0dda\\u0dc1\\u0db4\\u0dcf\\u0dbd\\u0db1 \\u0dc0\\u0dd2\\u0da0\\u0dcf\\u0dbb\\u0d9a\\u0dba\\u0dd2\\u0db1\\u0dca\\u0d9c\\u0dda \\u0db8\\u0dad\\u0dba \\u0dc0\\u0dd3 \\u0d87\\u0dad.\\n\\n\\u0d86\\u0db8\\u0dca \\u0d86\\u0daf\\u0dca\\u0db8\\u0dd2 \\u0db4\\u0d9a\\u0dca\\u0dc2\\u0dba\\u0dda \\u0db4\\u0dca\\u200d\\u0dbb\\u0db0\\u0dcf\\u0db1 \\u0da1\\u0db1\\u0dca\\u0daf \\u0db4\\u0ddc\\u0dbb\\u0ddc\\u0db1\\u0dca\\u0daf\\u0dd4 \\u0d85\\u0dad\\u0dbb\\u0da7 \\u0d85\\u0db0\\u0dca\\u200d\\u0dba\\u0dcf\\u0db4\\u0db1\\u0dba, \\u0dc3\\u0dde\\u0d9b\\u0dca\\u200d\\u0dba \\u0dc3\\u0dda\\u0dc0\\u0dcf \\u0dc3\\u0dc4 \\u0db4\\u0dca\\u200d\\u0dbb\\u0dc0\\u0dcf\\u0dc4\\u0db1\\u0dba \\u0dc0\\u0dd0\\u0db1\\u0dd2 \\u0d85\\u0d82\\u0dc1 \\u0dc3\\u0db3\\u0dc4\\u0dcf \\u0dc0\\u0db1 \\u0dc3\\u0dc4\\u0db1 \\u0d87\\u0dad\\u0dd4\\u0dc5\\u0dad\\u0dca \\u0dc0\\u0dda. \\u0db7\\u0dcf\\u0dbb\\u0dad\\u0dd3\\u0dba \\u0da2\\u0db1\\u0dad\\u0dcf \\u0db4\\u0d9a\\u0dca\\u0dc2\\u0dba \\u0da2\\u0dcf\\u0dad\\u0dd2\\u0d9a \\u0d86\\u0dbb\\u0d9a\\u0dca\\u0dc2\\u0dcf\\u0dc0 \\u0dc3\\u0dc4 \\u0d86\\u0dbb\\u0dca\\u0dae\\u0dd2\\u0d9a \\u0dc3\\u0d82\\u0dc0\\u0dbb\\u0dca\\u0db0\\u0db1\\u0dba \\u0db4\\u0dd2\\u0dc5\\u0dd2\\u0db6\\u0db3 \\u0d9a\\u0dbb\\u0dd4\\u0dab\\u0dd4 \\u0d89\\u0dc3\\u0dca\\u0db8\\u0dad\\u0dd4 \\u0d9a\\u0dbb\\u0db8\\u0dd2\\u0db1\\u0dca \\u0da1\\u0db1\\u0dca\\u0daf \\u0dc0\\u0dca\\u200d\\u0dba\\u0dcf\\u0db4\\u0dcf\\u0dbb\\u0dba\\u0dda \\u0db1\\u0dd2\\u0dbb\\u0dad \\u0dc0\\u0dda.\\n\\n\\u0db8\\u0dd9\\u0db8 \\u0db8\\u0dd0\\u0dad\\u0dd2\\u0dc0\\u0dbb\\u0dab\\u0dba \\u0d89\\u0db1\\u0dca\\u0daf\\u0dd3\\u0dba \\u0daf\\u0dda\\u0dc1\\u0db4\\u0dcf\\u0dbd\\u0db1\\u0dba\\u0dda \\u0d89\\u0daf\\u0dd2\\u0dbb\\u0dd2 \\u0d9c\\u0db8\\u0db1\\u0dca \\u0db8\\u0d9c\\u0da7 \\u0dad\\u0dd3\\u0dbb\\u0dab\\u0dcf\\u0dad\\u0dca\\u0db8\\u0d9a \\u0dc3\\u0dcf\\u0db0\\u0d9a\\u0dba\\u0d9a\\u0dca \\u0dc0\\u0db1\\u0dd4 \\u0d87\\u0dad. \\u0d86\\u0db8\\u0dca \\u0d86\\u0daf\\u0dca\\u0db8\\u0dd2 \\u0db4\\u0d9a\\u0dca\\u0dc2\\u0dba \\u0db6\\u0dbd\\u0dba\\u0dda \\u0dbb\\u0dd0\\u0db3\\u0dd3 \\u0dc3\\u0dd2\\u0da7\\u0dd3\\u0db8\\u0da7 \\u0dc3\\u0db8\\u0dad\\u0dca \\u0dc0\\u0dd4\\u0dc0\\u0dc4\\u0ddc\\u0dad\\u0dca, \\u0d91\\u0dba \\u0d91\\u0db8 \\u0db4\\u0d9a\\u0dca\\u0dc2\\u0dba\\u0dda \\u0da2\\u0db1\\u0db4\\u0dca\\u200d\\u0dbb\\u0dd2\\u0dba\\u0dad\\u0dca\\u0dc0\\u0dba \\u0db4\\u0dd2\\u0dc5\\u0dd2\\u0db6\\u0db3 \\u0dc3\\u0dcf\\u0d9a\\u0dca\\u0dc2\\u0dd2\\u0dba\\u0d9a\\u0dca \\u0dc0\\u0db1\\u0dd4 \\u0d87\\u0dad. \\u0db7\\u0dcf\\u0dbb\\u0dad\\u0dd3\\u0dba \\u0da2\\u0db1\\u0dad\\u0dcf \\u0db4\\u0d9a\\u0dca\\u0dc2\\u0dba \\u0da2\\u0dba\\u0d9c\\u0dca\\u200d\\u0dbb\\u0dc4\\u0dab\\u0dba \\u0d9a\\u0dc5\\u0dc4\\u0ddc\\u0dad\\u0dca \\u0d91\\u0dba \\u0d89\\u0db1\\u0dca\\u0daf\\u0dd2\\u0dba\\u0dcf\\u0dc0\\u0dda \\u0daf\\u0dda\\u0dc1\\u0db4\\u0dcf\\u0dbd\\u0db1 \\u0db7\\u0dd6 \\u0daf\\u0dbb\\u0dca\\u0dc1\\u0db1\\u0dba\\u0dda \\u0dc3\\u0dd0\\u0dbd\\u0d9a\\u0dd2\\u0dba \\u0dba\\u0dd4\\u0dad\\u0dd4 \\u0dc0\\u0dd9\\u0db1\\u0dc3\\u0d9a\\u0dca \\u0dc3\\u0db1\\u0dd2\\u0da7\\u0dd4\\u0dc4\\u0db1\\u0dca \\u0d9a\\u0dbb\\u0db1\\u0dd4 \\u0d87\\u0dad.\",\n          \"\\u0dc3\\u0dd2\\u0dba\\u0dba\\u0da7 10\\u0dad\\u0dca 30\\u0dad\\u0dca \\u0d85\\u0dad\\u0dbb \\u0db4\\u0dca\\u200d\\u0dbb\\u0db8\\u0dcf\\u0dab\\u0dba\\u0d9a\\u0dd2\\u0db1\\u0dca \\u0da2\\u0dbd \\u0d9c\\u0dcf\\u0dc3\\u0dca\\u0dad\\u0dd4\\u0dc0 \\u0d85\\u0da9\\u0dd4\\u0d9a\\u0dd2\\u0dbb\\u0dd3\\u0db8\\u0da7 \\u0db4\\u0dd2\\u0dba\\u0dc0\\u0dbb \\u0d9c\\u0db1\\u0dca\\u0db1\\u0dcf \\u0db6\\u0dc0 \\u0da2\\u0dcf\\u0dad\\u0dd2\\u0d9a \\u0da2\\u0dbd \\u0dc3\\u0db8\\u0dca\\u0db4\\u0dcf\\u0daf\\u0db1 \\u0dc4\\u0dcf \\u0da2\\u0dbd\\u0dcf\\u0db4\\u0dc0\\u0dc4\\u0db1 \\u0db8\\u0dab\\u0dca\\u0da9\\u0dbd\\u0dba \\u0db4\\u0dc0\\u0dc3\\u0dba\\u0dd2.\\n\\n\\u0d91\\u0dc4\\u0dd2 \\u0db4\\u0dca\\u200d\\u0dbb\\u0d9a\\u0dcf\\u0dc1\\u0d9a\\u0dba\\u0dd9\\u0d9a\\u0dd4 \\u0db4\\u0dd0\\u0dc0\\u0dc3\\u0dd4\\u0dc0\\u0dda, \\u0dc0\\u0dd2\\u0daf\\u0dd4\\u0dbd\\u0dd2 \\u0db6\\u0dd2\\u0dbd \\u0d85\\u0da9\\u0dd4\\u0dc0\\u0dd3\\u0db8\\u0da7 \\u0dc3\\u0dcf\\u0db4\\u0dda\\u0d9a\\u0dca\\u0dc2\\u0dc0 \\u0db8\\u0dd9\\u0dbd\\u0dd9\\u0dc3 \\u0da2\\u0dbd \\u0d9c\\u0dcf\\u0dc3\\u0dca\\u0dad\\u0dd4 \\u0d85\\u0da9\\u0dd4 \\u0d9a\\u0dd2\\u0dbb\\u0dd3\\u0db8 \\u0d9a\\u0dd9\\u0dbb\\u0dd9\\u0dc4\\u0dd2 \\u0d85\\u0dc0\\u0db0\\u0dcf\\u0db1\\u0dba \\u0dba\\u0ddc\\u0db8\\u0dd4\\u0dc0 \\u0d87\\u0dad\\u0dd2 \\u0db6\\u0dc0\\u0dba.\\n\\n\\u0da2\\u0dbd \\u0d9c\\u0dcf\\u0dc3\\u0dca\\u0dad\\u0dd4 \\u0d85\\u0da9\\u0dd4\\u0d9a\\u0dd2\\u0dbb\\u0dd3\\u0db8 \\u0db4\\u0dd2\\u0dc5\\u0dd2\\u0db6\\u0db3 \\u0dc3\\u0ddc\\u0dba\\u0dcf \\u0db6\\u0dd0\\u0dbd\\u0dd3\\u0db8 \\u0dc3\\u0db3\\u0dc4\\u0dcf \\u0d9a\\u0db8\\u0dd2\\u0da7\\u0dd4\\u0dc0\\u0d9a\\u0dca \\u0db4\\u0dad\\u0dca\\u0d9a\\u0dbb \\u0d87\\u0dad\\u0dd2 \\u0db6\\u0dc0 \\u0dc3\\u0db3\\u0dc4\\u0db1\\u0dca\\u0dba.\\n\\n\\u0da2\\u0dbd \\u0db6\\u0dd2\\u0dbd \\u0d85\\u0da9\\u0dd4\\u0d9a\\u0dd2\\u0dbb\\u0dd3\\u0db8 \\u0dc3\\u0db3\\u0dc4\\u0dcf \\u0db4\\u0dad\\u0dca\\u0d9a\\u0dc5 \\u0d9a\\u0db8\\u0dd2\\u0da7\\u0dd4\\u0dc0\\u0dda \\u0dc0\\u0dcf\\u0dbb\\u0dca\\u0dad\\u0dcf\\u0dc0 \\u0d89\\u0daf\\u0dd2\\u0dbb\\u0dd2 \\u0daf\\u0dd2\\u0db1 \\u0d9a\\u0dd2\\u0dc4\\u0dd2\\u0db4\\u0dba \\u0d87\\u0dad\\u0dd4\\u0dc5\\u0dad \\u0da2\\u0dcf\\u0dad\\u0dd2\\u0d9a \\u0da2\\u0dbd \\u0dc3\\u0db8\\u0dca\\u0db4\\u0dcf\\u0daf\\u0db1 \\u0dc4\\u0dcf \\u0da2\\u0dbd\\u0dcf\\u0db4\\u0dc0\\u0dc4\\u0db1 \\u0db8\\u0dab\\u0dca\\u0da9\\u0dbd\\u0dba\\u0dda \\u0dc3\\u0db7\\u0dcf\\u0db4\\u0dad\\u0dd2\\u0dc0\\u0dbb\\u0dba\\u0dcf \\u0dc0\\u0dd9\\u0dad \\u0db7\\u0dcf\\u0dbb\\u0daf\\u0dd3\\u0db8\\u0da7 \\u0db1\\u0dd2\\u0dba\\u0db8\\u0dd2\\u0dad\\u0dc0 \\u0dad\\u0dd2\\u0db6\\u0dda.\\n\\n\\u0d85\\u0db1\\u0dad\\u0dd4\\u0dbb\\u0dd4\\u0dc0 \\u0dc3\\u0db7\\u0dcf\\u0db4\\u0dad\\u0dd2\\u0dc0\\u0dbb\\u0dba\\u0dcf \\u0dc0\\u0dd2\\u0dc3\\u0dd2\\u0db1\\u0dca \\u0d91\\u0db8 \\u0dc0\\u0dcf\\u0dbb\\u0dca\\u0dad\\u0dcf\\u0dc0 \\u0dc0\\u0dd2\\u0dc2\\u0dba\\u0db7\\u0dcf\\u0dbb \\u0d85\\u0db8\\u0dcf\\u0dad\\u0dca\\u200d\\u0dba\\u0dc0\\u0dbb\\u0dba\\u0dcf \\u0dc0\\u0dd9\\u0dad \\u0db7\\u0dcf\\u0dbb\\u0daf\\u0dd3\\u0db8\\u0dd9\\u0db1\\u0dca \\u0d85\\u0db1\\u0dad\\u0dd4\\u0dbb\\u0dd4\\u0dc0 \\u0d85\\u0daf\\u0dcf\\u0dc5 \\u0dba\\u0ddd\\u0da2\\u0db1\\u0dcf \\u0d85\\u0db8\\u0dcf\\u0dad\\u0dca\\u200d\\u0dba \\u0db8\\u0dab\\u0dca\\u0da9\\u0dbd\\u0dba \\u0dc0\\u0dd9\\u0dad \\u0d89\\u0daf\\u0dd2\\u0dbb\\u0dd2\\u0db4\\u0dad\\u0dca \\u0d9a\\u0dd2\\u0dbb\\u0dd3\\u0db8\\u0da7 \\u0db1\\u0dd2\\u0dba\\u0db8\\u0dd2\\u0dad \\u0db6\\u0dc0 \\u0dc0\\u0dcf\\u0dbb\\u0dca\\u0dad\\u0dcf \\u0dc0\\u0dda.\"\n        ],\n        \"semantic_type\": \"\",\n        \"description\": \"\"\n      }\n    },\n    {\n      \"column\": \"published_date\",\n      \"properties\": {\n        \"dtype\": \"string\",\n        \"num_unique_values\": 991,\n        \"samples\": [\n          \"2025-02-10 08:23:34.396\",\n          \"2025-02-08 05:50:00\",\n          \"2025-02-06 06:00:00\"\n        ],\n        \"semantic_type\": \"\",\n        \"description\": \"\"\n      }\n    },\n    {\n      \"column\": \"breaking_news\",\n      \"properties\": {\n        \"dtype\": \"boolean\",\n        \"num_unique_values\": 2,\n        \"samples\": [\n          true,\n          false\n        ],\n        \"semantic_type\": \"\",\n        \"description\": \"\"\n      }\n    },\n    {\n      \"column\": \"blob_image\",\n      \"properties\": {\n        \"dtype\": \"number\",\n        \"std\": null,\n        \"min\": null,\n        \"max\": null,\n        \"num_unique_values\": 0,\n        \"samples\": [],\n        \"semantic_type\": \"\",\n        \"description\": \"\"\n      }\n    },\n    {\n      \"column\": \"source_url\",\n      \"properties\": {\n        \"dtype\": \"string\",\n        \"num_unique_values\": 1000,\n        \"samples\": [],\n        \"semantic_type\": \"\",\n        \"description\": \"\"\n      }\n    },\n    {\n      \"column\": \"created_at\",\n      \"properties\": {\n        \"dtype\": \"string\",\n        \"num_unique_values\": 999,\n        \"samples\": [],\n        \"semantic_type\": \"\",\n        \"description\": \"\"\n      }\n    },\n    {\n      \"column\": \"updated_at\",\n      \"properties\": {\n        \"dtype\": \"string\",\n        \"num_unique_values\": 1000,\n        \"samples\": [],\n        \"semantic_type\": \"\",\n        \"description\": \"\"\n      }\n    },\n    {\n      \"column\": \"published_at\",\n      \"properties\": {\n        \"dtype\": \"string\",\n        \"num_unique_values\": 965,\n        \"samples\": [],\n        \"semantic_type\": \"\",\n        \"description\": \"\"\n      }\n    },\n    {\n      \"column\": \"created_by_id\",\n      \"properties\": {\n        \"dtype\": \"number\",\n        \"std\": 2.165843529047751,\n        \"min\": 1.0,\n        \"max\": 7.0,\n        \"num_unique_values\": 2,\n        \"samples\": [],\n        \"semantic_type\": \"\",\n        \"description\": \"\"\n      }\n    },\n    {\n      \"column\": \"updated_by_id\",\n      \"properties\": {\n        \"dtype\": \"number\",\n        \"std\": 2.9778664515364195,\n        \"min\": 1.0,\n        \"max\": 7.0,\n        \"num_unique_values\": 2,\n        \"samples\": [],\n        \"semantic_type\": \"\",\n        \"description\": \"\"\n      }\n    },\n    {\n      \"column\": \"shares\",\n      \"properties\": {\n        \"dtype\": \"number\",\n        \"std\": 0,\n        \"min\": 0,\n        \"max\": 4,\n        \"num_unique_values\": 5,\n        \"samples\": [],\n        \"semantic_type\": \"\",\n        \"description\": \"\"\n      }\n    },\n    {\n      \"column\": \"comment_count\",\n      \"properties\": {\n        \"dtype\": \"number\",\n        \"std\": 0,\n        \"min\": 0,\n        \"max\": 2,\n        \"num_unique_values\": 3,\n        \"samples\": [],\n        \"semantic_type\": \"\",\n        \"description\": \"\"\n      }\n    },\n    {\n      \"column\": \"type\",\n      \"properties\": {\n        \"dtype\": \"category\",\n        \"num_unique_values\": 2,\n        \"samples\": [],\n        \"semantic_type\": \"\",\n        \"description\": \"\"\n      }\n    }\n  ]\n}"
            }
          },
          "metadata": {},
          "execution_count": 16
        }
      ]
    },
    {
      "cell_type": "code",
      "source": [
        "# Displays the data types of each column\n",
        "news_df.dtypes"
      ],
      "metadata": {
        "colab": {
          "base_uri": "https://localhost:8080/",
          "height": 554
        },
        "id": "0EMYb9RCH9O0",
        "outputId": "2b4a11d1-a640-41f0-f6ce-a85c20f7119d"
      },
      "execution_count": 17,
      "outputs": [
        {
          "output_type": "execute_result",
          "data": {
            "text/plain": [
              "id                  int64\n",
              "title              object\n",
              "description        object\n",
              "published_date     object\n",
              "breaking_news        bool\n",
              "blob_image        float64\n",
              "source_url         object\n",
              "created_at         object\n",
              "updated_at         object\n",
              "published_at       object\n",
              "created_by_id     float64\n",
              "updated_by_id     float64\n",
              "shares              int64\n",
              "comment_count       int64\n",
              "type               object\n",
              "dtype: object"
            ],
            "text/html": [
              "<div>\n",
              "<style scoped>\n",
              "    .dataframe tbody tr th:only-of-type {\n",
              "        vertical-align: middle;\n",
              "    }\n",
              "\n",
              "    .dataframe tbody tr th {\n",
              "        vertical-align: top;\n",
              "    }\n",
              "\n",
              "    .dataframe thead th {\n",
              "        text-align: right;\n",
              "    }\n",
              "</style>\n",
              "<table border=\"1\" class=\"dataframe\">\n",
              "  <thead>\n",
              "    <tr style=\"text-align: right;\">\n",
              "      <th></th>\n",
              "      <th>0</th>\n",
              "    </tr>\n",
              "  </thead>\n",
              "  <tbody>\n",
              "    <tr>\n",
              "      <th>id</th>\n",
              "      <td>int64</td>\n",
              "    </tr>\n",
              "    <tr>\n",
              "      <th>title</th>\n",
              "      <td>object</td>\n",
              "    </tr>\n",
              "    <tr>\n",
              "      <th>description</th>\n",
              "      <td>object</td>\n",
              "    </tr>\n",
              "    <tr>\n",
              "      <th>published_date</th>\n",
              "      <td>object</td>\n",
              "    </tr>\n",
              "    <tr>\n",
              "      <th>breaking_news</th>\n",
              "      <td>bool</td>\n",
              "    </tr>\n",
              "    <tr>\n",
              "      <th>blob_image</th>\n",
              "      <td>float64</td>\n",
              "    </tr>\n",
              "    <tr>\n",
              "      <th>source_url</th>\n",
              "      <td>object</td>\n",
              "    </tr>\n",
              "    <tr>\n",
              "      <th>created_at</th>\n",
              "      <td>object</td>\n",
              "    </tr>\n",
              "    <tr>\n",
              "      <th>updated_at</th>\n",
              "      <td>object</td>\n",
              "    </tr>\n",
              "    <tr>\n",
              "      <th>published_at</th>\n",
              "      <td>object</td>\n",
              "    </tr>\n",
              "    <tr>\n",
              "      <th>created_by_id</th>\n",
              "      <td>float64</td>\n",
              "    </tr>\n",
              "    <tr>\n",
              "      <th>updated_by_id</th>\n",
              "      <td>float64</td>\n",
              "    </tr>\n",
              "    <tr>\n",
              "      <th>shares</th>\n",
              "      <td>int64</td>\n",
              "    </tr>\n",
              "    <tr>\n",
              "      <th>comment_count</th>\n",
              "      <td>int64</td>\n",
              "    </tr>\n",
              "    <tr>\n",
              "      <th>type</th>\n",
              "      <td>object</td>\n",
              "    </tr>\n",
              "  </tbody>\n",
              "</table>\n",
              "</div><br><label><b>dtype:</b> object</label>"
            ]
          },
          "metadata": {},
          "execution_count": 17
        }
      ]
    },
    {
      "cell_type": "code",
      "source": [
        "# Prints the number of missing (null) values in each column\n",
        "print(news_df.isnull().sum())"
      ],
      "metadata": {
        "colab": {
          "base_uri": "https://localhost:8080/"
        },
        "id": "a1R4NPiFFsMK",
        "outputId": "2bf85d27-cc18-4bf5-bfac-7d470661225c"
      },
      "execution_count": 18,
      "outputs": [
        {
          "output_type": "stream",
          "name": "stdout",
          "text": [
            "id                   0\n",
            "title                0\n",
            "description          0\n",
            "published_date       0\n",
            "breaking_news        0\n",
            "blob_image        1000\n",
            "source_url           0\n",
            "created_at           0\n",
            "updated_at           0\n",
            "published_at        35\n",
            "created_by_id      382\n",
            "updated_by_id       35\n",
            "shares               0\n",
            "comment_count        0\n",
            "type                 0\n",
            "dtype: int64\n"
          ]
        }
      ]
    },
    {
      "cell_type": "code",
      "source": [
        "# Removes the specified columns from the DataFrame\n",
        "news_df.drop(columns=[\"blob_image\", \"updated_by_id\", \"created_by_id\", \"shares\", \"comment_count\", \"type\"], inplace=True)"
      ],
      "metadata": {
        "id": "kEzWrDmDE390"
      },
      "execution_count": 19,
      "outputs": []
    },
    {
      "cell_type": "code",
      "source": [
        "# Fills missing (NaN) values in a column with the most frequently occurring value (mode).\n",
        "\n",
        "news_df['published_at'] = news_df['published_at'].fillna(news_df['published_at'].mode()[0])"
      ],
      "metadata": {
        "id": "SF7AQxBgGv8_"
      },
      "execution_count": 20,
      "outputs": []
    },
    {
      "cell_type": "code",
      "source": [
        "print(news_df.isnull().sum())"
      ],
      "metadata": {
        "colab": {
          "base_uri": "https://localhost:8080/"
        },
        "id": "JnCsHTgWHCpW",
        "outputId": "a728615e-fe3d-45bc-be37-e003f318609e"
      },
      "execution_count": 21,
      "outputs": [
        {
          "output_type": "stream",
          "name": "stdout",
          "text": [
            "id                0\n",
            "title             0\n",
            "description       0\n",
            "published_date    0\n",
            "breaking_news     0\n",
            "source_url        0\n",
            "created_at        0\n",
            "updated_at        0\n",
            "published_at      0\n",
            "dtype: int64\n"
          ]
        }
      ]
    },
    {
      "cell_type": "code",
      "source": [
        "# Helpful for text analysis or natural language processing tasks\n",
        "news_df['content'] = news_df['title'] + \" \" + news_df['description']"
      ],
      "metadata": {
        "id": "FrDwdVS8rWze"
      },
      "execution_count": 22,
      "outputs": []
    },
    {
      "cell_type": "code",
      "source": [
        "# Stop words which are don't carry significant meaning\n",
        "\n",
        "sinhala_stop_words = [\n",
        "    \"අතර\", \"ඉන්\", \"එක\", \"එය\", \"ඔබ\", \"ඔයා\", \"ඔහු\", \"ඔවුන්\",\n",
        "    \"ඕනෑ\", \"ආදිය\", \"ඇයි\", \"ඇතුලත\", \"ඉන්පසු\",\n",
        "    \"ඉස්සර\", \"එක්\", \"ඔය\", \"ඔයාලා\", \"ඔයාව\", \"උදාහරණ\", \"උපුටා\",\n",
        "    \"ඉදිරියට\",\"එදා\", \"ඒ\", \"ඒවා\", \"ඕන\", \"ඔක්කෝම\", \"ඔවුන්\",\n",
        "    \"අප\", \"අපේ\", \"ඇතුළත්\", \"ඇත\", \"ඊයේ\", \"ඔබට\", \"ඔබගේ\", \"එහි\",\n",
        "    \"එන්න\",\"ඕක\", \"ඉහළ\", \"ඔබේ\", \"අය\", \"ඔව්\",\n",
        "    \"අද\", \"ඉතා\", \"ඉතාම\", \"ඉහත\", \"අවශ්‍ය\", \"ඔයාලට\"\n",
        "]"
      ],
      "metadata": {
        "id": "jViLIcHJDlH2"
      },
      "execution_count": 23,
      "outputs": []
    },
    {
      "cell_type": "code",
      "source": [
        "def preprocess_sinhala_text(text):\n",
        "    text = str(text) # Ensure the input is a string\n",
        "    text = re.sub(r'[^\\u0D80-\\u0DFF\\s]', '', text) # Remove non-Sinhala characters except spaces\n",
        "    text = text.strip() # Remove leading and trailing spaces\n",
        "    tokens = word_tokenize(text) # Tokenize the text into words\n",
        "    tokens = [word for word in tokens if word not in sinhala_stop_words] # Remove stop words\n",
        "    return \" \".join(tokens) # Join tokens back into a cleaned string"
      ],
      "metadata": {
        "id": "HJjxOTtzE_8q"
      },
      "execution_count": 24,
      "outputs": []
    },
    {
      "cell_type": "code",
      "source": [
        "# Download tokenizer models\n",
        "nltk.download('punkt')"
      ],
      "metadata": {
        "colab": {
          "base_uri": "https://localhost:8080/"
        },
        "id": "fkoJnSNyFU-B",
        "outputId": "de9b5f7f-f2e7-4e7d-9cd9-8fd914a59f77"
      },
      "execution_count": 25,
      "outputs": [
        {
          "output_type": "stream",
          "name": "stderr",
          "text": [
            "[nltk_data] Downloading package punkt to /root/nltk_data...\n",
            "[nltk_data]   Package punkt is already up-to-date!\n"
          ]
        },
        {
          "output_type": "execute_result",
          "data": {
            "text/plain": [
              "True"
            ]
          },
          "metadata": {},
          "execution_count": 25
        }
      ]
    },
    {
      "cell_type": "code",
      "source": [
        "nltk.download('punkt_tab')"
      ],
      "metadata": {
        "colab": {
          "base_uri": "https://localhost:8080/"
        },
        "id": "nd2FkTXc8aB0",
        "outputId": "ac09ca08-e1dd-4ea2-eacd-ad4690895d88"
      },
      "execution_count": 26,
      "outputs": [
        {
          "output_type": "stream",
          "name": "stderr",
          "text": [
            "[nltk_data] Downloading package punkt_tab to /root/nltk_data...\n",
            "[nltk_data]   Unzipping tokenizers/punkt_tab.zip.\n"
          ]
        },
        {
          "output_type": "execute_result",
          "data": {
            "text/plain": [
              "True"
            ]
          },
          "metadata": {},
          "execution_count": 26
        }
      ]
    },
    {
      "cell_type": "code",
      "source": [
        "# Apply text preprocessing to each row in the 'content' column\n",
        "news_df['content'] = news_df['content'].apply(preprocess_sinhala_text)"
      ],
      "metadata": {
        "id": "gAzqTAqZFPNh"
      },
      "execution_count": 27,
      "outputs": []
    },
    {
      "cell_type": "code",
      "source": [
        "tfidf_vectorizer = TfidfVectorizer() # Create a TF-IDF vectorizer instance\n",
        "tfidf_matrix = tfidf_vectorizer.fit_transform(news_df['content']) # Convert the 'content' column into a TF-IDF matrix"
      ],
      "metadata": {
        "id": "NBLX5cdNFZN4"
      },
      "execution_count": 28,
      "outputs": []
    },
    {
      "cell_type": "code",
      "source": [
        "# Compute cosine similarity between all text entries\n",
        "cosine_sim = cosine_similarity(tfidf_matrix, tfidf_matrix) # Measures how similar each text entry in news_df['content'] is to every other entry"
      ],
      "metadata": {
        "id": "SvOWNQZ9Fbfx"
      },
      "execution_count": 29,
      "outputs": []
    },
    {
      "cell_type": "code",
      "source": [
        "# Create a DataFrame to store cosine similarity scores with 'id' as index and columns\n",
        "cosine_sim_df = pd.DataFrame(cosine_sim, index=news_df['id'], columns=news_df['id'])"
      ],
      "metadata": {
        "id": "Qtkp54V6Fdsg"
      },
      "execution_count": 30,
      "outputs": []
    },
    {
      "cell_type": "code",
      "source": [
        "with open('cbf_model_cosine_sim.pkl', 'wb') as f: # Open a file in write-binary mode to save the cosine similarity model\n",
        "    pickle.dump(cosine_sim, f) # Serialize and save the cosine similarity matrix to the file"
      ],
      "metadata": {
        "id": "O60OAXQZlXqW"
      },
      "execution_count": 31,
      "outputs": []
    },
    {
      "cell_type": "code",
      "source": [
        "with open('cbf_model_tfidf.pkl', 'wb') as f:\n",
        "    pickle.dump(tfidf_vectorizer, f)  # Serialize and save the TF-IDF vectorizer"
      ],
      "metadata": {
        "id": "8qAAnNKmDw9u"
      },
      "execution_count": 32,
      "outputs": []
    },
    {
      "cell_type": "code",
      "source": [
        "def recommend_content_based(news_id, cosine_sim=cosine_sim, top_n=5):\n",
        "    if news_id not in news_df['id'].values: # Check if the provided news_id exists in the 'id' column of the DataFrame\n",
        "        return [] # Return an empty list if the news_id does not exist\n",
        "\n",
        "    idx = news_df[news_df['id'] == news_id].index[0]  # Get the index of the article with the given news_id\n",
        "    sim_scores = list(enumerate(cosine_sim[idx])) # Retrieve the cosine similarity scores for the article at the given index\n",
        "    sim_scores = sorted(sim_scores, key=lambda x: x[1], reverse=True) # Sort the similarity scores in descending order (highest similarity first)\n",
        "    sim_scores = sim_scores[1:top_n+1] # Get the top N most similar articles (excluding the article itself)\n",
        "    recommended_indices = [x[0] for x in sim_scores] # Extract the indices of the most similar articles\n",
        "\n",
        "    return news_df.iloc[recommended_indices]['id'].tolist() # Return the 'id' of the recommended articles as a list"
      ],
      "metadata": {
        "id": "RfoFeOfVDsjO"
      },
      "execution_count": 33,
      "outputs": []
    },
    {
      "cell_type": "code",
      "source": [
        "# Call the recommend_content_based function to get the top 5 similar articles to the article with ID 23996\n",
        "recommended_articles = recommend_content_based(23996, top_n=5)\n",
        "print(recommended_articles)\n"
      ],
      "metadata": {
        "colab": {
          "base_uri": "https://localhost:8080/"
        },
        "id": "Vjkg4znIDxwe",
        "outputId": "76161a2d-b4bd-4f4b-fe1d-254315b22403"
      },
      "execution_count": 34,
      "outputs": [
        {
          "output_type": "stream",
          "name": "stdout",
          "text": [
            "[23097, 23794, 23158, 23819, 23710]\n"
          ]
        }
      ]
    },
    {
      "cell_type": "markdown",
      "source": [
        "## Collaborative Filtering"
      ],
      "metadata": {
        "id": "qm0GYEkzQv78"
      }
    },
    {
      "cell_type": "code",
      "source": [
        "# For Building recommender systems\n",
        "!pip install scikit-surprise"
      ],
      "metadata": {
        "colab": {
          "base_uri": "https://localhost:8080/"
        },
        "id": "ggoLKsyHHxr7",
        "outputId": "7a6143d1-43c2-490a-b89f-5538ee094a59"
      },
      "execution_count": 35,
      "outputs": [
        {
          "output_type": "stream",
          "name": "stdout",
          "text": [
            "Collecting scikit-surprise\n",
            "  Downloading scikit_surprise-1.1.4.tar.gz (154 kB)\n",
            "\u001b[?25l     \u001b[90m━━━━━━━━━━━━━━━━━━━━━━━━━━━━━━━━━━━━━━━━\u001b[0m \u001b[32m0.0/154.4 kB\u001b[0m \u001b[31m?\u001b[0m eta \u001b[36m-:--:--\u001b[0m\r\u001b[2K     \u001b[91m━━━━━━━━━━━━━━━━━━━━━━━━━━━━━━━━━━━━━━━\u001b[0m\u001b[91m╸\u001b[0m \u001b[32m153.6/154.4 kB\u001b[0m \u001b[31m5.2 MB/s\u001b[0m eta \u001b[36m0:00:01\u001b[0m\r\u001b[2K     \u001b[90m━━━━━━━━━━━━━━━━━━━━━━━━━━━━━━━━━━━━━━━━\u001b[0m \u001b[32m154.4/154.4 kB\u001b[0m \u001b[31m3.5 MB/s\u001b[0m eta \u001b[36m0:00:00\u001b[0m\n",
            "\u001b[?25h  Installing build dependencies ... \u001b[?25l\u001b[?25hdone\n",
            "  Getting requirements to build wheel ... \u001b[?25l\u001b[?25hdone\n",
            "  Preparing metadata (pyproject.toml) ... \u001b[?25l\u001b[?25hdone\n",
            "Requirement already satisfied: joblib>=1.2.0 in /usr/local/lib/python3.11/dist-packages (from scikit-surprise) (1.4.2)\n",
            "Requirement already satisfied: numpy>=1.19.5 in /usr/local/lib/python3.11/dist-packages (from scikit-surprise) (1.26.4)\n",
            "Requirement already satisfied: scipy>=1.6.0 in /usr/local/lib/python3.11/dist-packages (from scikit-surprise) (1.13.1)\n",
            "Building wheels for collected packages: scikit-surprise\n",
            "  Building wheel for scikit-surprise (pyproject.toml) ... \u001b[?25l\u001b[?25hdone\n",
            "  Created wheel for scikit-surprise: filename=scikit_surprise-1.1.4-cp311-cp311-linux_x86_64.whl size=2505178 sha256=43b5d8ca48d972e80a1b140e66b92799b997681691f7c5759e0fd88333d8cf7b\n",
            "  Stored in directory: /root/.cache/pip/wheels/2a/8f/6e/7e2899163e2d85d8266daab4aa1cdabec7a6c56f83c015b5af\n",
            "Successfully built scikit-surprise\n",
            "Installing collected packages: scikit-surprise\n",
            "Successfully installed scikit-surprise-1.1.4\n"
          ]
        }
      ]
    },
    {
      "cell_type": "code",
      "source": [
        "import pandas as pd # For handling data in DataFrame format\n",
        "import numpy as np # For numerical operations and array handling\n",
        "import pickle # For serializing and saving Python objects\n",
        "from sklearn.neighbors import NearestNeighbors # For building nearest neighbor models\n",
        "from surprise import SVD, Dataset, Reader # (Singular Value Decomposition) Dataset/Reader classes from Surprise for collaborative filtering-based recommender systems\n",
        "from surprise.model_selection import train_test_split # For splitting data into training and test sets\n",
        "import datetime # For working with dates and times (Helpful for timestamping data or filtering by dates)"
      ],
      "metadata": {
        "id": "Sn4r6p87Hejz"
      },
      "execution_count": 36,
      "outputs": []
    },
    {
      "cell_type": "code",
      "source": [
        "rec_feedback_df = pd.read_csv('rec_feedback.csv')\n",
        "\n",
        "users_df = pd.read_csv('users.csv')"
      ],
      "metadata": {
        "id": "ulv9kBiuRAf0"
      },
      "execution_count": 37,
      "outputs": []
    },
    {
      "cell_type": "code",
      "source": [
        "rec_feedback_df.head() # Display the first 5 rows"
      ],
      "metadata": {
        "colab": {
          "base_uri": "https://localhost:8080/",
          "height": 206
        },
        "id": "bqs741gNRE67",
        "outputId": "43f1954e-40c3-49a0-e705-362a8c523291"
      },
      "execution_count": 38,
      "outputs": [
        {
          "output_type": "execute_result",
          "data": {
            "text/plain": [
              "      id feedback_type                  time_stamp  comment  user_id  item_id  \\\n",
              "0  49554         click  2025-02-13 10:03:47.440412      NaN     1182    23942   \n",
              "1  49553          read  2025-02-13 10:03:42.411734      NaN     1182    23942   \n",
              "2  49552         click  2025-02-13 10:01:54.947236      NaN     1058    23942   \n",
              "3  49550         click  2025-02-13 10:01:31.955569      NaN     1058    23930   \n",
              "4  49549         click  2025-02-13 10:01:10.809916      NaN     1058    23941   \n",
              "\n",
              "   created_at  updated_at  created_by_id  updated_by_id  \n",
              "0         NaN         NaN            NaN            NaN  \n",
              "1         NaN         NaN            NaN            NaN  \n",
              "2         NaN         NaN            NaN            NaN  \n",
              "3         NaN         NaN            NaN            NaN  \n",
              "4         NaN         NaN            NaN            NaN  "
            ],
            "text/html": [
              "\n",
              "  <div id=\"df-adca8cbd-2af2-422c-b993-f7c42317f289\" class=\"colab-df-container\">\n",
              "    <div>\n",
              "<style scoped>\n",
              "    .dataframe tbody tr th:only-of-type {\n",
              "        vertical-align: middle;\n",
              "    }\n",
              "\n",
              "    .dataframe tbody tr th {\n",
              "        vertical-align: top;\n",
              "    }\n",
              "\n",
              "    .dataframe thead th {\n",
              "        text-align: right;\n",
              "    }\n",
              "</style>\n",
              "<table border=\"1\" class=\"dataframe\">\n",
              "  <thead>\n",
              "    <tr style=\"text-align: right;\">\n",
              "      <th></th>\n",
              "      <th>id</th>\n",
              "      <th>feedback_type</th>\n",
              "      <th>time_stamp</th>\n",
              "      <th>comment</th>\n",
              "      <th>user_id</th>\n",
              "      <th>item_id</th>\n",
              "      <th>created_at</th>\n",
              "      <th>updated_at</th>\n",
              "      <th>created_by_id</th>\n",
              "      <th>updated_by_id</th>\n",
              "    </tr>\n",
              "  </thead>\n",
              "  <tbody>\n",
              "    <tr>\n",
              "      <th>0</th>\n",
              "      <td>49554</td>\n",
              "      <td>click</td>\n",
              "      <td>2025-02-13 10:03:47.440412</td>\n",
              "      <td>NaN</td>\n",
              "      <td>1182</td>\n",
              "      <td>23942</td>\n",
              "      <td>NaN</td>\n",
              "      <td>NaN</td>\n",
              "      <td>NaN</td>\n",
              "      <td>NaN</td>\n",
              "    </tr>\n",
              "    <tr>\n",
              "      <th>1</th>\n",
              "      <td>49553</td>\n",
              "      <td>read</td>\n",
              "      <td>2025-02-13 10:03:42.411734</td>\n",
              "      <td>NaN</td>\n",
              "      <td>1182</td>\n",
              "      <td>23942</td>\n",
              "      <td>NaN</td>\n",
              "      <td>NaN</td>\n",
              "      <td>NaN</td>\n",
              "      <td>NaN</td>\n",
              "    </tr>\n",
              "    <tr>\n",
              "      <th>2</th>\n",
              "      <td>49552</td>\n",
              "      <td>click</td>\n",
              "      <td>2025-02-13 10:01:54.947236</td>\n",
              "      <td>NaN</td>\n",
              "      <td>1058</td>\n",
              "      <td>23942</td>\n",
              "      <td>NaN</td>\n",
              "      <td>NaN</td>\n",
              "      <td>NaN</td>\n",
              "      <td>NaN</td>\n",
              "    </tr>\n",
              "    <tr>\n",
              "      <th>3</th>\n",
              "      <td>49550</td>\n",
              "      <td>click</td>\n",
              "      <td>2025-02-13 10:01:31.955569</td>\n",
              "      <td>NaN</td>\n",
              "      <td>1058</td>\n",
              "      <td>23930</td>\n",
              "      <td>NaN</td>\n",
              "      <td>NaN</td>\n",
              "      <td>NaN</td>\n",
              "      <td>NaN</td>\n",
              "    </tr>\n",
              "    <tr>\n",
              "      <th>4</th>\n",
              "      <td>49549</td>\n",
              "      <td>click</td>\n",
              "      <td>2025-02-13 10:01:10.809916</td>\n",
              "      <td>NaN</td>\n",
              "      <td>1058</td>\n",
              "      <td>23941</td>\n",
              "      <td>NaN</td>\n",
              "      <td>NaN</td>\n",
              "      <td>NaN</td>\n",
              "      <td>NaN</td>\n",
              "    </tr>\n",
              "  </tbody>\n",
              "</table>\n",
              "</div>\n",
              "    <div class=\"colab-df-buttons\">\n",
              "\n",
              "  <div class=\"colab-df-container\">\n",
              "    <button class=\"colab-df-convert\" onclick=\"convertToInteractive('df-adca8cbd-2af2-422c-b993-f7c42317f289')\"\n",
              "            title=\"Convert this dataframe to an interactive table.\"\n",
              "            style=\"display:none;\">\n",
              "\n",
              "  <svg xmlns=\"http://www.w3.org/2000/svg\" height=\"24px\" viewBox=\"0 -960 960 960\">\n",
              "    <path d=\"M120-120v-720h720v720H120Zm60-500h600v-160H180v160Zm220 220h160v-160H400v160Zm0 220h160v-160H400v160ZM180-400h160v-160H180v160Zm440 0h160v-160H620v160ZM180-180h160v-160H180v160Zm440 0h160v-160H620v160Z\"/>\n",
              "  </svg>\n",
              "    </button>\n",
              "\n",
              "  <style>\n",
              "    .colab-df-container {\n",
              "      display:flex;\n",
              "      gap: 12px;\n",
              "    }\n",
              "\n",
              "    .colab-df-convert {\n",
              "      background-color: #E8F0FE;\n",
              "      border: none;\n",
              "      border-radius: 50%;\n",
              "      cursor: pointer;\n",
              "      display: none;\n",
              "      fill: #1967D2;\n",
              "      height: 32px;\n",
              "      padding: 0 0 0 0;\n",
              "      width: 32px;\n",
              "    }\n",
              "\n",
              "    .colab-df-convert:hover {\n",
              "      background-color: #E2EBFA;\n",
              "      box-shadow: 0px 1px 2px rgba(60, 64, 67, 0.3), 0px 1px 3px 1px rgba(60, 64, 67, 0.15);\n",
              "      fill: #174EA6;\n",
              "    }\n",
              "\n",
              "    .colab-df-buttons div {\n",
              "      margin-bottom: 4px;\n",
              "    }\n",
              "\n",
              "    [theme=dark] .colab-df-convert {\n",
              "      background-color: #3B4455;\n",
              "      fill: #D2E3FC;\n",
              "    }\n",
              "\n",
              "    [theme=dark] .colab-df-convert:hover {\n",
              "      background-color: #434B5C;\n",
              "      box-shadow: 0px 1px 3px 1px rgba(0, 0, 0, 0.15);\n",
              "      filter: drop-shadow(0px 1px 2px rgba(0, 0, 0, 0.3));\n",
              "      fill: #FFFFFF;\n",
              "    }\n",
              "  </style>\n",
              "\n",
              "    <script>\n",
              "      const buttonEl =\n",
              "        document.querySelector('#df-adca8cbd-2af2-422c-b993-f7c42317f289 button.colab-df-convert');\n",
              "      buttonEl.style.display =\n",
              "        google.colab.kernel.accessAllowed ? 'block' : 'none';\n",
              "\n",
              "      async function convertToInteractive(key) {\n",
              "        const element = document.querySelector('#df-adca8cbd-2af2-422c-b993-f7c42317f289');\n",
              "        const dataTable =\n",
              "          await google.colab.kernel.invokeFunction('convertToInteractive',\n",
              "                                                    [key], {});\n",
              "        if (!dataTable) return;\n",
              "\n",
              "        const docLinkHtml = 'Like what you see? Visit the ' +\n",
              "          '<a target=\"_blank\" href=https://colab.research.google.com/notebooks/data_table.ipynb>data table notebook</a>'\n",
              "          + ' to learn more about interactive tables.';\n",
              "        element.innerHTML = '';\n",
              "        dataTable['output_type'] = 'display_data';\n",
              "        await google.colab.output.renderOutput(dataTable, element);\n",
              "        const docLink = document.createElement('div');\n",
              "        docLink.innerHTML = docLinkHtml;\n",
              "        element.appendChild(docLink);\n",
              "      }\n",
              "    </script>\n",
              "  </div>\n",
              "\n",
              "\n",
              "<div id=\"df-cbd43ae0-8510-432e-b3c0-9757898152b0\">\n",
              "  <button class=\"colab-df-quickchart\" onclick=\"quickchart('df-cbd43ae0-8510-432e-b3c0-9757898152b0')\"\n",
              "            title=\"Suggest charts\"\n",
              "            style=\"display:none;\">\n",
              "\n",
              "<svg xmlns=\"http://www.w3.org/2000/svg\" height=\"24px\"viewBox=\"0 0 24 24\"\n",
              "     width=\"24px\">\n",
              "    <g>\n",
              "        <path d=\"M19 3H5c-1.1 0-2 .9-2 2v14c0 1.1.9 2 2 2h14c1.1 0 2-.9 2-2V5c0-1.1-.9-2-2-2zM9 17H7v-7h2v7zm4 0h-2V7h2v10zm4 0h-2v-4h2v4z\"/>\n",
              "    </g>\n",
              "</svg>\n",
              "  </button>\n",
              "\n",
              "<style>\n",
              "  .colab-df-quickchart {\n",
              "      --bg-color: #E8F0FE;\n",
              "      --fill-color: #1967D2;\n",
              "      --hover-bg-color: #E2EBFA;\n",
              "      --hover-fill-color: #174EA6;\n",
              "      --disabled-fill-color: #AAA;\n",
              "      --disabled-bg-color: #DDD;\n",
              "  }\n",
              "\n",
              "  [theme=dark] .colab-df-quickchart {\n",
              "      --bg-color: #3B4455;\n",
              "      --fill-color: #D2E3FC;\n",
              "      --hover-bg-color: #434B5C;\n",
              "      --hover-fill-color: #FFFFFF;\n",
              "      --disabled-bg-color: #3B4455;\n",
              "      --disabled-fill-color: #666;\n",
              "  }\n",
              "\n",
              "  .colab-df-quickchart {\n",
              "    background-color: var(--bg-color);\n",
              "    border: none;\n",
              "    border-radius: 50%;\n",
              "    cursor: pointer;\n",
              "    display: none;\n",
              "    fill: var(--fill-color);\n",
              "    height: 32px;\n",
              "    padding: 0;\n",
              "    width: 32px;\n",
              "  }\n",
              "\n",
              "  .colab-df-quickchart:hover {\n",
              "    background-color: var(--hover-bg-color);\n",
              "    box-shadow: 0 1px 2px rgba(60, 64, 67, 0.3), 0 1px 3px 1px rgba(60, 64, 67, 0.15);\n",
              "    fill: var(--button-hover-fill-color);\n",
              "  }\n",
              "\n",
              "  .colab-df-quickchart-complete:disabled,\n",
              "  .colab-df-quickchart-complete:disabled:hover {\n",
              "    background-color: var(--disabled-bg-color);\n",
              "    fill: var(--disabled-fill-color);\n",
              "    box-shadow: none;\n",
              "  }\n",
              "\n",
              "  .colab-df-spinner {\n",
              "    border: 2px solid var(--fill-color);\n",
              "    border-color: transparent;\n",
              "    border-bottom-color: var(--fill-color);\n",
              "    animation:\n",
              "      spin 1s steps(1) infinite;\n",
              "  }\n",
              "\n",
              "  @keyframes spin {\n",
              "    0% {\n",
              "      border-color: transparent;\n",
              "      border-bottom-color: var(--fill-color);\n",
              "      border-left-color: var(--fill-color);\n",
              "    }\n",
              "    20% {\n",
              "      border-color: transparent;\n",
              "      border-left-color: var(--fill-color);\n",
              "      border-top-color: var(--fill-color);\n",
              "    }\n",
              "    30% {\n",
              "      border-color: transparent;\n",
              "      border-left-color: var(--fill-color);\n",
              "      border-top-color: var(--fill-color);\n",
              "      border-right-color: var(--fill-color);\n",
              "    }\n",
              "    40% {\n",
              "      border-color: transparent;\n",
              "      border-right-color: var(--fill-color);\n",
              "      border-top-color: var(--fill-color);\n",
              "    }\n",
              "    60% {\n",
              "      border-color: transparent;\n",
              "      border-right-color: var(--fill-color);\n",
              "    }\n",
              "    80% {\n",
              "      border-color: transparent;\n",
              "      border-right-color: var(--fill-color);\n",
              "      border-bottom-color: var(--fill-color);\n",
              "    }\n",
              "    90% {\n",
              "      border-color: transparent;\n",
              "      border-bottom-color: var(--fill-color);\n",
              "    }\n",
              "  }\n",
              "</style>\n",
              "\n",
              "  <script>\n",
              "    async function quickchart(key) {\n",
              "      const quickchartButtonEl =\n",
              "        document.querySelector('#' + key + ' button');\n",
              "      quickchartButtonEl.disabled = true;  // To prevent multiple clicks.\n",
              "      quickchartButtonEl.classList.add('colab-df-spinner');\n",
              "      try {\n",
              "        const charts = await google.colab.kernel.invokeFunction(\n",
              "            'suggestCharts', [key], {});\n",
              "      } catch (error) {\n",
              "        console.error('Error during call to suggestCharts:', error);\n",
              "      }\n",
              "      quickchartButtonEl.classList.remove('colab-df-spinner');\n",
              "      quickchartButtonEl.classList.add('colab-df-quickchart-complete');\n",
              "    }\n",
              "    (() => {\n",
              "      let quickchartButtonEl =\n",
              "        document.querySelector('#df-cbd43ae0-8510-432e-b3c0-9757898152b0 button');\n",
              "      quickchartButtonEl.style.display =\n",
              "        google.colab.kernel.accessAllowed ? 'block' : 'none';\n",
              "    })();\n",
              "  </script>\n",
              "</div>\n",
              "\n",
              "    </div>\n",
              "  </div>\n"
            ],
            "application/vnd.google.colaboratory.intrinsic+json": {
              "type": "dataframe",
              "variable_name": "rec_feedback_df",
              "summary": "{\n  \"name\": \"rec_feedback_df\",\n  \"rows\": 1000,\n  \"fields\": [\n    {\n      \"column\": \"id\",\n      \"properties\": {\n        \"dtype\": \"number\",\n        \"std\": 359,\n        \"min\": 48319,\n        \"max\": 49554,\n        \"num_unique_values\": 1000,\n        \"samples\": [\n          48929,\n          48655,\n          48651\n        ],\n        \"semantic_type\": \"\",\n        \"description\": \"\"\n      }\n    },\n    {\n      \"column\": \"feedback_type\",\n      \"properties\": {\n        \"dtype\": \"category\",\n        \"num_unique_values\": 4,\n        \"samples\": [\n          \"read\",\n          \"share\",\n          \"click\"\n        ],\n        \"semantic_type\": \"\",\n        \"description\": \"\"\n      }\n    },\n    {\n      \"column\": \"time_stamp\",\n      \"properties\": {\n        \"dtype\": \"object\",\n        \"num_unique_values\": 1000,\n        \"samples\": [\n          \"2025-02-11 04:42:23.677528\",\n          \"2025-02-10 09:36:41.947892\",\n          \"2025-02-10 09:26:31.421717\"\n        ],\n        \"semantic_type\": \"\",\n        \"description\": \"\"\n      }\n    },\n    {\n      \"column\": \"comment\",\n      \"properties\": {\n        \"dtype\": \"number\",\n        \"std\": null,\n        \"min\": null,\n        \"max\": null,\n        \"num_unique_values\": 0,\n        \"samples\": [],\n        \"semantic_type\": \"\",\n        \"description\": \"\"\n      }\n    },\n    {\n      \"column\": \"user_id\",\n      \"properties\": {\n        \"dtype\": \"number\",\n        \"std\": 665,\n        \"min\": 257,\n        \"max\": 2329,\n        \"num_unique_values\": 107,\n        \"samples\": [],\n        \"semantic_type\": \"\",\n        \"description\": \"\"\n      }\n    },\n    {\n      \"column\": \"item_id\",\n      \"properties\": {\n        \"dtype\": \"number\",\n        \"std\": 1533,\n        \"min\": 15257,\n        \"max\": 23962,\n        \"num_unique_values\": 332,\n        \"samples\": [],\n        \"semantic_type\": \"\",\n        \"description\": \"\"\n      }\n    },\n    {\n      \"column\": \"created_at\",\n      \"properties\": {\n        \"dtype\": \"number\",\n        \"std\": null,\n        \"min\": null,\n        \"max\": null,\n        \"num_unique_values\": 0,\n        \"samples\": [],\n        \"semantic_type\": \"\",\n        \"description\": \"\"\n      }\n    },\n    {\n      \"column\": \"updated_at\",\n      \"properties\": {\n        \"dtype\": \"number\",\n        \"std\": null,\n        \"min\": null,\n        \"max\": null,\n        \"num_unique_values\": 0,\n        \"samples\": [],\n        \"semantic_type\": \"\",\n        \"description\": \"\"\n      }\n    },\n    {\n      \"column\": \"created_by_id\",\n      \"properties\": {\n        \"dtype\": \"number\",\n        \"std\": null,\n        \"min\": null,\n        \"max\": null,\n        \"num_unique_values\": 0,\n        \"samples\": [],\n        \"semantic_type\": \"\",\n        \"description\": \"\"\n      }\n    },\n    {\n      \"column\": \"updated_by_id\",\n      \"properties\": {\n        \"dtype\": \"number\",\n        \"std\": null,\n        \"min\": null,\n        \"max\": null,\n        \"num_unique_values\": 0,\n        \"samples\": [],\n        \"semantic_type\": \"\",\n        \"description\": \"\"\n      }\n    }\n  ]\n}"
            }
          },
          "metadata": {},
          "execution_count": 38
        }
      ]
    },
    {
      "cell_type": "code",
      "source": [
        "# Display the data types of each column\n",
        "rec_feedback_df.dtypes"
      ],
      "metadata": {
        "colab": {
          "base_uri": "https://localhost:8080/",
          "height": 398
        },
        "id": "wn_gZgApRIDT",
        "outputId": "ad4f2823-f52d-4eac-e2d3-3c2eb4ce3013"
      },
      "execution_count": 39,
      "outputs": [
        {
          "output_type": "execute_result",
          "data": {
            "text/plain": [
              "id                 int64\n",
              "feedback_type     object\n",
              "time_stamp        object\n",
              "comment          float64\n",
              "user_id            int64\n",
              "item_id            int64\n",
              "created_at       float64\n",
              "updated_at       float64\n",
              "created_by_id    float64\n",
              "updated_by_id    float64\n",
              "dtype: object"
            ],
            "text/html": [
              "<div>\n",
              "<style scoped>\n",
              "    .dataframe tbody tr th:only-of-type {\n",
              "        vertical-align: middle;\n",
              "    }\n",
              "\n",
              "    .dataframe tbody tr th {\n",
              "        vertical-align: top;\n",
              "    }\n",
              "\n",
              "    .dataframe thead th {\n",
              "        text-align: right;\n",
              "    }\n",
              "</style>\n",
              "<table border=\"1\" class=\"dataframe\">\n",
              "  <thead>\n",
              "    <tr style=\"text-align: right;\">\n",
              "      <th></th>\n",
              "      <th>0</th>\n",
              "    </tr>\n",
              "  </thead>\n",
              "  <tbody>\n",
              "    <tr>\n",
              "      <th>id</th>\n",
              "      <td>int64</td>\n",
              "    </tr>\n",
              "    <tr>\n",
              "      <th>feedback_type</th>\n",
              "      <td>object</td>\n",
              "    </tr>\n",
              "    <tr>\n",
              "      <th>time_stamp</th>\n",
              "      <td>object</td>\n",
              "    </tr>\n",
              "    <tr>\n",
              "      <th>comment</th>\n",
              "      <td>float64</td>\n",
              "    </tr>\n",
              "    <tr>\n",
              "      <th>user_id</th>\n",
              "      <td>int64</td>\n",
              "    </tr>\n",
              "    <tr>\n",
              "      <th>item_id</th>\n",
              "      <td>int64</td>\n",
              "    </tr>\n",
              "    <tr>\n",
              "      <th>created_at</th>\n",
              "      <td>float64</td>\n",
              "    </tr>\n",
              "    <tr>\n",
              "      <th>updated_at</th>\n",
              "      <td>float64</td>\n",
              "    </tr>\n",
              "    <tr>\n",
              "      <th>created_by_id</th>\n",
              "      <td>float64</td>\n",
              "    </tr>\n",
              "    <tr>\n",
              "      <th>updated_by_id</th>\n",
              "      <td>float64</td>\n",
              "    </tr>\n",
              "  </tbody>\n",
              "</table>\n",
              "</div><br><label><b>dtype:</b> object</label>"
            ]
          },
          "metadata": {},
          "execution_count": 39
        }
      ]
    },
    {
      "cell_type": "code",
      "source": [
        "# Print the number of missing (null) values\n",
        "print(rec_feedback_df.isnull().sum())"
      ],
      "metadata": {
        "colab": {
          "base_uri": "https://localhost:8080/"
        },
        "id": "qytJ1Aj9RK3j",
        "outputId": "fd7a40ac-969b-43d9-c734-da105bfd2469"
      },
      "execution_count": 40,
      "outputs": [
        {
          "output_type": "stream",
          "name": "stdout",
          "text": [
            "id                  0\n",
            "feedback_type       0\n",
            "time_stamp          0\n",
            "comment          1000\n",
            "user_id             0\n",
            "item_id             0\n",
            "created_at       1000\n",
            "updated_at       1000\n",
            "created_by_id    1000\n",
            "updated_by_id    1000\n",
            "dtype: int64\n"
          ]
        }
      ]
    },
    {
      "cell_type": "code",
      "source": [
        "# Drop unnecessary columns from the DataFrame\n",
        "rec_feedback_df.drop(columns=[\"comment\", \"created_at\", \"updated_at\", \"created_by_id\", \"updated_by_id\"], inplace=True)"
      ],
      "metadata": {
        "id": "GU9fuxJ9dktj"
      },
      "execution_count": 41,
      "outputs": []
    },
    {
      "cell_type": "code",
      "source": [
        "print(rec_feedback_df.isnull().sum())"
      ],
      "metadata": {
        "colab": {
          "base_uri": "https://localhost:8080/"
        },
        "id": "e3LVzTmUeTHx",
        "outputId": "91de36e7-2969-4551-a422-70f4fbc3e942"
      },
      "execution_count": 42,
      "outputs": [
        {
          "output_type": "stream",
          "name": "stdout",
          "text": [
            "id               0\n",
            "feedback_type    0\n",
            "time_stamp       0\n",
            "user_id          0\n",
            "item_id          0\n",
            "dtype: int64\n"
          ]
        }
      ]
    },
    {
      "cell_type": "code",
      "source": [
        "interaction_weights = {'click': 1, 'read': 2, 'like': 3} # Define a dictionary mapping interaction types to numerical weights\n",
        "rec_feedback_df['weight'] = rec_feedback_df['feedback_type'].map(interaction_weights) # Map the interaction type to its corresponding weight and create a new 'weight' column"
      ],
      "metadata": {
        "id": "ynT7qblgRNb7"
      },
      "execution_count": 43,
      "outputs": []
    },
    {
      "cell_type": "code",
      "source": [
        "# Convert 'time_stamp' column to datetime format\n",
        "rec_feedback_df[\"time_stamp\"] = pd.to_datetime(rec_feedback_df[\"time_stamp\"], errors='coerce')\n",
        "\n",
        "# Handle missing values if necessary (drop rows with NaN in the 'time_stamp' column)\n",
        "rec_feedback_df = rec_feedback_df.dropna(subset=[\"time_stamp\"])"
      ],
      "metadata": {
        "id": "c9XsFgqAN4YL"
      },
      "execution_count": 44,
      "outputs": []
    },
    {
      "cell_type": "code",
      "source": [
        "from datetime import datetime\n",
        "\n",
        "current_time = datetime.now() # Get the current date and time as a datetime object\n",
        "print(current_time)"
      ],
      "metadata": {
        "colab": {
          "base_uri": "https://localhost:8080/"
        },
        "id": "j2Amo9XzJqEl",
        "outputId": "05d7a4ab-fd8e-421d-b376-481c173f721c"
      },
      "execution_count": 45,
      "outputs": [
        {
          "output_type": "stream",
          "name": "stdout",
          "text": [
            "2025-02-24 03:14:32.815045\n"
          ]
        }
      ]
    },
    {
      "cell_type": "code",
      "source": [
        "current_time = datetime.now() # Get the current date and time\n",
        "time_decay_factor = 0.9 # Set the time decay factor, which determines how quickly the weight decays over time\n",
        "rec_feedback_df['time_weight'] = rec_feedback_df['time_stamp'].apply(\n",
        "    lambda x: time_decay_factor ** ((current_time - x).days)\n",
        ") # Apply a time decay to each timestamp (Useful for give more importance to recent interactions)"
      ],
      "metadata": {
        "id": "uMEgclHJJan2"
      },
      "execution_count": 46,
      "outputs": []
    },
    {
      "cell_type": "code",
      "source": [
        "# Calculate the final weight by multiplying the interaction weight with the time decay weight\n",
        "rec_feedback_df['final_weight'] = rec_feedback_df['weight'] * rec_feedback_df['time_weight']\n",
        "\n",
        "print(rec_feedback_df[['weight', 'time_weight', 'final_weight']])"
      ],
      "metadata": {
        "id": "-tudn7QZT2nT",
        "colab": {
          "base_uri": "https://localhost:8080/"
        },
        "outputId": "64bcd810-35ed-4a17-9301-4d83826f3ba7"
      },
      "execution_count": 47,
      "outputs": [
        {
          "output_type": "stream",
          "name": "stdout",
          "text": [
            "     weight  time_weight  final_weight\n",
            "0       1.0     0.348678      0.348678\n",
            "1       2.0     0.348678      0.697357\n",
            "2       1.0     0.348678      0.348678\n",
            "3       1.0     0.348678      0.348678\n",
            "4       1.0     0.348678      0.348678\n",
            "..      ...          ...           ...\n",
            "995     1.0     0.254187      0.254187\n",
            "996     1.0     0.254187      0.254187\n",
            "997     2.0     0.254187      0.508373\n",
            "998     1.0     0.254187      0.254187\n",
            "999     1.0     0.254187      0.254187\n",
            "\n",
            "[1000 rows x 3 columns]\n"
          ]
        }
      ]
    },
    {
      "cell_type": "code",
      "source": [
        "reader = Reader(rating_scale=(0, 5)) # Initialize the Reader object, defining the rating scale from 0 to 5\n",
        "data = Dataset.load_from_df(rec_feedback_df[['user_id', 'item_id', 'final_weight']], reader) # Load the data from the DataFrame into a Surprise Dataset"
      ],
      "metadata": {
        "id": "vvTTrkXcsYpb"
      },
      "execution_count": 48,
      "outputs": []
    },
    {
      "cell_type": "code",
      "source": [
        "trainset, testset = train_test_split(data, test_size=0.2) # Split the data into training and testing sets (80% training, 20% testing)\n",
        "svd = SVD() # Initialize the SVD model\n",
        "svd.fit(trainset) # Train the SVD model on the training set"
      ],
      "metadata": {
        "id": "SIgby_q-RU46",
        "colab": {
          "base_uri": "https://localhost:8080/"
        },
        "outputId": "99b86326-a8ab-4da1-ec28-66e7eb9dfa4d"
      },
      "execution_count": 49,
      "outputs": [
        {
          "output_type": "execute_result",
          "data": {
            "text/plain": [
              "<surprise.prediction_algorithms.matrix_factorization.SVD at 0x7a5e87d2b750>"
            ]
          },
          "metadata": {},
          "execution_count": 49
        }
      ]
    },
    {
      "cell_type": "code",
      "source": [
        "# Save the SVD model to the file\n",
        "with open('collaborative_model.pkl', 'wb') as f:\n",
        "    pickle.dump(svd, f)"
      ],
      "metadata": {
        "id": "qBOSEcuMRYWb"
      },
      "execution_count": 50,
      "outputs": []
    },
    {
      "cell_type": "code",
      "source": [
        "def recommend_collaborative(user_id, model, rec_feedback_df, top_n=5):\n",
        "    \"\"\"Recommend top N articles for a given user using SVD.\"\"\"\n",
        "\n",
        "    # Check if the user_id exists in the rec_feedback_df\n",
        "    if user_id not in rec_feedback_df['user_id'].values:\n",
        "        print(f\"User {user_id} not found. Returning content-based recommendations.\")\n",
        "\n",
        "        return recommend_content_based(news_id=23996, top_n=top_n)\n",
        "\n",
        "    # Get the unique list of all item IDs from the feedback data\n",
        "    all_items = rec_feedback_df['item_id'].unique()\n",
        "    # Generate predictions for the given user and all items\n",
        "    predictions = [model.predict(user_id, item) for item in all_items] # Predict ratings for each item\n",
        "\n",
        "    # Sort the predictions by estimated rating (in descending order) and get the top N recommendations\n",
        "    top_recommendations = sorted(predictions, key=lambda x: x.est, reverse=True)[:top_n]\n",
        "    return [pred.iid for pred in top_recommendations] # Return a list of item IDs for the top N recommended items"
      ],
      "metadata": {
        "id": "Jwz91vKjWjK0"
      },
      "execution_count": 51,
      "outputs": []
    },
    {
      "cell_type": "code",
      "source": [
        "user_id = 2329\n",
        "# Call the recommend_collaborative function to get the top 5 recommended articles for the specified user\n",
        "top_recommendations = recommend_collaborative(user_id, svd, rec_feedback_df, top_n=5)\n",
        "print(\"Top 5 Recommendations:\", top_recommendations)"
      ],
      "metadata": {
        "colab": {
          "base_uri": "https://localhost:8080/"
        },
        "id": "MIAGNrIvsn4z",
        "outputId": "50edf7ec-8ad1-4fd8-ef27-079052ca14b1"
      },
      "execution_count": 52,
      "outputs": [
        {
          "output_type": "stream",
          "name": "stdout",
          "text": [
            "Top 5 Recommendations: [23942, 23930, 23941, 23937, 23953]\n"
          ]
        }
      ]
    },
    {
      "cell_type": "markdown",
      "source": [
        "## Hybrid Filtering"
      ],
      "metadata": {
        "id": "UdAexcCQXLzL"
      }
    },
    {
      "cell_type": "code",
      "source": [
        "import random # For generating random numbers or making random selections\n",
        "import numpy as np # For numerical operations, such as arrays and mathematical functions\n",
        "import pickle # For serializing and deserializing Python objects\n",
        "import pandas as pd # For data manipulation and analysis, especially with DataFrames\n",
        "from surprise import SVD, Dataset, Reader # For building recommendation systems\n",
        "from sklearn.preprocessing import MinMaxScaler # To scale features to a specified range, typically [0, 1]\n",
        "from datetime import datetime, timedelta #For handling date and time operations"
      ],
      "metadata": {
        "id": "s776dKAc7Iy3"
      },
      "execution_count": 84,
      "outputs": []
    },
    {
      "cell_type": "code",
      "source": [
        "with open('cbf_model_cosine_sim.pkl', 'rb') as f:\n",
        "    cosine_sim = pickle.load(f)\n",
        "\n",
        "with open('cbf_model_tfidf.pkl', 'rb') as f:\n",
        "    tfidf_vectorizer = pickle.load(f)\n",
        "\n",
        "with open('collaborative_model.pkl', 'rb') as f:\n",
        "    knn = pickle.load(f)"
      ],
      "metadata": {
        "id": "CgQHt_N9l-3s"
      },
      "execution_count": 85,
      "outputs": []
    },
    {
      "cell_type": "code",
      "source": [
        "def get_recent_trending_news(rec_feedback_df, top_n=5, days=7):\n",
        "    \"\"\"Fetch trending articles based on recent engagement (last 'days').\"\"\"\n",
        "\n",
        "    # Check if the 'timestamp' column exists in the DataFrame\n",
        "    if \"timestamp\" not in rec_feedback_df.columns:\n",
        "        print(\"No timestamp column found. Falling back to general trending news.\")\n",
        "        return rec_feedback_df[\"item_id\"].value_counts().head(top_n).index.tolist()\n",
        "\n",
        "    # Convert the 'timestamp' column to datetime format. Invalid timestamps are set to NaT (Not a Time)\n",
        "    rec_feedback_df[\"timestamp\"] = pd.to_datetime(rec_feedback_df[\"timestamp\"], errors='coerce')\n",
        "\n",
        "    # Check for invalid timestamps\n",
        "    if rec_feedback_df[\"timestamp\"].isnull().all():\n",
        "        print(\"All timestamps are invalid. Falling back to general trending news.\")\n",
        "        return rec_feedback_df[\"item_id\"].value_counts().head(top_n).index.tolist()\n",
        "\n",
        "    # Calculate the date for 'days' ago from the current date\n",
        "    recent_date = datetime.now() - timedelta(days=days)\n",
        "\n",
        "    # Filter the DataFrame to include only rows where the 'timestamp' is within the last 'days' period\n",
        "    recent_engagements = rec_feedback_df[rec_feedback_df[\"timestamp\"] >= recent_date]\n",
        "\n",
        "    if recent_engagements.empty:\n",
        "        print(\"No recent engagements found. Falling back to general trending news.\")\n",
        "        return rec_feedback_df[\"item_id\"].value_counts().head(top_n).index.tolist()\n",
        "\n",
        "    # Get the top N most frequent items from the recent engagements\n",
        "    trending = (\n",
        "        recent_engagements[\"item_id\"]\n",
        "        .value_counts()\n",
        "        .head(top_n)\n",
        "        .index.tolist()\n",
        "    )\n",
        "\n",
        "    # Return the trending items if found, otherwise return an empty list\n",
        "    return trending if trending else []"
      ],
      "metadata": {
        "id": "2tS3Ati77Xja"
      },
      "execution_count": 86,
      "outputs": []
    },
    {
      "cell_type": "code",
      "source": [
        "print(rec_feedback_df[\"time_stamp\"].head())"
      ],
      "metadata": {
        "colab": {
          "base_uri": "https://localhost:8080/"
        },
        "id": "j-ELDwm6PVPN",
        "outputId": "dfdf6a73-c319-4f6a-aba3-953e3987f0ac"
      },
      "execution_count": 87,
      "outputs": [
        {
          "output_type": "stream",
          "name": "stdout",
          "text": [
            "0   2025-02-13 10:03:47.440412\n",
            "1   2025-02-13 10:03:42.411734\n",
            "2   2025-02-13 10:01:54.947236\n",
            "3   2025-02-13 10:01:31.955569\n",
            "4   2025-02-13 10:01:10.809916\n",
            "Name: time_stamp, dtype: datetime64[ns]\n"
          ]
        }
      ]
    },
    {
      "cell_type": "code",
      "source": [
        "def calculate_user_alpha(user_id, rec_feedback_df):\n",
        "    \"\"\"Dynamically calculate alpha: Higher interactions → Higher CF weight\"\"\"\n",
        "\n",
        "    user_interactions = rec_feedback_df[rec_feedback_df[\"user_id\"] == user_id]\n",
        "    total_interactions = len(user_interactions)\n",
        "\n",
        "    if total_interactions == 0:\n",
        "        return 0.2  # Lower alpha for new users (favor CBF more)\n",
        "\n",
        "    # Logarithmic scaling for a smoother curve\n",
        "    alpha = np.log1p(total_interactions) / np.log1p(100)\n",
        "\n",
        "    return min(1, max(0, alpha))  # Ensure alpha stays in [0,1]"
      ],
      "metadata": {
        "id": "m1b3onlMz6yQ"
      },
      "execution_count": 88,
      "outputs": []
    },
    {
      "cell_type": "code",
      "source": [
        "def max_marginal_relevance(recommendations, hybrid_scores, cosine_sim, top_n=5):\n",
        "    selected_items = []\n",
        "    for item in recommendations:\n",
        "        # Penalize items that are too similar to those already selected\n",
        "        similarity_score = sum(cosine_sim.get(item, {}).get(other_item, 0) for other_item in selected_items)\n",
        "        adjusted_score = hybrid_scores[item] - similarity_score * 0.7  # Increase the penalty to 0.7\n",
        "        hybrid_scores[item] = adjusted_score\n",
        "\n",
        "    # Sort by adjusted hybrid score and return the top N items\n",
        "    return sorted(hybrid_scores.keys(), key=lambda x: hybrid_scores[x], reverse=True)[:top_n]"
      ],
      "metadata": {
        "id": "K3TL9o8uxZr1"
      },
      "execution_count": 89,
      "outputs": []
    },
    {
      "cell_type": "code",
      "source": [
        "# Defines a function to normalize the scores to a range of 0-1 for fair weighting\n",
        "def normalize_scores(scores):\n",
        "\n",
        "    if not scores:\n",
        "        return {} # If there are no scores, returns an empty dictionary\n",
        "\n",
        "    # Converts the values of the 'scores' dictionary to a NumPy array and reshapes it into a column vector (for scaling)\n",
        "    values = np.array(list(scores.values())).reshape(-1, 1)\n",
        "\n",
        "    # Creates an instance of the MinMaxScaler, which scales values to the range [0, 1]\n",
        "    scaler = MinMaxScaler()\n",
        "\n",
        "    # Fits the scaler to the values and transforms them to the range [0, 1]\n",
        "    normalized_values = scaler.fit_transform(values).flatten()\n",
        "\n",
        "    # Returns a dictionary where each original score is mapped to its normalized value\n",
        "    return {key: norm_score for key, norm_score in zip(scores.keys(), normalized_values)}"
      ],
      "metadata": {
        "id": "yopJbWMgz6jh"
      },
      "execution_count": 90,
      "outputs": []
    },
    {
      "cell_type": "code",
      "source": [
        " # Defines a function to get the top N content-based recommendations using cosine similarity\n",
        "def recommend_content_based(news_id, top_n=5):\n",
        "\n",
        "    # Checks if the given news_id exists in the cosine_sim dictionary\n",
        "    if news_id not in cosine_sim:\n",
        "        return [] # If the news_id is not found, return an empty list\n",
        "\n",
        "    # Creates a list of tuples, where each tuple contains an index (item ID) and its cosine similarity value to the given news_id\n",
        "    similar_items = list(enumerate(cosine_sim[news_id]))\n",
        "\n",
        "    # Sorts the similar items by their cosine similarity value in descending order (most similar first)\n",
        "    sorted_items = sorted(similar_items, key=lambda x: x[1], reverse=True)\n",
        "\n",
        "    # Returns a list of the top N most similar item IDs, based on the sorted cosine similarity values\n",
        "    return [item[0] for item in sorted_items[:top_n]]"
      ],
      "metadata": {
        "id": "n1GsiNQ5zWfN"
      },
      "execution_count": 91,
      "outputs": []
    },
    {
      "cell_type": "code",
      "source": [
        "# Defines a function to get the top N collaborative filtering recommendations using Singular Value Decomposition (SVD)\n",
        "def recommend_collaborative(user_id, model, rec_feedback_df, top_n=5):\n",
        "\n",
        "     # Checks if the user_id exists in the 'user_id' column of the rec_feedback_df DataFrame\n",
        "    if user_id not in rec_feedback_df['user_id'].values:\n",
        "        return []\n",
        "\n",
        "    # Retrieves all unique item IDs from the 'item_id' column in the rec_feedback_df DataFrame\n",
        "    all_items = rec_feedback_df['item_id'].unique()\n",
        "\n",
        "    # Uses the SVD to predict the user's rating for each item\n",
        "    predictions = {item: model.predict(user_id, item).est for item in all_items}\n",
        "\n",
        "    # Sorts the items based on the predicted rating (est) in descending order (highest predicted rating first)\n",
        "    # Returns the top N items with the highest predictions\n",
        "    return sorted(predictions, key=predictions.get, reverse=True)[:top_n]"
      ],
      "metadata": {
        "id": "NdqinRxu7ve6"
      },
      "execution_count": 92,
      "outputs": []
    },
    {
      "cell_type": "code",
      "source": [
        "def recommend_hybrid(user_id, news_id, rec_feedback_df, model=svd, top_n=5):\n",
        "    \"\"\"Hybrid recommendation system combining content-based and collaborative filtering.\"\"\"\n",
        "\n",
        "    # Filter the DataFrame for user-specific interactions\n",
        "    user_interactions = rec_feedback_df[rec_feedback_df[\"user_id\"] == user_id]\n",
        "\n",
        "    # If the user has no interactions, trigger fallback to trending news\n",
        "    if user_interactions.empty:\n",
        "        print(f\"No data for user {user_id}. Showing recent trending news...\")\n",
        "        return get_recent_trending_news(rec_feedback_df, top_n=top_n) or random.sample(list(rec_feedback_df[\"item_id\"].unique()), top_n)\n",
        "\n",
        "    # Calculate dynamic alpha based on the user's interaction history\n",
        "    alpha = calculate_user_alpha(user_id, rec_feedback_df)\n",
        "\n",
        "    # Fetch content-based recommendations (CBF) for the given news_id\n",
        "    cbf_recommendations = recommend_content_based(news_id, top_n=top_n)\n",
        "\n",
        "    # Fetch collaborative filtering recommendations (CF) for the given user\n",
        "    cf_recommendations = recommend_collaborative(user_id, model, rec_feedback_df, top_n=top_n)\n",
        "\n",
        "    # Assign cosine similarity scores for the CBF recommendations\n",
        "    cbf_scores = {item: cosine_sim[news_id][item] for item in cbf_recommendations}\n",
        "\n",
        "    # Assign predicted scores for the CF recommendations\n",
        "    cf_scores = {item: model.predict(user_id, item).est for item in cf_recommendations}\n",
        "\n",
        "    # Normalize both CBF and CF scores to a range of [0, 1]\n",
        "    cbf_scores = normalize_scores(cbf_scores)\n",
        "    cf_scores = normalize_scores(cf_scores)\n",
        "\n",
        "    # Dictionary to store hybrid scores (CBF + CF)\n",
        "    hybrid_scores = {}\n",
        "\n",
        "    # Combine the scores from both filtering approaches using the alpha value\n",
        "    for item in set(cbf_recommendations + cf_recommendations):\n",
        "        cbf_score = cbf_scores.get(item, 0)  # Default to 0 if no CBF score\n",
        "        cf_score = cf_scores.get(item, 0)  # Default to 0 if no CF score\n",
        "        hybrid_scores[item] = alpha * cbf_score + (1 - alpha) * cf_score\n",
        "\n",
        "    # Apply Maximal Marginal Relevance (MMR) to diversify the recommendations\n",
        "    top_recommendations = max_marginal_relevance(list(hybrid_scores.keys()), hybrid_scores, cosine_sim, top_n=top_n)\n",
        "\n",
        "    # If no recommendations were found, trigger fallback to trending news\n",
        "    if not top_recommendations:\n",
        "        print(f\"No recommendations found for user {user_id}. Showing recent trending news...\")\n",
        "        return get_recent_trending_news(rec_feedback_df, top_n=top_n) or random.sample(list(rec_feedback_df[\"item_id\"].unique()), top_n)\n",
        "\n",
        "    # Return the top N hybrid recommendations\n",
        "    return top_recommendations"
      ],
      "metadata": {
        "id": "C1W_lAyW6wK9"
      },
      "execution_count": 93,
      "outputs": []
    },
    {
      "cell_type": "code",
      "source": [
        "with open('hybrid_recommendation_model.pkl', 'wb') as f:\n",
        "    pickle.dump(svd, f)"
      ],
      "metadata": {
        "id": "5uxggpr_7wDB"
      },
      "execution_count": 94,
      "outputs": []
    },
    {
      "cell_type": "code",
      "source": [
        "user_id_1 = 2329\n",
        "news_id_1 = 23585\n",
        "\n",
        "recommendations_1 = recommend_hybrid(user_id_1, news_id_1, rec_feedback_df, top_n=5)\n",
        "print(f\"User {user_id_1} Recommendations:\", recommendations_1)"
      ],
      "metadata": {
        "colab": {
          "base_uri": "https://localhost:8080/"
        },
        "id": "o-W2vnY-Xce5",
        "outputId": "9076e8e3-7027-4928-bfb3-307ee6086fad"
      },
      "execution_count": 105,
      "outputs": [
        {
          "output_type": "stream",
          "name": "stdout",
          "text": [
            "User 2329 Recommendations: [23937, 23941, 23942, 23953, 23930]\n"
          ]
        }
      ]
    },
    {
      "cell_type": "code",
      "source": [
        "# New user with no history\n",
        "user_id_new = 9999\n",
        "news_id_new = 23996\n",
        "recommendations_new = recommend_hybrid(user_id_new, news_id_new, rec_feedback_df, top_n=5)\n",
        "print(f\"User {user_id_new} (no history) - Fallback Recommendations:\", recommendations_new)"
      ],
      "metadata": {
        "colab": {
          "base_uri": "https://localhost:8080/"
        },
        "id": "7pWK1aU5_SrA",
        "outputId": "5e90b9f1-9fe1-4444-f465-584101e0c16d"
      },
      "execution_count": 106,
      "outputs": [
        {
          "output_type": "stream",
          "name": "stdout",
          "text": [
            "No data for user 9999. Showing recent trending news...\n",
            "No timestamp column found. Falling back to general trending news.\n",
            "User 9999 (no history) - Fallback Recommendations: [23749, 23769, 23820, 23930, 23786]\n"
          ]
        }
      ]
    }
  ]
}