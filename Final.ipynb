{
  "nbformat": 4,
  "nbformat_minor": 0,
  "metadata": {
    "colab": {
      "provenance": []
    },
    "kernelspec": {
      "name": "python3",
      "display_name": "Python 3"
    },
    "language_info": {
      "name": "python"
    }
  },
  "cells": [
    {
      "cell_type": "markdown",
      "source": [
        "## CBF"
      ],
      "metadata": {
        "id": "uMlWGL4AQsrN"
      }
    },
    {
      "cell_type": "code",
      "execution_count": 409,
      "metadata": {
        "id": "lo278wSw7lor"
      },
      "outputs": [],
      "source": [
        "import pandas as pd\n",
        "from sklearn.feature_extraction.text import TfidfVectorizer\n",
        "from sklearn.metrics.pairwise import cosine_similarity\n",
        "import numpy as np\n",
        "import pickle\n",
        "import re\n",
        "import nltk\n",
        "from nltk.tokenize import word_tokenize"
      ]
    },
    {
      "cell_type": "code",
      "source": [
        "news_df = pd.read_csv('/content/news.csv')\n",
        "rec_items_df = pd.read_csv('/content/rec_items.csv')\n",
        "rec_feedback_df = pd.read_csv('/content/rec_feedback.csv')\n",
        "users_df = pd.read_csv('/content/users.csv')\n",
        "users_df = pd.read_csv('/content/users.csv')"
      ],
      "metadata": {
        "id": "diitq6RBDS0P"
      },
      "execution_count": 410,
      "outputs": []
    },
    {
      "cell_type": "code",
      "source": [
        "news_df.head()"
      ],
      "metadata": {
        "colab": {
          "base_uri": "https://localhost:8080/",
          "height": 573
        },
        "id": "JiV5V3DVDghe",
        "outputId": "490d9841-db26-419a-c8db-5dd6f0b1417c"
      },
      "execution_count": 411,
      "outputs": [
        {
          "output_type": "execute_result",
          "data": {
            "text/plain": [
              "      id                                              title  \\\n",
              "0  23996                                      අද ඩොලරයේ අගය   \n",
              "1  23995  ‘ක්ලීන් ශ‍්‍රී ලංකා ලිඛිතව තියෙනවා.’ මාලිමා මන...   \n",
              "2  23994  පාපන්දු ගෝල කණුවක් කඩා වැටී පාසැල් සිසුවෙකු ජී...   \n",
              "3  23993  සුජීව සේනසිංහගේ මූලික අයිතිවාසිකම් පෙත්සම විභා...   \n",
              "4  23992    නීති විරෝධී ධීවර දැල් දෙසීය පනහක් නීතියේ රැහැනට   \n",
              "\n",
              "                                         description           published_date  \\\n",
              "0  ශ්‍රී ලංකා මහ බැංකුව විසින් අද (13) දින නිකුත්...  2025-02-13 12:10:32.919   \n",
              "1  ‘ක්‍ලීන් ශ්‍රී ලංකා’ වැඩපිළිවෙල යනු කුමක්දැයි ...      2025-02-13 09:30:00   \n",
              "2  පාසැල් ක්‍රීඩාගංනයක තිබූ පාපන්දු ගෝල කණුවක් කඩ...  2025-02-13 11:10:47.133   \n",
              "3  තමන්ට එරෙහිව අපරාධ පරීක්ෂණ දෙපාර්තමේන්තුව විසි...  2025-02-13 10:10:29.598   \n",
              "4  ශ්‍රී ලංකා නාවික හමුදාව, කිලිනොච්චිය මුද්දලම්ප...  2025-02-13 10:58:56.639   \n",
              "\n",
              "   breaking_news  blob_image  \\\n",
              "0          False         NaN   \n",
              "1          False         NaN   \n",
              "2          False         NaN   \n",
              "3          False         NaN   \n",
              "4          False         NaN   \n",
              "\n",
              "                                          source_url               created_at  \\\n",
              "0  https://www.hirunews.lk/396721/%E0%B6%85%E0%B6...  2025-02-13 09:43:07.843   \n",
              "1  https://lankacnews.com/%e0%b6%9a%e0%b7%8a%e0%b...  2025-02-13 09:42:37.114   \n",
              "2  https://www.hirunews.lk/396719/%E0%B6%B4%E0%B7...  2025-02-13 09:33:20.185   \n",
              "3  https://www.hirunews.lk/396716/%E0%B7%83%E0%B7...  2025-02-13 09:31:55.442   \n",
              "4  https://www.dinamina.lk/2025/02/13/lawnorder/1...  2025-02-13 09:29:23.368   \n",
              "\n",
              "                updated_at             published_at  created_by_id  \\\n",
              "0  2025-02-13 09:43:12.403  2025-02-13 09:43:12.131            7.0   \n",
              "1  2025-02-13 09:42:47.003                      NaN            NaN   \n",
              "2  2025-02-13 09:33:23.796  2025-02-13 09:33:23.747            7.0   \n",
              "3  2025-02-13 09:31:59.501   2025-02-13 09:31:59.41            7.0   \n",
              "4  2025-02-13 09:29:26.299  2025-02-13 09:29:26.258            7.0   \n",
              "\n",
              "   updated_by_id  shares  comment_count  type  \n",
              "0            7.0       0              0  News  \n",
              "1            NaN       0              0  News  \n",
              "2            7.0       0              0  News  \n",
              "3            7.0       0              0  News  \n",
              "4            7.0       0              0  News  "
            ],
            "text/html": [
              "\n",
              "  <div id=\"df-4ffa2ff2-0ec4-4b5c-bd95-6e9bc384d28c\" class=\"colab-df-container\">\n",
              "    <div>\n",
              "<style scoped>\n",
              "    .dataframe tbody tr th:only-of-type {\n",
              "        vertical-align: middle;\n",
              "    }\n",
              "\n",
              "    .dataframe tbody tr th {\n",
              "        vertical-align: top;\n",
              "    }\n",
              "\n",
              "    .dataframe thead th {\n",
              "        text-align: right;\n",
              "    }\n",
              "</style>\n",
              "<table border=\"1\" class=\"dataframe\">\n",
              "  <thead>\n",
              "    <tr style=\"text-align: right;\">\n",
              "      <th></th>\n",
              "      <th>id</th>\n",
              "      <th>title</th>\n",
              "      <th>description</th>\n",
              "      <th>published_date</th>\n",
              "      <th>breaking_news</th>\n",
              "      <th>blob_image</th>\n",
              "      <th>source_url</th>\n",
              "      <th>created_at</th>\n",
              "      <th>updated_at</th>\n",
              "      <th>published_at</th>\n",
              "      <th>created_by_id</th>\n",
              "      <th>updated_by_id</th>\n",
              "      <th>shares</th>\n",
              "      <th>comment_count</th>\n",
              "      <th>type</th>\n",
              "    </tr>\n",
              "  </thead>\n",
              "  <tbody>\n",
              "    <tr>\n",
              "      <th>0</th>\n",
              "      <td>23996</td>\n",
              "      <td>අද ඩොලරයේ අගය</td>\n",
              "      <td>ශ්‍රී ලංකා මහ බැංකුව විසින් අද (13) දින නිකුත්...</td>\n",
              "      <td>2025-02-13 12:10:32.919</td>\n",
              "      <td>False</td>\n",
              "      <td>NaN</td>\n",
              "      <td>https://www.hirunews.lk/396721/%E0%B6%85%E0%B6...</td>\n",
              "      <td>2025-02-13 09:43:07.843</td>\n",
              "      <td>2025-02-13 09:43:12.403</td>\n",
              "      <td>2025-02-13 09:43:12.131</td>\n",
              "      <td>7.0</td>\n",
              "      <td>7.0</td>\n",
              "      <td>0</td>\n",
              "      <td>0</td>\n",
              "      <td>News</td>\n",
              "    </tr>\n",
              "    <tr>\n",
              "      <th>1</th>\n",
              "      <td>23995</td>\n",
              "      <td>‘ක්ලීන් ශ‍්‍රී ලංකා ලිඛිතව තියෙනවා.’ මාලිමා මන...</td>\n",
              "      <td>‘ක්‍ලීන් ශ්‍රී ලංකා’ වැඩපිළිවෙල යනු කුමක්දැයි ...</td>\n",
              "      <td>2025-02-13 09:30:00</td>\n",
              "      <td>False</td>\n",
              "      <td>NaN</td>\n",
              "      <td>https://lankacnews.com/%e0%b6%9a%e0%b7%8a%e0%b...</td>\n",
              "      <td>2025-02-13 09:42:37.114</td>\n",
              "      <td>2025-02-13 09:42:47.003</td>\n",
              "      <td>NaN</td>\n",
              "      <td>NaN</td>\n",
              "      <td>NaN</td>\n",
              "      <td>0</td>\n",
              "      <td>0</td>\n",
              "      <td>News</td>\n",
              "    </tr>\n",
              "    <tr>\n",
              "      <th>2</th>\n",
              "      <td>23994</td>\n",
              "      <td>පාපන්දු ගෝල කණුවක් කඩා වැටී පාසැල් සිසුවෙකු ජී...</td>\n",
              "      <td>පාසැල් ක්‍රීඩාගංනයක තිබූ පාපන්දු ගෝල කණුවක් කඩ...</td>\n",
              "      <td>2025-02-13 11:10:47.133</td>\n",
              "      <td>False</td>\n",
              "      <td>NaN</td>\n",
              "      <td>https://www.hirunews.lk/396719/%E0%B6%B4%E0%B7...</td>\n",
              "      <td>2025-02-13 09:33:20.185</td>\n",
              "      <td>2025-02-13 09:33:23.796</td>\n",
              "      <td>2025-02-13 09:33:23.747</td>\n",
              "      <td>7.0</td>\n",
              "      <td>7.0</td>\n",
              "      <td>0</td>\n",
              "      <td>0</td>\n",
              "      <td>News</td>\n",
              "    </tr>\n",
              "    <tr>\n",
              "      <th>3</th>\n",
              "      <td>23993</td>\n",
              "      <td>සුජීව සේනසිංහගේ මූලික අයිතිවාසිකම් පෙත්සම විභා...</td>\n",
              "      <td>තමන්ට එරෙහිව අපරාධ පරීක්ෂණ දෙපාර්තමේන්තුව විසි...</td>\n",
              "      <td>2025-02-13 10:10:29.598</td>\n",
              "      <td>False</td>\n",
              "      <td>NaN</td>\n",
              "      <td>https://www.hirunews.lk/396716/%E0%B7%83%E0%B7...</td>\n",
              "      <td>2025-02-13 09:31:55.442</td>\n",
              "      <td>2025-02-13 09:31:59.501</td>\n",
              "      <td>2025-02-13 09:31:59.41</td>\n",
              "      <td>7.0</td>\n",
              "      <td>7.0</td>\n",
              "      <td>0</td>\n",
              "      <td>0</td>\n",
              "      <td>News</td>\n",
              "    </tr>\n",
              "    <tr>\n",
              "      <th>4</th>\n",
              "      <td>23992</td>\n",
              "      <td>නීති විරෝධී ධීවර දැල් දෙසීය පනහක් නීතියේ රැහැනට</td>\n",
              "      <td>ශ්‍රී ලංකා නාවික හමුදාව, කිලිනොච්චිය මුද්දලම්ප...</td>\n",
              "      <td>2025-02-13 10:58:56.639</td>\n",
              "      <td>False</td>\n",
              "      <td>NaN</td>\n",
              "      <td>https://www.dinamina.lk/2025/02/13/lawnorder/1...</td>\n",
              "      <td>2025-02-13 09:29:23.368</td>\n",
              "      <td>2025-02-13 09:29:26.299</td>\n",
              "      <td>2025-02-13 09:29:26.258</td>\n",
              "      <td>7.0</td>\n",
              "      <td>7.0</td>\n",
              "      <td>0</td>\n",
              "      <td>0</td>\n",
              "      <td>News</td>\n",
              "    </tr>\n",
              "  </tbody>\n",
              "</table>\n",
              "</div>\n",
              "    <div class=\"colab-df-buttons\">\n",
              "\n",
              "  <div class=\"colab-df-container\">\n",
              "    <button class=\"colab-df-convert\" onclick=\"convertToInteractive('df-4ffa2ff2-0ec4-4b5c-bd95-6e9bc384d28c')\"\n",
              "            title=\"Convert this dataframe to an interactive table.\"\n",
              "            style=\"display:none;\">\n",
              "\n",
              "  <svg xmlns=\"http://www.w3.org/2000/svg\" height=\"24px\" viewBox=\"0 -960 960 960\">\n",
              "    <path d=\"M120-120v-720h720v720H120Zm60-500h600v-160H180v160Zm220 220h160v-160H400v160Zm0 220h160v-160H400v160ZM180-400h160v-160H180v160Zm440 0h160v-160H620v160ZM180-180h160v-160H180v160Zm440 0h160v-160H620v160Z\"/>\n",
              "  </svg>\n",
              "    </button>\n",
              "\n",
              "  <style>\n",
              "    .colab-df-container {\n",
              "      display:flex;\n",
              "      gap: 12px;\n",
              "    }\n",
              "\n",
              "    .colab-df-convert {\n",
              "      background-color: #E8F0FE;\n",
              "      border: none;\n",
              "      border-radius: 50%;\n",
              "      cursor: pointer;\n",
              "      display: none;\n",
              "      fill: #1967D2;\n",
              "      height: 32px;\n",
              "      padding: 0 0 0 0;\n",
              "      width: 32px;\n",
              "    }\n",
              "\n",
              "    .colab-df-convert:hover {\n",
              "      background-color: #E2EBFA;\n",
              "      box-shadow: 0px 1px 2px rgba(60, 64, 67, 0.3), 0px 1px 3px 1px rgba(60, 64, 67, 0.15);\n",
              "      fill: #174EA6;\n",
              "    }\n",
              "\n",
              "    .colab-df-buttons div {\n",
              "      margin-bottom: 4px;\n",
              "    }\n",
              "\n",
              "    [theme=dark] .colab-df-convert {\n",
              "      background-color: #3B4455;\n",
              "      fill: #D2E3FC;\n",
              "    }\n",
              "\n",
              "    [theme=dark] .colab-df-convert:hover {\n",
              "      background-color: #434B5C;\n",
              "      box-shadow: 0px 1px 3px 1px rgba(0, 0, 0, 0.15);\n",
              "      filter: drop-shadow(0px 1px 2px rgba(0, 0, 0, 0.3));\n",
              "      fill: #FFFFFF;\n",
              "    }\n",
              "  </style>\n",
              "\n",
              "    <script>\n",
              "      const buttonEl =\n",
              "        document.querySelector('#df-4ffa2ff2-0ec4-4b5c-bd95-6e9bc384d28c button.colab-df-convert');\n",
              "      buttonEl.style.display =\n",
              "        google.colab.kernel.accessAllowed ? 'block' : 'none';\n",
              "\n",
              "      async function convertToInteractive(key) {\n",
              "        const element = document.querySelector('#df-4ffa2ff2-0ec4-4b5c-bd95-6e9bc384d28c');\n",
              "        const dataTable =\n",
              "          await google.colab.kernel.invokeFunction('convertToInteractive',\n",
              "                                                    [key], {});\n",
              "        if (!dataTable) return;\n",
              "\n",
              "        const docLinkHtml = 'Like what you see? Visit the ' +\n",
              "          '<a target=\"_blank\" href=https://colab.research.google.com/notebooks/data_table.ipynb>data table notebook</a>'\n",
              "          + ' to learn more about interactive tables.';\n",
              "        element.innerHTML = '';\n",
              "        dataTable['output_type'] = 'display_data';\n",
              "        await google.colab.output.renderOutput(dataTable, element);\n",
              "        const docLink = document.createElement('div');\n",
              "        docLink.innerHTML = docLinkHtml;\n",
              "        element.appendChild(docLink);\n",
              "      }\n",
              "    </script>\n",
              "  </div>\n",
              "\n",
              "\n",
              "<div id=\"df-1e4210da-1583-404b-82a3-cc97cb6470ec\">\n",
              "  <button class=\"colab-df-quickchart\" onclick=\"quickchart('df-1e4210da-1583-404b-82a3-cc97cb6470ec')\"\n",
              "            title=\"Suggest charts\"\n",
              "            style=\"display:none;\">\n",
              "\n",
              "<svg xmlns=\"http://www.w3.org/2000/svg\" height=\"24px\"viewBox=\"0 0 24 24\"\n",
              "     width=\"24px\">\n",
              "    <g>\n",
              "        <path d=\"M19 3H5c-1.1 0-2 .9-2 2v14c0 1.1.9 2 2 2h14c1.1 0 2-.9 2-2V5c0-1.1-.9-2-2-2zM9 17H7v-7h2v7zm4 0h-2V7h2v10zm4 0h-2v-4h2v4z\"/>\n",
              "    </g>\n",
              "</svg>\n",
              "  </button>\n",
              "\n",
              "<style>\n",
              "  .colab-df-quickchart {\n",
              "      --bg-color: #E8F0FE;\n",
              "      --fill-color: #1967D2;\n",
              "      --hover-bg-color: #E2EBFA;\n",
              "      --hover-fill-color: #174EA6;\n",
              "      --disabled-fill-color: #AAA;\n",
              "      --disabled-bg-color: #DDD;\n",
              "  }\n",
              "\n",
              "  [theme=dark] .colab-df-quickchart {\n",
              "      --bg-color: #3B4455;\n",
              "      --fill-color: #D2E3FC;\n",
              "      --hover-bg-color: #434B5C;\n",
              "      --hover-fill-color: #FFFFFF;\n",
              "      --disabled-bg-color: #3B4455;\n",
              "      --disabled-fill-color: #666;\n",
              "  }\n",
              "\n",
              "  .colab-df-quickchart {\n",
              "    background-color: var(--bg-color);\n",
              "    border: none;\n",
              "    border-radius: 50%;\n",
              "    cursor: pointer;\n",
              "    display: none;\n",
              "    fill: var(--fill-color);\n",
              "    height: 32px;\n",
              "    padding: 0;\n",
              "    width: 32px;\n",
              "  }\n",
              "\n",
              "  .colab-df-quickchart:hover {\n",
              "    background-color: var(--hover-bg-color);\n",
              "    box-shadow: 0 1px 2px rgba(60, 64, 67, 0.3), 0 1px 3px 1px rgba(60, 64, 67, 0.15);\n",
              "    fill: var(--button-hover-fill-color);\n",
              "  }\n",
              "\n",
              "  .colab-df-quickchart-complete:disabled,\n",
              "  .colab-df-quickchart-complete:disabled:hover {\n",
              "    background-color: var(--disabled-bg-color);\n",
              "    fill: var(--disabled-fill-color);\n",
              "    box-shadow: none;\n",
              "  }\n",
              "\n",
              "  .colab-df-spinner {\n",
              "    border: 2px solid var(--fill-color);\n",
              "    border-color: transparent;\n",
              "    border-bottom-color: var(--fill-color);\n",
              "    animation:\n",
              "      spin 1s steps(1) infinite;\n",
              "  }\n",
              "\n",
              "  @keyframes spin {\n",
              "    0% {\n",
              "      border-color: transparent;\n",
              "      border-bottom-color: var(--fill-color);\n",
              "      border-left-color: var(--fill-color);\n",
              "    }\n",
              "    20% {\n",
              "      border-color: transparent;\n",
              "      border-left-color: var(--fill-color);\n",
              "      border-top-color: var(--fill-color);\n",
              "    }\n",
              "    30% {\n",
              "      border-color: transparent;\n",
              "      border-left-color: var(--fill-color);\n",
              "      border-top-color: var(--fill-color);\n",
              "      border-right-color: var(--fill-color);\n",
              "    }\n",
              "    40% {\n",
              "      border-color: transparent;\n",
              "      border-right-color: var(--fill-color);\n",
              "      border-top-color: var(--fill-color);\n",
              "    }\n",
              "    60% {\n",
              "      border-color: transparent;\n",
              "      border-right-color: var(--fill-color);\n",
              "    }\n",
              "    80% {\n",
              "      border-color: transparent;\n",
              "      border-right-color: var(--fill-color);\n",
              "      border-bottom-color: var(--fill-color);\n",
              "    }\n",
              "    90% {\n",
              "      border-color: transparent;\n",
              "      border-bottom-color: var(--fill-color);\n",
              "    }\n",
              "  }\n",
              "</style>\n",
              "\n",
              "  <script>\n",
              "    async function quickchart(key) {\n",
              "      const quickchartButtonEl =\n",
              "        document.querySelector('#' + key + ' button');\n",
              "      quickchartButtonEl.disabled = true;  // To prevent multiple clicks.\n",
              "      quickchartButtonEl.classList.add('colab-df-spinner');\n",
              "      try {\n",
              "        const charts = await google.colab.kernel.invokeFunction(\n",
              "            'suggestCharts', [key], {});\n",
              "      } catch (error) {\n",
              "        console.error('Error during call to suggestCharts:', error);\n",
              "      }\n",
              "      quickchartButtonEl.classList.remove('colab-df-spinner');\n",
              "      quickchartButtonEl.classList.add('colab-df-quickchart-complete');\n",
              "    }\n",
              "    (() => {\n",
              "      let quickchartButtonEl =\n",
              "        document.querySelector('#df-1e4210da-1583-404b-82a3-cc97cb6470ec button');\n",
              "      quickchartButtonEl.style.display =\n",
              "        google.colab.kernel.accessAllowed ? 'block' : 'none';\n",
              "    })();\n",
              "  </script>\n",
              "</div>\n",
              "\n",
              "    </div>\n",
              "  </div>\n"
            ],
            "application/vnd.google.colaboratory.intrinsic+json": {
              "type": "dataframe",
              "variable_name": "news_df",
              "summary": "{\n  \"name\": \"news_df\",\n  \"rows\": 1000,\n  \"fields\": [\n    {\n      \"column\": \"id\",\n      \"properties\": {\n        \"dtype\": \"number\",\n        \"std\": 293,\n        \"min\": 22979,\n        \"max\": 23996,\n        \"num_unique_values\": 1000,\n        \"samples\": [\n          23467,\n          23251,\n          23248\n        ],\n        \"semantic_type\": \"\",\n        \"description\": \"\"\n      }\n    },\n    {\n      \"column\": \"title\",\n      \"properties\": {\n        \"dtype\": \"string\",\n        \"num_unique_values\": 988,\n        \"samples\": [\n          \"\\u0dc0\\u0d9c\\u0d9a\\u0dd3\\u0db8\\u0dca \\u0dc0\\u0dd2\\u0dbb\\u0dc4\\u0dd2\\u0dad \\u0db4\\u0dd2\\u0dad\\u0dd2\\u0d9a\\u0dbb\\u0dab\\u0dba\\u0dd9\\u0db1\\u0dca \\u0dc1\\u0dca\\u200d\\u0dbb\\u0dd3 \\u0dbd\\u0d82\\u0d9a\\u0dcf\\u0dc0\\u0da7 \\u0dba\\u0dc5\\u0dd2\\u0dad\\u0dca \\u0daf\\u0dbb\\u0dd4\\u0dab\\u0dd4 \\u0db4\\u0dbb\\u0dcf\\u0da2\\u0dba\\u0d9a\\u0dca\",\n          \"\\u0db4\\u0dcf\\u0dbb\\u0dca\\u0dbd\\u0dd2\\u0db8\\u0dda\\u0db1\\u0dca\\u0dad\\u0dd4 \\u0dc3\\u0db7\\u0dcf\\u0dc0\\u0dcf\\u0dbb\\u0dba \\u0d87\\u0dbb\\u0db9\\u0dd9\\u0dba\\u0dd2\",\n          \"\\u0db4\\u0dc5\\u0db8\\u0dd4 \\u0dc0\\u0dbb\\u0da7 \\u0dc3\\u0dbd\\u0dca\\u0dbd\\u0dd2 \\u0daf\\u0dd3\\u0dbd\\u0dcf \\u0db4\\u0dcf\\u0dbb\\u0dca\\u0dbd\\u0dd2\\u0db8\\u0dda\\u0db1\\u0dca\\u0dad\\u0dd4\\u0dc0\\u0dd9\\u0db1\\u0dca \\u0d9a\\u0db1 \\u0db8\\u0db1\\u0dca\\u0dad\\u0dca\\u200d\\u0dbb\\u0dd3\\u0dc0\\u0dbb\\u0dd4\"\n        ],\n        \"semantic_type\": \"\",\n        \"description\": \"\"\n      }\n    },\n    {\n      \"column\": \"description\",\n      \"properties\": {\n        \"dtype\": \"string\",\n        \"num_unique_values\": 995,\n        \"samples\": [\n          \"\\u0dad\\u0db8 \\u0db1\\u0dd2\\u0dc0\\u0dc3\\u0da7 \\u0db4\\u0dd0\\u0db8\\u0dd2\\u0dab\\u0dd2 15 \\u0dc4\\u0dd0\\u0dc0\\u0dd2\\u0dbb\\u0dd2\\u0daf\\u0dd2 \\u0db4\\u0dcf\\u0dc3\\u0dbd\\u0dca \\u0dc3\\u0dd2\\u0dc3\\u0dd4\\u0dc0\\u0dd9\\u0d9a\\u0dd4 \\u0dc0\\u0dd2\\u0dc3\\u0dd2\\u0db1\\u0dca \\u0dc3\\u0dd2\\u0dba \\u0daf\\u0dd2\\u0dba\\u0dab\\u0dd2\\u0dba \\u0dc0 \\u0dbd\\u0dd2\\u0d82\\u0d9c\\u0dd2\\u0d9a \\u0d85\\u0dad\\u0dc0\\u0dbb\\u0dba\\u0da7 \\u0dbd\\u0d9a\\u0dca \\u0d9a\\u0dc5 \\u0db6\\u0dc0\\u0da7 \\u0dc0\\u0db1 \\u0db4\\u0dd0\\u0db8\\u0dd2\\u0dab\\u0dd2\\u0dbd\\u0dca\\u0dbd\\u0d9a\\u0dca \\u0dc4\\u0ddc\\u0dbb\\u0dab \\u0db8\\u0dd6\\u0dbd\\u0dc3\\u0dca\\u0dae\\u0dcf\\u0db1 \\u0db4\\u0ddc\\u0dbd\\u0dd2\\u0dc3\\u0dd2\\u0dba\\u0dda \\u0dc5\\u0db8\\u0dcf \\u0dc4\\u0dcf \\u0d9a\\u0dcf\\u0db1\\u0dca\\u0dad\\u0dcf \\u0d9a\\u0dcf\\u0dbb\\u0dca\\u200d\\u0dba\\u0dcf\\u0d82\\u0dc1\\u0dba\\u0da7 \\u0dbd\\u0dd0\\u0db6\\u0dd3 \\u0dad\\u0dd2\\u0db6\\u0dd9\\u0db1\\u0dc0\\u0dcf. \\n\\n\\u0d85\\u0dad\\u0dc0\\u0dbb\\u0dba\\u0da7 \\u0dbd\\u0d9a\\u0dca \\u0dc0\\u0dd6\\u0dc0\\u0dda \\u0dba\\u0dd0\\u0dba\\u0dd2 \\u0db4\\u0dd0\\u0dc0\\u0dc3\\u0dd9\\u0db1 \\u0daf\\u0dd0\\u0dbb\\u0dd2\\u0dba\\u0d9c\\u0dda \\u0db8\\u0dc0 \\u0dc0\\u0dd2\\u0dc3\\u0dd2\\u0db1\\u0dca \\u0d85\\u0daf\\u0dcf\\u0dc5 \\u0db4\\u0dd0\\u0db8\\u0dd2\\u0dab\\u0dd2\\u0dbd\\u0dca\\u0dbd \\u0dc3\\u0dd2\\u0daf\\u0dd4 \\u0d9a\\u0dbb\\u0db1 \\u0dbd\\u0daf \\u0db6\\u0dc0\\u0dba\\u0dd2 \\u0dc0\\u0dcf\\u0dbb\\u0dca\\u0dad\\u0dcf \\u0dc0\\u0db1\\u0dca\\u0db1\\u0dda. \\u0db8\\u0dd9\\u0db8 \\u0dc3\\u0dd2\\u0daf\\u0dca\\u0db0\\u0dd2\\u0dba\\u0da7 \\u0db8\\u0dd4\\u0dc4\\u0dd4\\u0dab \\u0db4\\u0dcf \\u0d87\\u0dad\\u0dca\\u0dad\\u0dda 11 \\u0dc1\\u0dca\\u200d\\u0dbb\\u0dda\\u0dab\\u0dd2\\u0dba\\u0dda \\u0d89\\u0d9c\\u0dd9\\u0db1\\u0dd4\\u0db8 \\u0dbd\\u0db6\\u0db1 \\u0daf\\u0dd0\\u0dbb\\u0dd2\\u0dba\\u0d9a\\u0dca. \\u0daf\\u0dd0\\u0db1\\u0da7 \\u0db8\\u0dcf\\u0dc3 09\\u0d9a \\u0db4\\u0db8\\u0dab \\u0dc3\\u0dd2\\u0da7 \\u0d85\\u0daf\\u0dcf\\u0dc5 \\u0dad\\u0dbb\\u0dd4\\u0dab \\u0db4\\u0dd2\\u0dbb\\u0dd2\\u0db8\\u0dd2 \\u0dc5\\u0db8\\u0dba\\u0dcf \\u0dc3\\u0db8\\u0d9c \\u0dc3\\u0dd2\\u0dba \\u0daf\\u0dd0\\u0dbb\\u0dd2\\u0dc0\\u0dd2\\u0dba \\u0db4\\u0dca\\u200d\\u0dbb\\u0dda\\u0db8 \\u0dc3\\u0db6\\u0db3\\u0dad\\u0dcf\\u0dc0\\u0d9a\\u0dca \\u0db4\\u0dc0\\u0dad\\u0dca\\u0dc0\\u0dcf\\u0d9c\\u0dd9\\u0db1 \\u0d9c\\u0ddc\\u0dc3\\u0dca \\u0d87\\u0dad\\u0dd2 \\u0db6\\u0dc0\\u0dad\\u0dca 2024 \\u0daf\\u0dd9\\u0dc3\\u0dd0\\u0db8\\u0dca\\u0db6\\u0dbb\\u0dca \\u0db8\\u0dcf\\u0dc3\\u0dba\\u0dda \\u0dc3\\u0dd2\\u0d9a\\u0dd4\\u0dbb\\u0dcf\\u0daf\\u0dcf \\u0daf\\u0dd2\\u0db1\\u0dd9\\u0d9a \\u0daf\\u0dd9\\u0daf\\u0dd9\\u0db1\\u0dcf \\u0db4\\u0dc5\\u0db8\\u0dd4 \\u0dc0\\u0dbb\\u0da7 \\u0dbd\\u0dd2\\u0d82\\u0d9c\\u0dd2\\u0d9a \\u0dc0 \\u0d91\\u0d9a\\u0dca \\u0dc0 \\u0d87\\u0dad\\u0dd2 \\u0db6\\u0dc0\\u0dad\\u0dca \\u0dc0\\u0dbb\\u0dd2\\u0db1\\u0dca \\u0dc0\\u0dbb \\u0d89\\u0db1\\u0dca \\u0db4\\u0dc3\\u0dd4\\u0dc0 \\u0daf \\u0d94\\u0dc0\\u0dd4\\u0db1\\u0dca \\u0daf\\u0dd9\\u0daf\\u0dd9\\u0db1\\u0dcf \\u0db8\\u0dd9\\u0dbd\\u0dd9\\u0dc3 \\u0db8\\u0dd4\\u0dab\\u0d9c\\u0dd0\\u0dc3\\u0dd3 \\u0d87\\u0dad\\u0dd2 \\u0db6\\u0dc0\\u0dad\\u0dca \\u0db4\\u0dd0\\u0dc0\\u0dc3\\u0dd9\\u0db1\\u0dc0\\u0dcf. \\n\\n\\u0d8a\\u0dba\\u0dda (28) \\u0daf\\u0dd2\\u0db1\\u0dba\\u0dda \\u0daf\\u0dd3 \\u0daf \\u0daf\\u0dd0\\u0dbb\\u0dd2\\u0dba \\u0dc0\\u0dd2\\u0dc3\\u0dd2\\u0db1\\u0dca \\u0dc3\\u0dd0\\u0d9a\\u0d9a\\u0dcf\\u0dbb \\u0db4\\u0dd9\\u0db8\\u0dca\\u0dc0\\u0dad\\u0dcf \\u0dc0 \\u0dc3\\u0dd2\\u0dba \\u0db1\\u0dd2\\u0dc0\\u0dc3\\u0da7 \\u0d9c\\u0dd9\\u0db1\\u0dca\\u0dc0\\u0dcf\\u0d9c\\u0dd9\\u0db1 \\u0d87\\u0dad\\u0dd2 \\u0d85\\u0dad\\u0dbb \\u0db4\\u0dd9\\u0dbb \\u0db4\\u0dbb\\u0dd2\\u0daf\\u0dd2 \\u0dbd\\u0dd2\\u0d82\\u0d9c\\u0dd2\\u0d9a \\u0dc0 \\u0dc4\\u0dd0\\u0dc3\\u0dd2\\u0dbb\\u0dd9\\u0db8\\u0dd2\\u0db1\\u0dca \\u0dc3\\u0dd2\\u0da7\\u0dd2\\u0dba\\u0daf\\u0dd3 \\u0daf\\u0dd0\\u0dbb\\u0dd2\\u0dba\\u0d9c\\u0dda \\u0dc0\\u0dd0\\u0da9\\u0dd2\\u0db8\\u0dc4\\u0dbd\\u0dca \\u0dc3\\u0ddc\\u0dc4\\u0ddc\\u0dba\\u0dd4\\u0dbb\\u0dcf \\u0db1\\u0dd2\\u0dc0\\u0dc3\\u0da7 \\u0db4\\u0dd0\\u0db8\\u0dd2\\u0dab \\u0d87\\u0dad\\u0dd2 \\u0db6\\u0dc0\\u0dba\\u0dd2 \\u0db4\\u0dd0\\u0dc0\\u0dc3\\u0dd9\\u0db1\\u0dca\\u0db1\\u0dda. \\n\\n\\u0d91\\u0db8 \\u0d85\\u0dc0\\u0dc3\\u0dca\\u0dae\\u0dcf\\u0dc0\\u0dda \\u0daf\\u0dd3 \\u0dc3\\u0ddc\\u0dba\\u0dd4\\u0dbb\\u0dcf \\u0dc0\\u0dd2\\u0dc3\\u0dd2\\u0db1\\u0dca \\u0dad\\u0dbb\\u0dd4\\u0dab \\u0db4\\u0dd9\\u0db8\\u0dca\\u0dc0\\u0dad\\u0dcf\\u0da7 \\u0dc3\\u0dc4 \\u0dc3\\u0dd2\\u0dba \\u0db1\\u0dd0\\u0d9c\\u0dab\\u0dd2\\u0dba\\u0da7 \\u0db4\\u0dc4\\u0dbb \\u0daf\\u0dd3 \\u0d87\\u0dad\\u0dd2 \\u0d85\\u0dad\\u0dbb \\u0db4\\u0dc4\\u0dbb\\u0d9a\\u0dd1 \\u0dad\\u0dbb\\u0dd4\\u0dab\\u0dba\\u0dcf \\u0db8\\u0dd4\\u0dc4\\u0dd4\\u0dab\\u0dda \\u0dad\\u0dd0\\u0dbd\\u0dd4\\u0db8\\u0dca \\u0db4\\u0dc4\\u0dbb \\u0dc3\\u0db8\\u0d9c\\u0dd2\\u0db1\\u0dca \\u0dc4\\u0ddc\\u0dbb\\u0dab \\u0daf\\u0dd2\\u0dc3\\u0dca\\u0dad\\u0dca\\u200d\\u0dbb\\u0dd2\\u0d9a\\u0dca \\u0dbb\\u0ddd\\u0dc4\\u0dbd \\u0dc0\\u0dd9\\u0dad \\u0d87\\u0dad\\u0dd4\\u0dc5\\u0dad\\u0dca \\u0d9a\\u0dbb \\u0dad\\u0dd2\\u0db6\\u0dd9\\u0db1\\u0dc0\\u0dcf. \\u0dc3\\u0dd2\\u0daf\\u0dca\\u0db0\\u0dd2\\u0dba\\u0da7 \\u0db8\\u0dd4\\u0dc4\\u0dd4\\u0dab \\u0daf\\u0dd4\\u0db1\\u0dca \\u0daf\\u0dd0\\u0dbb\\u0dd2\\u0dba \\u0db4\\u0ddc\\u0dbd\\u0dd2\\u0dc3\\u0dd2\\u0dba \\u0db8\\u0d9c\\u0dd2\\u0db1\\u0dca \\u0dc0\\u0ddb\\u0daf\\u0dca\\u200d\\u0dba \\u0db4\\u0dbb\\u0dd3\\u0d9a\\u0dca\\u0dc2\\u0dab\\u0dba\\u0d9a\\u0dca \\u0dc3\\u0db3\\u0dc4\\u0dcf \\u0dc4\\u0ddc\\u0dbb\\u0dab \\u0daf\\u0dd2\\u0dc3\\u0dca\\u0dad\\u0dca\\u200d\\u0dbb\\u0dd2\\u0d9a\\u0dca \\u0dbb\\u0ddd\\u0dc4\\u0dbd \\u0dc0\\u0dd9\\u0dad \\u0d87\\u0dad\\u0dd4\\u0dc5\\u0dad\\u0dca \\u0d9a\\u0dbb \\u0d87\\u0dad\\u0dd2 \\u0db6\\u0dc0\\u0dba\\u0dd2 \\u0dc0\\u0dcf\\u0dbb\\u0dca\\u0dad\\u0dcf \\u0dc0\\u0db1\\u0dca\\u0db1\\u0dda. \\u0dc4\\u0ddc\\u0dbb\\u0dab \\u0db4\\u0ddc\\u0dbd\\u0dd2\\u0dc3\\u0dca \\u0dc3\\u0dca\\u0dae\\u0dcf\\u0db1\\u0dba\\u0dda \\u0dc5\\u0db8\\u0dcf \\u0dc4\\u0dcf \\u0d9a\\u0dcf\\u0db1\\u0dca\\u0dad\\u0dcf \\u0d9a\\u0dcf\\u0dbb\\u0dca\\u0dba\\u0dcf\\u0d82\\u0dc1\\u0dba \\u0db8\\u0d9c\\u0dd2\\u0db1\\u0dca \\u0dc3\\u0dd2\\u0daf\\u0dca\\u0db0\\u0dd2\\u0dba \\u0dc3\\u0db8\\u0dca\\u0db6\\u0db1\\u0dca\\u0db0\\u0dba\\u0dd9\\u0db1\\u0dca \\u0dc0\\u0dd0\\u0da9\\u0dd2\\u0daf\\u0dd4\\u0dbb \\u0dc0\\u0dd2\\u0db8\\u0dbb\\u0dca\\u0dc1\\u0db1 \\u0d86\\u0dbb\\u0db8\\u0dca\\u0db7 \\u0d9a\\u0dbb \\u0dad\\u0dd2\\u0db6\\u0dd9\\u0db1\\u0dc0\\u0dcf.\",\n          \"\\u0daf\\u0dd2\\u0dbd\\u0dca\\u0dbd\\u0dd2 \\u0dc0\\u0dca\\u200d\\u0dba\\u0dc0\\u0dc3\\u0dca\\u0dae\\u0dcf\\u0daf\\u0dcf\\u0dba\\u0d9a \\u0dc3\\u0db7\\u0dcf\\u0dc0 \\u0dc3\\u0db3\\u0dc4\\u0dcf \\u0dc0\\u0db1 \\u0db8\\u0dd0\\u0dad\\u0dd2\\u0dc0\\u0dbb\\u0dab\\u0dba\\u0da7 \\u0d85\\u0daf\\u0dcf\\u0dc5 \\u0da1\\u0db1\\u0dca\\u0daf \\u0dc0\\u0dd2\\u0db8\\u0dc3\\u0dd3\\u0db8 \\u0d85\\u0daf (05) \\u0db4\\u0dd0\\u0dc0\\u0dd0\\u0dad\\u0dca\\u0dc0\\u0dda.\\n\\n\\u0d91\\u0dc4\\u0dd2 \\u0db4\\u0dca\\u200d\\u0dbb\\u0dad\\u0dd2\\u0db5\\u0dbd \\u0db1\\u0dd2\\u0d9a\\u0dd4\\u0dad\\u0dca \\u0d9a\\u0dd2\\u0dbb\\u0dd3\\u0db8\\u0da7 \\u0db1\\u0dd2\\u0dba\\u0db8\\u0dd2\\u0dad\\u0dc0 \\u0d87\\u0dad\\u0dca\\u0dad\\u0dda \\u0db4\\u0dd9\\u0db6\\u0dbb\\u0dc0\\u0dcf\\u0dbb\\u0dd2 8 \\u0dc0\\u0dd0\\u0db1\\u0dd2\\u0daf\\u0dcf \\u0dba.\\n\\n\\u0da1\\u0db1\\u0dca\\u0daf \\u0db8\\u0db0\\u0dca\\u200d\\u0dba\\u0dc3\\u0dca\\u0dae\\u0dcf\\u0db1 13,033\\u0d9a \\u0daf\\u0dd3 \\u0db4\\u0dd9\\u0dbb\\u0dc0\\u0dbb\\u0dd4 7 \\u0da7 \\u0da1\\u0db1\\u0dca\\u0daf \\u0dc0\\u0dd2\\u0db8\\u0dc3\\u0dd3\\u0db8 \\u0d86\\u0dbb\\u0db8\\u0dca\\u0db7 \\u0dc0\\u0dd6 \\u0db6\\u0dc0 \\u0d89\\u0db1\\u0dca\\u0daf\\u0dd3\\u0dba \\u0db8\\u0dcf\\u0db0\\u0dca\\u200d\\u0dba \\u0dc0\\u0dcf\\u0dbb\\u0dca\\u0dad\\u0dcf \\u0d9a\\u0dbb\\u0dba\\u0dd2.\\n\\n\\u0db8\\u0dd9\\u0db8 \\u0db8\\u0dd0\\u0dad\\u0dd2\\u0dc0\\u0dbb\\u0dab\\u0dba\\u0dda \\u0daf\\u0dd3, \\u0dc0\\u0dc3\\u0dbb \\u0daf\\u0dc4\\u0dba\\u0d9a\\u0dca \\u0dad\\u0dd2\\u0dc3\\u0dca\\u0dc3\\u0dda \\u0daf\\u0dd2\\u0dbd\\u0dca\\u0dbd\\u0dd2 \\u0db4\\u0dca\\u200d\\u0dbb\\u0daf\\u0dda\\u0dc1\\u0dba \\u0db4\\u0dcf\\u0dbd\\u0db1\\u0dba \\u0d9a\\u0dc5 \\u0d86\\u0db8\\u0dca \\u0d86\\u0daf\\u0dca\\u0db8\\u0dd2 \\u0db4\\u0d9a\\u0dca\\u0dc2\\u0dba\\u0da7 (AAP) \\u0db7\\u0dcf\\u0dbb\\u0dad\\u0dd3\\u0dba \\u0da2\\u0db1\\u0dad\\u0dcf \\u0db4\\u0d9a\\u0dca\\u0dc2\\u0dba\\u0dd9\\u0db1\\u0dca (BJP) \\u0dc3\\u0dd0\\u0dbd\\u0d9a\\u0dd2\\u0dba \\u0dba\\u0dd4\\u0dad\\u0dd4 \\u0d85\\u0db7\\u0dd2\\u0dba\\u0ddd\\u0d9c\\u0dba\\u0d9a\\u0dca \\u0d91\\u0dbd\\u0dca\\u0dbd \\u0dc0\\u0dda \\u0dba\\u0dd0\\u0dba\\u0dd2 \\u0d85\\u0db4\\u0dda\\u0d9a\\u0dca\\u0dc2\\u0dcf \\u0d9a\\u0dd9\\u0dbb\\u0dda.\\n\\n\\u0daf\\u0dd2\\u0dbd\\u0dca\\u0dbd\\u0dd2\\u0dba \\u0dba\\u0db1\\u0dd4 \\u0d89\\u0db1\\u0dca\\u0daf\\u0dd2\\u0dba\\u0dcf\\u0dc0\\u0dda \\u0db8\\u0db0\\u0dca\\u200d\\u0dba\\u0db8 \\u0d86\\u0dab\\u0dca\\u0da9\\u0dd4\\u0dc0\\u0dda \\u0db4\\u0dcf\\u0dbd\\u0db1\\u0dba \\u0dba\\u0da7\\u0dad\\u0dda \\u0db4\\u0dc0\\u0dad\\u0dd2\\u0db1 \\u0db4\\u0dca\\u200d\\u0dbb\\u0daf\\u0dda\\u0dc1\\u0dba\\u0d9a\\u0dca \\u0dc0\\u0db1 \\u0d85\\u0dad\\u0dbb, \\u0d91\\u0dc4\\u0dd2 \\u0dc0\\u0dca\\u200d\\u0dba\\u0dc0\\u0dc3\\u0dca\\u0dae\\u0dcf\\u0daf\\u0dcf\\u0dba\\u0d9a \\u0dc3\\u0db7\\u0dcf\\u0dc0\\u0d9a\\u0dca \\u0db4\\u0dc0\\u0dad\\u0dd3. 2015 \\u0daf\\u0dd3 \\u0db4\\u0dd0\\u0dc0\\u0dad\\u0dd2 \\u0db8\\u0dd0\\u0dad\\u0dd2\\u0dc0\\u0dbb\\u0dab\\u0dba\\u0dd9\\u0db1\\u0dca \\u0d91\\u0dc4\\u0dd2 \\u0db6\\u0dbd\\u0dba \\u0d86\\u0db8\\u0dca \\u0d86\\u0daf\\u0dca\\u0db8\\u0dd2 \\u0db4\\u0d9a\\u0dca\\u0dc2\\u0dba\\u0da7 \\u0dc4\\u0dd2\\u0db8\\u0dd2 \\u0dc0\\u0dd6 \\u0d85\\u0dad\\u0dbb, 2020 \\u0daf\\u0dd3 \\u0db4\\u0dd0\\u0dc0\\u0dad\\u0dd2 \\u0db8\\u0dd0\\u0dad\\u0dd2\\u0dc0\\u0dbb\\u0dab\\u0dba\\u0dd9\\u0db1\\u0dca \\u0daf \\u0d94\\u0dc0\\u0dd4\\u0db1\\u0dca \\u0d91\\u0db8 \\u0db6\\u0dbd\\u0dba \\u0dbb\\u0db3\\u0dc0\\u0dcf \\u0d9c\\u0dd0\\u0db1\\u0dd3\\u0db8\\u0da7 \\u0dc3\\u0db8\\u0dad\\u0dca \\u0dc0\\u0dd2\\u0dba. \\u0dc0\\u0dca\\u200d\\u0dba\\u0dc0\\u0dc3\\u0dca\\u0dae\\u0dcf\\u0daf\\u0dcf\\u0dba\\u0d9a \\u0dc3\\u0db7\\u0dcf\\u0dc0\\u0dda \\u0d86\\u0dc3\\u0db1 70 \\u0db1\\u0dca 67 \\u0d9a\\u0dca 2015 \\u0daf\\u0dd3 \\u0da2\\u0dba\\u0d9c\\u0dad\\u0dca \\u0d86\\u0db8\\u0dca \\u0d86\\u0daf\\u0dca\\u0db8\\u0dd2 \\u0db4\\u0d9a\\u0dca\\u0dc2\\u0dba, 2020 \\u0daf\\u0dd3 \\u0d86\\u0dc3\\u0db1 62 \\u0d9a\\u0dca \\u0daf\\u0dd2\\u0db1\\u0dcf \\u0d9c\\u0dd0\\u0db1\\u0dd3\\u0db8\\u0da7 \\u0dc3\\u0db8\\u0dad\\u0dca \\u0dc0\\u0dd2\\u0dba.\\n\\n\\u0db4\\u0dc3\\u0dd4\\u0d9c\\u0dd2\\u0dba \\u0d9a\\u0dcf\\u0dbd\\u0dba\\u0dda \\u0daf\\u0dd3 \\u0d86\\u0db8\\u0dca \\u0d86\\u0daf\\u0dca\\u0db8\\u0dd2 \\u0db4\\u0d9a\\u0dca\\u0dc2\\u0dba\\u0da7 \\u0d91\\u0dbb\\u0dd9\\u0dc4\\u0dd2\\u0dc0 \\u0d91\\u0dbd\\u0dca\\u0dbd \\u0dc0\\u0dd6 \\u0daf\\u0dd6\\u0dc2\\u0dab \\u0da0\\u0ddd\\u0daf\\u0db1\\u0dcf \\u0dc4\\u0dda\\u0dad\\u0dd4\\u0dc0\\u0dd9\\u0db1\\u0dca \\u0d91\\u0db8 \\u0db4\\u0d9a\\u0dca\\u0dc2\\u0dba \\u0d9a\\u0dd9\\u0dbb\\u0dd9\\u0dc4\\u0dd2 \\u0da2\\u0db1\\u0dad\\u0dcf \\u0dc0\\u0dd2\\u0dc1\\u0dca\\u0dc0\\u0dcf\\u0dc3\\u0dba \\u0dba\\u0db8\\u0dca \\u0db4\\u0dca\\u200d\\u0dbb\\u0db8\\u0dcf\\u0dab\\u0dba\\u0d9a\\u0da7 \\u0db4\\u0dc5\\u0dd4\\u0daf\\u0dd4 \\u0dc0\\u0dd3 \\u0d87\\u0dad. \\u0db7\\u0dcf\\u0dbb\\u0dad\\u0dd3\\u0dba \\u0da2\\u0db1\\u0dad\\u0dcf \\u0db4\\u0d9a\\u0dca\\u0dc2\\u0dba \\u0dc0\\u0dd2\\u0dc1\\u0dca\\u0dc0\\u0dcf\\u0dc3 \\u0d9a\\u0dbb\\u0db1\\u0dca\\u0db1\\u0dda \\u0d91\\u0db8 \\u0dad\\u0dad\\u0dca\\u0dad\\u0dca\\u0dc0\\u0dba \\u0dad\\u0dd4\\u0dc5 \\u0dad\\u0db8 \\u0db4\\u0d9a\\u0dca\\u0dc2\\u0dba\\u0da7 \\u0dc0\\u0dd0\\u0da9\\u0dd2 \\u0dc0\\u0dcf\\u0dc3\\u0dd2 \\u0d85\\u0dad\\u0dca\\u0d9a\\u0dbb \\u0d9c\\u0dad \\u0dc4\\u0dd0\\u0d9a\\u0dd2 \\u0db6\\u0dc0\\u0dba\\u0dd2. \\u0d9a\\u0dd9\\u0dc3\\u0dda \\u0dc0\\u0dd9\\u0dad\\u0dad\\u0dca, \\u0dad\\u0dc0\\u0db8\\u0dad\\u0dca \\u0d86\\u0db8\\u0dca \\u0d86\\u0daf\\u0dca\\u0db8\\u0dd2 \\u0db4\\u0d9a\\u0dca\\u0dc2\\u0dba \\u0d89\\u0daf\\u0dd2\\u0dbb\\u0dd2\\u0dba\\u0dd9\\u0db1\\u0dca \\u0dc3\\u0dd2\\u0da7\\u0dd2\\u0db1 \\u0db6\\u0dc0 \\u0d87\\u0dad\\u0dd0\\u0db8\\u0dca \\u0daf\\u0dda\\u0dc1\\u0db4\\u0dcf\\u0dbd\\u0db1 \\u0dc0\\u0dd2\\u0da0\\u0dcf\\u0dbb\\u0d9a\\u0dba\\u0dd2\\u0db1\\u0dca\\u0d9c\\u0dda \\u0db8\\u0dad\\u0dba \\u0dc0\\u0dd3 \\u0d87\\u0dad.\\n\\n\\u0d86\\u0db8\\u0dca \\u0d86\\u0daf\\u0dca\\u0db8\\u0dd2 \\u0db4\\u0d9a\\u0dca\\u0dc2\\u0dba\\u0dda \\u0db4\\u0dca\\u200d\\u0dbb\\u0db0\\u0dcf\\u0db1 \\u0da1\\u0db1\\u0dca\\u0daf \\u0db4\\u0ddc\\u0dbb\\u0ddc\\u0db1\\u0dca\\u0daf\\u0dd4 \\u0d85\\u0dad\\u0dbb\\u0da7 \\u0d85\\u0db0\\u0dca\\u200d\\u0dba\\u0dcf\\u0db4\\u0db1\\u0dba, \\u0dc3\\u0dde\\u0d9b\\u0dca\\u200d\\u0dba \\u0dc3\\u0dda\\u0dc0\\u0dcf \\u0dc3\\u0dc4 \\u0db4\\u0dca\\u200d\\u0dbb\\u0dc0\\u0dcf\\u0dc4\\u0db1\\u0dba \\u0dc0\\u0dd0\\u0db1\\u0dd2 \\u0d85\\u0d82\\u0dc1 \\u0dc3\\u0db3\\u0dc4\\u0dcf \\u0dc0\\u0db1 \\u0dc3\\u0dc4\\u0db1 \\u0d87\\u0dad\\u0dd4\\u0dc5\\u0dad\\u0dca \\u0dc0\\u0dda. \\u0db7\\u0dcf\\u0dbb\\u0dad\\u0dd3\\u0dba \\u0da2\\u0db1\\u0dad\\u0dcf \\u0db4\\u0d9a\\u0dca\\u0dc2\\u0dba \\u0da2\\u0dcf\\u0dad\\u0dd2\\u0d9a \\u0d86\\u0dbb\\u0d9a\\u0dca\\u0dc2\\u0dcf\\u0dc0 \\u0dc3\\u0dc4 \\u0d86\\u0dbb\\u0dca\\u0dae\\u0dd2\\u0d9a \\u0dc3\\u0d82\\u0dc0\\u0dbb\\u0dca\\u0db0\\u0db1\\u0dba \\u0db4\\u0dd2\\u0dc5\\u0dd2\\u0db6\\u0db3 \\u0d9a\\u0dbb\\u0dd4\\u0dab\\u0dd4 \\u0d89\\u0dc3\\u0dca\\u0db8\\u0dad\\u0dd4 \\u0d9a\\u0dbb\\u0db8\\u0dd2\\u0db1\\u0dca \\u0da1\\u0db1\\u0dca\\u0daf \\u0dc0\\u0dca\\u200d\\u0dba\\u0dcf\\u0db4\\u0dcf\\u0dbb\\u0dba\\u0dda \\u0db1\\u0dd2\\u0dbb\\u0dad \\u0dc0\\u0dda.\\n\\n\\u0db8\\u0dd9\\u0db8 \\u0db8\\u0dd0\\u0dad\\u0dd2\\u0dc0\\u0dbb\\u0dab\\u0dba \\u0d89\\u0db1\\u0dca\\u0daf\\u0dd3\\u0dba \\u0daf\\u0dda\\u0dc1\\u0db4\\u0dcf\\u0dbd\\u0db1\\u0dba\\u0dda \\u0d89\\u0daf\\u0dd2\\u0dbb\\u0dd2 \\u0d9c\\u0db8\\u0db1\\u0dca \\u0db8\\u0d9c\\u0da7 \\u0dad\\u0dd3\\u0dbb\\u0dab\\u0dcf\\u0dad\\u0dca\\u0db8\\u0d9a \\u0dc3\\u0dcf\\u0db0\\u0d9a\\u0dba\\u0d9a\\u0dca \\u0dc0\\u0db1\\u0dd4 \\u0d87\\u0dad. \\u0d86\\u0db8\\u0dca \\u0d86\\u0daf\\u0dca\\u0db8\\u0dd2 \\u0db4\\u0d9a\\u0dca\\u0dc2\\u0dba \\u0db6\\u0dbd\\u0dba\\u0dda \\u0dbb\\u0dd0\\u0db3\\u0dd3 \\u0dc3\\u0dd2\\u0da7\\u0dd3\\u0db8\\u0da7 \\u0dc3\\u0db8\\u0dad\\u0dca \\u0dc0\\u0dd4\\u0dc0\\u0dc4\\u0ddc\\u0dad\\u0dca, \\u0d91\\u0dba \\u0d91\\u0db8 \\u0db4\\u0d9a\\u0dca\\u0dc2\\u0dba\\u0dda \\u0da2\\u0db1\\u0db4\\u0dca\\u200d\\u0dbb\\u0dd2\\u0dba\\u0dad\\u0dca\\u0dc0\\u0dba \\u0db4\\u0dd2\\u0dc5\\u0dd2\\u0db6\\u0db3 \\u0dc3\\u0dcf\\u0d9a\\u0dca\\u0dc2\\u0dd2\\u0dba\\u0d9a\\u0dca \\u0dc0\\u0db1\\u0dd4 \\u0d87\\u0dad. \\u0db7\\u0dcf\\u0dbb\\u0dad\\u0dd3\\u0dba \\u0da2\\u0db1\\u0dad\\u0dcf \\u0db4\\u0d9a\\u0dca\\u0dc2\\u0dba \\u0da2\\u0dba\\u0d9c\\u0dca\\u200d\\u0dbb\\u0dc4\\u0dab\\u0dba \\u0d9a\\u0dc5\\u0dc4\\u0ddc\\u0dad\\u0dca \\u0d91\\u0dba \\u0d89\\u0db1\\u0dca\\u0daf\\u0dd2\\u0dba\\u0dcf\\u0dc0\\u0dda \\u0daf\\u0dda\\u0dc1\\u0db4\\u0dcf\\u0dbd\\u0db1 \\u0db7\\u0dd6 \\u0daf\\u0dbb\\u0dca\\u0dc1\\u0db1\\u0dba\\u0dda \\u0dc3\\u0dd0\\u0dbd\\u0d9a\\u0dd2\\u0dba \\u0dba\\u0dd4\\u0dad\\u0dd4 \\u0dc0\\u0dd9\\u0db1\\u0dc3\\u0d9a\\u0dca \\u0dc3\\u0db1\\u0dd2\\u0da7\\u0dd4\\u0dc4\\u0db1\\u0dca \\u0d9a\\u0dbb\\u0db1\\u0dd4 \\u0d87\\u0dad.\",\n          \"\\u0dc3\\u0dd2\\u0dba\\u0dba\\u0da7 10\\u0dad\\u0dca 30\\u0dad\\u0dca \\u0d85\\u0dad\\u0dbb \\u0db4\\u0dca\\u200d\\u0dbb\\u0db8\\u0dcf\\u0dab\\u0dba\\u0d9a\\u0dd2\\u0db1\\u0dca \\u0da2\\u0dbd \\u0d9c\\u0dcf\\u0dc3\\u0dca\\u0dad\\u0dd4\\u0dc0 \\u0d85\\u0da9\\u0dd4\\u0d9a\\u0dd2\\u0dbb\\u0dd3\\u0db8\\u0da7 \\u0db4\\u0dd2\\u0dba\\u0dc0\\u0dbb \\u0d9c\\u0db1\\u0dca\\u0db1\\u0dcf \\u0db6\\u0dc0 \\u0da2\\u0dcf\\u0dad\\u0dd2\\u0d9a \\u0da2\\u0dbd \\u0dc3\\u0db8\\u0dca\\u0db4\\u0dcf\\u0daf\\u0db1 \\u0dc4\\u0dcf \\u0da2\\u0dbd\\u0dcf\\u0db4\\u0dc0\\u0dc4\\u0db1 \\u0db8\\u0dab\\u0dca\\u0da9\\u0dbd\\u0dba \\u0db4\\u0dc0\\u0dc3\\u0dba\\u0dd2.\\n\\n\\u0d91\\u0dc4\\u0dd2 \\u0db4\\u0dca\\u200d\\u0dbb\\u0d9a\\u0dcf\\u0dc1\\u0d9a\\u0dba\\u0dd9\\u0d9a\\u0dd4 \\u0db4\\u0dd0\\u0dc0\\u0dc3\\u0dd4\\u0dc0\\u0dda, \\u0dc0\\u0dd2\\u0daf\\u0dd4\\u0dbd\\u0dd2 \\u0db6\\u0dd2\\u0dbd \\u0d85\\u0da9\\u0dd4\\u0dc0\\u0dd3\\u0db8\\u0da7 \\u0dc3\\u0dcf\\u0db4\\u0dda\\u0d9a\\u0dca\\u0dc2\\u0dc0 \\u0db8\\u0dd9\\u0dbd\\u0dd9\\u0dc3 \\u0da2\\u0dbd \\u0d9c\\u0dcf\\u0dc3\\u0dca\\u0dad\\u0dd4 \\u0d85\\u0da9\\u0dd4 \\u0d9a\\u0dd2\\u0dbb\\u0dd3\\u0db8 \\u0d9a\\u0dd9\\u0dbb\\u0dd9\\u0dc4\\u0dd2 \\u0d85\\u0dc0\\u0db0\\u0dcf\\u0db1\\u0dba \\u0dba\\u0ddc\\u0db8\\u0dd4\\u0dc0 \\u0d87\\u0dad\\u0dd2 \\u0db6\\u0dc0\\u0dba.\\n\\n\\u0da2\\u0dbd \\u0d9c\\u0dcf\\u0dc3\\u0dca\\u0dad\\u0dd4 \\u0d85\\u0da9\\u0dd4\\u0d9a\\u0dd2\\u0dbb\\u0dd3\\u0db8 \\u0db4\\u0dd2\\u0dc5\\u0dd2\\u0db6\\u0db3 \\u0dc3\\u0ddc\\u0dba\\u0dcf \\u0db6\\u0dd0\\u0dbd\\u0dd3\\u0db8 \\u0dc3\\u0db3\\u0dc4\\u0dcf \\u0d9a\\u0db8\\u0dd2\\u0da7\\u0dd4\\u0dc0\\u0d9a\\u0dca \\u0db4\\u0dad\\u0dca\\u0d9a\\u0dbb \\u0d87\\u0dad\\u0dd2 \\u0db6\\u0dc0 \\u0dc3\\u0db3\\u0dc4\\u0db1\\u0dca\\u0dba.\\n\\n\\u0da2\\u0dbd \\u0db6\\u0dd2\\u0dbd \\u0d85\\u0da9\\u0dd4\\u0d9a\\u0dd2\\u0dbb\\u0dd3\\u0db8 \\u0dc3\\u0db3\\u0dc4\\u0dcf \\u0db4\\u0dad\\u0dca\\u0d9a\\u0dc5 \\u0d9a\\u0db8\\u0dd2\\u0da7\\u0dd4\\u0dc0\\u0dda \\u0dc0\\u0dcf\\u0dbb\\u0dca\\u0dad\\u0dcf\\u0dc0 \\u0d89\\u0daf\\u0dd2\\u0dbb\\u0dd2 \\u0daf\\u0dd2\\u0db1 \\u0d9a\\u0dd2\\u0dc4\\u0dd2\\u0db4\\u0dba \\u0d87\\u0dad\\u0dd4\\u0dc5\\u0dad \\u0da2\\u0dcf\\u0dad\\u0dd2\\u0d9a \\u0da2\\u0dbd \\u0dc3\\u0db8\\u0dca\\u0db4\\u0dcf\\u0daf\\u0db1 \\u0dc4\\u0dcf \\u0da2\\u0dbd\\u0dcf\\u0db4\\u0dc0\\u0dc4\\u0db1 \\u0db8\\u0dab\\u0dca\\u0da9\\u0dbd\\u0dba\\u0dda \\u0dc3\\u0db7\\u0dcf\\u0db4\\u0dad\\u0dd2\\u0dc0\\u0dbb\\u0dba\\u0dcf \\u0dc0\\u0dd9\\u0dad \\u0db7\\u0dcf\\u0dbb\\u0daf\\u0dd3\\u0db8\\u0da7 \\u0db1\\u0dd2\\u0dba\\u0db8\\u0dd2\\u0dad\\u0dc0 \\u0dad\\u0dd2\\u0db6\\u0dda.\\n\\n\\u0d85\\u0db1\\u0dad\\u0dd4\\u0dbb\\u0dd4\\u0dc0 \\u0dc3\\u0db7\\u0dcf\\u0db4\\u0dad\\u0dd2\\u0dc0\\u0dbb\\u0dba\\u0dcf \\u0dc0\\u0dd2\\u0dc3\\u0dd2\\u0db1\\u0dca \\u0d91\\u0db8 \\u0dc0\\u0dcf\\u0dbb\\u0dca\\u0dad\\u0dcf\\u0dc0 \\u0dc0\\u0dd2\\u0dc2\\u0dba\\u0db7\\u0dcf\\u0dbb \\u0d85\\u0db8\\u0dcf\\u0dad\\u0dca\\u200d\\u0dba\\u0dc0\\u0dbb\\u0dba\\u0dcf \\u0dc0\\u0dd9\\u0dad \\u0db7\\u0dcf\\u0dbb\\u0daf\\u0dd3\\u0db8\\u0dd9\\u0db1\\u0dca \\u0d85\\u0db1\\u0dad\\u0dd4\\u0dbb\\u0dd4\\u0dc0 \\u0d85\\u0daf\\u0dcf\\u0dc5 \\u0dba\\u0ddd\\u0da2\\u0db1\\u0dcf \\u0d85\\u0db8\\u0dcf\\u0dad\\u0dca\\u200d\\u0dba \\u0db8\\u0dab\\u0dca\\u0da9\\u0dbd\\u0dba \\u0dc0\\u0dd9\\u0dad \\u0d89\\u0daf\\u0dd2\\u0dbb\\u0dd2\\u0db4\\u0dad\\u0dca \\u0d9a\\u0dd2\\u0dbb\\u0dd3\\u0db8\\u0da7 \\u0db1\\u0dd2\\u0dba\\u0db8\\u0dd2\\u0dad \\u0db6\\u0dc0 \\u0dc0\\u0dcf\\u0dbb\\u0dca\\u0dad\\u0dcf \\u0dc0\\u0dda.\"\n        ],\n        \"semantic_type\": \"\",\n        \"description\": \"\"\n      }\n    },\n    {\n      \"column\": \"published_date\",\n      \"properties\": {\n        \"dtype\": \"string\",\n        \"num_unique_values\": 991,\n        \"samples\": [\n          \"2025-02-10 08:23:34.396\",\n          \"2025-02-08 05:50:00\",\n          \"2025-02-06 06:00:00\"\n        ],\n        \"semantic_type\": \"\",\n        \"description\": \"\"\n      }\n    },\n    {\n      \"column\": \"breaking_news\",\n      \"properties\": {\n        \"dtype\": \"boolean\",\n        \"num_unique_values\": 2,\n        \"samples\": [\n          true,\n          false\n        ],\n        \"semantic_type\": \"\",\n        \"description\": \"\"\n      }\n    },\n    {\n      \"column\": \"blob_image\",\n      \"properties\": {\n        \"dtype\": \"number\",\n        \"std\": null,\n        \"min\": null,\n        \"max\": null,\n        \"num_unique_values\": 0,\n        \"samples\": [],\n        \"semantic_type\": \"\",\n        \"description\": \"\"\n      }\n    },\n    {\n      \"column\": \"source_url\",\n      \"properties\": {\n        \"dtype\": \"string\",\n        \"num_unique_values\": 1000,\n        \"samples\": [],\n        \"semantic_type\": \"\",\n        \"description\": \"\"\n      }\n    },\n    {\n      \"column\": \"created_at\",\n      \"properties\": {\n        \"dtype\": \"string\",\n        \"num_unique_values\": 999,\n        \"samples\": [],\n        \"semantic_type\": \"\",\n        \"description\": \"\"\n      }\n    },\n    {\n      \"column\": \"updated_at\",\n      \"properties\": {\n        \"dtype\": \"string\",\n        \"num_unique_values\": 1000,\n        \"samples\": [],\n        \"semantic_type\": \"\",\n        \"description\": \"\"\n      }\n    },\n    {\n      \"column\": \"published_at\",\n      \"properties\": {\n        \"dtype\": \"string\",\n        \"num_unique_values\": 965,\n        \"samples\": [],\n        \"semantic_type\": \"\",\n        \"description\": \"\"\n      }\n    },\n    {\n      \"column\": \"created_by_id\",\n      \"properties\": {\n        \"dtype\": \"number\",\n        \"std\": 2.165843529047751,\n        \"min\": 1.0,\n        \"max\": 7.0,\n        \"num_unique_values\": 2,\n        \"samples\": [],\n        \"semantic_type\": \"\",\n        \"description\": \"\"\n      }\n    },\n    {\n      \"column\": \"updated_by_id\",\n      \"properties\": {\n        \"dtype\": \"number\",\n        \"std\": 2.9778664515364195,\n        \"min\": 1.0,\n        \"max\": 7.0,\n        \"num_unique_values\": 2,\n        \"samples\": [],\n        \"semantic_type\": \"\",\n        \"description\": \"\"\n      }\n    },\n    {\n      \"column\": \"shares\",\n      \"properties\": {\n        \"dtype\": \"number\",\n        \"std\": 0,\n        \"min\": 0,\n        \"max\": 4,\n        \"num_unique_values\": 5,\n        \"samples\": [],\n        \"semantic_type\": \"\",\n        \"description\": \"\"\n      }\n    },\n    {\n      \"column\": \"comment_count\",\n      \"properties\": {\n        \"dtype\": \"number\",\n        \"std\": 0,\n        \"min\": 0,\n        \"max\": 2,\n        \"num_unique_values\": 3,\n        \"samples\": [],\n        \"semantic_type\": \"\",\n        \"description\": \"\"\n      }\n    },\n    {\n      \"column\": \"type\",\n      \"properties\": {\n        \"dtype\": \"category\",\n        \"num_unique_values\": 2,\n        \"samples\": [],\n        \"semantic_type\": \"\",\n        \"description\": \"\"\n      }\n    }\n  ]\n}"
            }
          },
          "metadata": {},
          "execution_count": 411
        }
      ]
    },
    {
      "cell_type": "code",
      "source": [
        "news_df.dtypes"
      ],
      "metadata": {
        "colab": {
          "base_uri": "https://localhost:8080/",
          "height": 554
        },
        "id": "0EMYb9RCH9O0",
        "outputId": "529275c9-3fc9-4fb0-cb63-eb5a73cf5b05"
      },
      "execution_count": 412,
      "outputs": [
        {
          "output_type": "execute_result",
          "data": {
            "text/plain": [
              "id                  int64\n",
              "title              object\n",
              "description        object\n",
              "published_date     object\n",
              "breaking_news        bool\n",
              "blob_image        float64\n",
              "source_url         object\n",
              "created_at         object\n",
              "updated_at         object\n",
              "published_at       object\n",
              "created_by_id     float64\n",
              "updated_by_id     float64\n",
              "shares              int64\n",
              "comment_count       int64\n",
              "type               object\n",
              "dtype: object"
            ],
            "text/html": [
              "<div>\n",
              "<style scoped>\n",
              "    .dataframe tbody tr th:only-of-type {\n",
              "        vertical-align: middle;\n",
              "    }\n",
              "\n",
              "    .dataframe tbody tr th {\n",
              "        vertical-align: top;\n",
              "    }\n",
              "\n",
              "    .dataframe thead th {\n",
              "        text-align: right;\n",
              "    }\n",
              "</style>\n",
              "<table border=\"1\" class=\"dataframe\">\n",
              "  <thead>\n",
              "    <tr style=\"text-align: right;\">\n",
              "      <th></th>\n",
              "      <th>0</th>\n",
              "    </tr>\n",
              "  </thead>\n",
              "  <tbody>\n",
              "    <tr>\n",
              "      <th>id</th>\n",
              "      <td>int64</td>\n",
              "    </tr>\n",
              "    <tr>\n",
              "      <th>title</th>\n",
              "      <td>object</td>\n",
              "    </tr>\n",
              "    <tr>\n",
              "      <th>description</th>\n",
              "      <td>object</td>\n",
              "    </tr>\n",
              "    <tr>\n",
              "      <th>published_date</th>\n",
              "      <td>object</td>\n",
              "    </tr>\n",
              "    <tr>\n",
              "      <th>breaking_news</th>\n",
              "      <td>bool</td>\n",
              "    </tr>\n",
              "    <tr>\n",
              "      <th>blob_image</th>\n",
              "      <td>float64</td>\n",
              "    </tr>\n",
              "    <tr>\n",
              "      <th>source_url</th>\n",
              "      <td>object</td>\n",
              "    </tr>\n",
              "    <tr>\n",
              "      <th>created_at</th>\n",
              "      <td>object</td>\n",
              "    </tr>\n",
              "    <tr>\n",
              "      <th>updated_at</th>\n",
              "      <td>object</td>\n",
              "    </tr>\n",
              "    <tr>\n",
              "      <th>published_at</th>\n",
              "      <td>object</td>\n",
              "    </tr>\n",
              "    <tr>\n",
              "      <th>created_by_id</th>\n",
              "      <td>float64</td>\n",
              "    </tr>\n",
              "    <tr>\n",
              "      <th>updated_by_id</th>\n",
              "      <td>float64</td>\n",
              "    </tr>\n",
              "    <tr>\n",
              "      <th>shares</th>\n",
              "      <td>int64</td>\n",
              "    </tr>\n",
              "    <tr>\n",
              "      <th>comment_count</th>\n",
              "      <td>int64</td>\n",
              "    </tr>\n",
              "    <tr>\n",
              "      <th>type</th>\n",
              "      <td>object</td>\n",
              "    </tr>\n",
              "  </tbody>\n",
              "</table>\n",
              "</div><br><label><b>dtype:</b> object</label>"
            ]
          },
          "metadata": {},
          "execution_count": 412
        }
      ]
    },
    {
      "cell_type": "code",
      "source": [
        "print(news_df.isnull().sum())"
      ],
      "metadata": {
        "colab": {
          "base_uri": "https://localhost:8080/"
        },
        "id": "a1R4NPiFFsMK",
        "outputId": "c06ca5df-17a2-4dcb-ae34-949655256ded"
      },
      "execution_count": 413,
      "outputs": [
        {
          "output_type": "stream",
          "name": "stdout",
          "text": [
            "id                   0\n",
            "title                0\n",
            "description          0\n",
            "published_date       0\n",
            "breaking_news        0\n",
            "blob_image        1000\n",
            "source_url           0\n",
            "created_at           0\n",
            "updated_at           0\n",
            "published_at        35\n",
            "created_by_id      382\n",
            "updated_by_id       35\n",
            "shares               0\n",
            "comment_count        0\n",
            "type                 0\n",
            "dtype: int64\n"
          ]
        }
      ]
    },
    {
      "cell_type": "code",
      "source": [
        "news_df.drop(columns=[\"blob_image\", \"shares\", \"comment_count\", \"type\"], inplace=True)"
      ],
      "metadata": {
        "id": "kEzWrDmDE390"
      },
      "execution_count": 414,
      "outputs": []
    },
    {
      "cell_type": "code",
      "source": [
        "news_df['published_at'] = news_df['published_at'].fillna(news_df['published_at'].mode()[0])\n",
        "\n",
        "news_df['updated_by_id'] = news_df['updated_by_id'].fillna(news_df['updated_by_id'].mode()[0])\n",
        "\n",
        "news_df['created_by_id'] = news_df['created_by_id'].fillna(news_df['created_by_id'].mode()[0])"
      ],
      "metadata": {
        "id": "SF7AQxBgGv8_"
      },
      "execution_count": 415,
      "outputs": []
    },
    {
      "cell_type": "code",
      "source": [
        "print(news_df.isnull().sum())"
      ],
      "metadata": {
        "colab": {
          "base_uri": "https://localhost:8080/"
        },
        "id": "JnCsHTgWHCpW",
        "outputId": "7c4a0a83-7c7f-4a05-f3b7-7c482044fc89"
      },
      "execution_count": 416,
      "outputs": [
        {
          "output_type": "stream",
          "name": "stdout",
          "text": [
            "id                0\n",
            "title             0\n",
            "description       0\n",
            "published_date    0\n",
            "breaking_news     0\n",
            "source_url        0\n",
            "created_at        0\n",
            "updated_at        0\n",
            "published_at      0\n",
            "created_by_id     0\n",
            "updated_by_id     0\n",
            "dtype: int64\n"
          ]
        }
      ]
    },
    {
      "cell_type": "code",
      "source": [
        "news_df['content'] = news_df['title'] + \" \" + news_df['description']"
      ],
      "metadata": {
        "id": "FrDwdVS8rWze"
      },
      "execution_count": 417,
      "outputs": []
    },
    {
      "cell_type": "code",
      "source": [
        "sinhala_stop_words = [\n",
        "    \"අය\", \"අතර\", \"ඉන්\", \"එක\", \"එය\", \"ඔබ\", \"ඔයා\", \"ඔහු\", \"ඔවුන්\",\n",
        "    \"ඕනෑ\", \"ආයුබෝවන්\", \"ආදිය\", \"ඇයි\", \"ඇතුලත\", \"ඇත\", \"ඉන්පසු\",\n",
        "    \"ඉස්සර\", \"එක්\", \"ඔය\", \"ඔබට\", \"ඔයාලා\", \"ඔයාව\", \"උදාහරණ\", \"උපුටා\",\n",
        "    \"ඉදිරියට\",\"එදා\", \"ඒ\", \"ඒවා\", \"ඕන\", \"ඔක්කෝම\", \"ඔවුන්\",\n",
        "    \"අප\", \"අපේ\", \"ඇතුළත්\", \"ඇත\", \"ඉතා\", \"ඊයේ\", \"ඔබට\", \"ඔබගේ\", \"එහි\",\n",
        "    \"එන්න\",\"ඕක\", \"ආයුබෝවන්\", \"ඇත\", \"උසස්\", \"ඉහළ\", \"ඔබේ\", \"අය\", \"ඔව්\",\n",
        "    \"එක්\", \"අපේ\", \"අද\", \"ඉන්\", \"ඉතා\", \"ඉතාම\", \"ඉහත\", \"අවශ්‍ය\", \"ඔයාලට\"\n",
        "]"
      ],
      "metadata": {
        "id": "jViLIcHJDlH2"
      },
      "execution_count": 418,
      "outputs": []
    },
    {
      "cell_type": "code",
      "source": [
        "def preprocess_sinhala_text(text):\n",
        "    text = str(text)\n",
        "    text = re.sub(r'[^\\u0D80-\\u0DFF\\s]', '', text)\n",
        "    text = text.strip()\n",
        "    tokens = word_tokenize(text)\n",
        "    tokens = [word for word in tokens if word not in sinhala_stop_words]\n",
        "    return \" \".join(tokens)"
      ],
      "metadata": {
        "id": "HJjxOTtzE_8q"
      },
      "execution_count": 419,
      "outputs": []
    },
    {
      "cell_type": "code",
      "source": [
        "nltk.download('punkt_tab')"
      ],
      "metadata": {
        "colab": {
          "base_uri": "https://localhost:8080/"
        },
        "id": "fkoJnSNyFU-B",
        "outputId": "e70cac46-3ac8-4d81-f6ad-3ff47967d15f"
      },
      "execution_count": 421,
      "outputs": [
        {
          "output_type": "stream",
          "name": "stderr",
          "text": [
            "[nltk_data] Downloading package punkt_tab to /root/nltk_data...\n",
            "[nltk_data]   Unzipping tokenizers/punkt_tab.zip.\n"
          ]
        },
        {
          "output_type": "execute_result",
          "data": {
            "text/plain": [
              "True"
            ]
          },
          "metadata": {},
          "execution_count": 421
        }
      ]
    },
    {
      "cell_type": "code",
      "source": [
        "news_df['content'] = news_df['content'].apply(preprocess_sinhala_text)"
      ],
      "metadata": {
        "id": "gAzqTAqZFPNh"
      },
      "execution_count": 422,
      "outputs": []
    },
    {
      "cell_type": "code",
      "source": [
        "tfidf_vectorizer = TfidfVectorizer()\n",
        "tfidf_matrix = tfidf_vectorizer.fit_transform(news_df['content'])"
      ],
      "metadata": {
        "id": "NBLX5cdNFZN4"
      },
      "execution_count": 423,
      "outputs": []
    },
    {
      "cell_type": "code",
      "source": [
        "cosine_sim = cosine_similarity(tfidf_matrix, tfidf_matrix)"
      ],
      "metadata": {
        "id": "SvOWNQZ9Fbfx"
      },
      "execution_count": 424,
      "outputs": []
    },
    {
      "cell_type": "code",
      "source": [
        "cosine_sim_df = pd.DataFrame(cosine_sim, index=news_df['id'], columns=news_df['id'])"
      ],
      "metadata": {
        "id": "Qtkp54V6Fdsg"
      },
      "execution_count": 425,
      "outputs": []
    },
    {
      "cell_type": "code",
      "source": [
        "with open('cbf_model_cosine_sim.pkl', 'wb') as f:\n",
        "    pickle.dump(cosine_sim, f)"
      ],
      "metadata": {
        "id": "O60OAXQZlXqW"
      },
      "execution_count": 426,
      "outputs": []
    },
    {
      "cell_type": "code",
      "source": [
        "with open('cbf_model_tfidf.pkl', 'wb') as f:\n",
        "    pickle.dump(tfidf_vectorizer, f)"
      ],
      "metadata": {
        "id": "8qAAnNKmDw9u"
      },
      "execution_count": 427,
      "outputs": []
    },
    {
      "cell_type": "code",
      "source": [
        "def recommend_content_based(news_id, cosine_sim=cosine_sim, top_n=5):\n",
        "    if news_id not in news_df['id'].values:\n",
        "        return []\n",
        "\n",
        "    idx = news_df[news_df['id'] == news_id].index[0]\n",
        "    sim_scores = list(enumerate(cosine_sim[idx]))\n",
        "    sim_scores = sorted(sim_scores, key=lambda x: x[1], reverse=True)\n",
        "    sim_scores = sim_scores[1:top_n+1]\n",
        "    recommended_indices = [x[0] for x in sim_scores]\n",
        "\n",
        "    return news_df.iloc[recommended_indices]['id'].tolist()"
      ],
      "metadata": {
        "id": "RfoFeOfVDsjO"
      },
      "execution_count": 428,
      "outputs": []
    },
    {
      "cell_type": "code",
      "source": [
        "recommended_articles = recommend_content_based(23996, top_n=5)\n",
        "print(recommended_articles)\n"
      ],
      "metadata": {
        "colab": {
          "base_uri": "https://localhost:8080/"
        },
        "id": "Vjkg4znIDxwe",
        "outputId": "918aeb53-4817-4d02-eaba-a59196aac773"
      },
      "execution_count": 429,
      "outputs": [
        {
          "output_type": "stream",
          "name": "stdout",
          "text": [
            "[23097, 23794, 23158, 23819, 23710]\n"
          ]
        }
      ]
    },
    {
      "cell_type": "markdown",
      "source": [
        "## CF"
      ],
      "metadata": {
        "id": "qm0GYEkzQv78"
      }
    },
    {
      "cell_type": "code",
      "source": [
        "!pip install scikit-surprise"
      ],
      "metadata": {
        "colab": {
          "base_uri": "https://localhost:8080/"
        },
        "id": "ggoLKsyHHxr7",
        "outputId": "900f630f-7642-4390-8838-6e1f50bd18c0"
      },
      "execution_count": 431,
      "outputs": [
        {
          "output_type": "stream",
          "name": "stdout",
          "text": [
            "Collecting scikit-surprise\n",
            "  Downloading scikit_surprise-1.1.4.tar.gz (154 kB)\n",
            "\u001b[?25l     \u001b[90m━━━━━━━━━━━━━━━━━━━━━━━━━━━━━━━━━━━━━━━━\u001b[0m \u001b[32m0.0/154.4 kB\u001b[0m \u001b[31m?\u001b[0m eta \u001b[36m-:--:--\u001b[0m\r\u001b[2K     \u001b[91m━━━━━━━━━━━━━━━━━━━━━━━━━━━━━━━━━━━━━━━\u001b[0m\u001b[91m╸\u001b[0m \u001b[32m153.6/154.4 kB\u001b[0m \u001b[31m5.5 MB/s\u001b[0m eta \u001b[36m0:00:01\u001b[0m\r\u001b[2K     \u001b[90m━━━━━━━━━━━━━━━━━━━━━━━━━━━━━━━━━━━━━━━━\u001b[0m \u001b[32m154.4/154.4 kB\u001b[0m \u001b[31m3.8 MB/s\u001b[0m eta \u001b[36m0:00:00\u001b[0m\n",
            "\u001b[?25h  Installing build dependencies ... \u001b[?25l\u001b[?25hdone\n",
            "  Getting requirements to build wheel ... \u001b[?25l\u001b[?25hdone\n",
            "  Preparing metadata (pyproject.toml) ... \u001b[?25l\u001b[?25hdone\n",
            "Requirement already satisfied: joblib>=1.2.0 in /usr/local/lib/python3.11/dist-packages (from scikit-surprise) (1.4.2)\n",
            "Requirement already satisfied: numpy>=1.19.5 in /usr/local/lib/python3.11/dist-packages (from scikit-surprise) (1.26.4)\n",
            "Requirement already satisfied: scipy>=1.6.0 in /usr/local/lib/python3.11/dist-packages (from scikit-surprise) (1.13.1)\n",
            "Building wheels for collected packages: scikit-surprise\n",
            "  Building wheel for scikit-surprise (pyproject.toml) ... \u001b[?25l\u001b[?25hdone\n",
            "  Created wheel for scikit-surprise: filename=scikit_surprise-1.1.4-cp311-cp311-linux_x86_64.whl size=2505170 sha256=0c17b8aeae73eaabfa61479e3c81bb92e4df7c9137c597463996aad5744a18da\n",
            "  Stored in directory: /root/.cache/pip/wheels/2a/8f/6e/7e2899163e2d85d8266daab4aa1cdabec7a6c56f83c015b5af\n",
            "Successfully built scikit-surprise\n",
            "Installing collected packages: scikit-surprise\n",
            "Successfully installed scikit-surprise-1.1.4\n"
          ]
        }
      ]
    },
    {
      "cell_type": "code",
      "source": [
        "import pandas as pd\n",
        "import numpy as np\n",
        "import pickle\n",
        "from sklearn.neighbors import NearestNeighbors\n",
        "from surprise import SVD, Dataset, Reader\n",
        "from surprise.model_selection import train_test_split\n",
        "import datetime"
      ],
      "metadata": {
        "id": "Sn4r6p87Hejz"
      },
      "execution_count": 432,
      "outputs": []
    },
    {
      "cell_type": "code",
      "source": [
        "rec_feedback_df = pd.read_csv('rec_feedback.csv')\n",
        "\n",
        "users_df = pd.read_csv('users.csv')"
      ],
      "metadata": {
        "id": "ulv9kBiuRAf0"
      },
      "execution_count": 434,
      "outputs": []
    },
    {
      "cell_type": "code",
      "source": [
        "rec_feedback_df.head()"
      ],
      "metadata": {
        "colab": {
          "base_uri": "https://localhost:8080/",
          "height": 313
        },
        "id": "bqs741gNRE67",
        "outputId": "27fc4c78-8977-4969-934e-5efb799e94e3"
      },
      "execution_count": 435,
      "outputs": [
        {
          "output_type": "execute_result",
          "data": {
            "text/plain": [
              "      id feedback_type                  time_stamp  comment  user_id  item_id  \\\n",
              "0  49554         click  2025-02-13 10:03:47.440412      NaN     1182    23942   \n",
              "1  49553          read  2025-02-13 10:03:42.411734      NaN     1182    23942   \n",
              "2  49552         click  2025-02-13 10:01:54.947236      NaN     1058    23942   \n",
              "3  49550         click  2025-02-13 10:01:31.955569      NaN     1058    23930   \n",
              "4  49549         click  2025-02-13 10:01:10.809916      NaN     1058    23941   \n",
              "\n",
              "   created_at  updated_at  created_by_id  updated_by_id  \n",
              "0         NaN         NaN            NaN            NaN  \n",
              "1         NaN         NaN            NaN            NaN  \n",
              "2         NaN         NaN            NaN            NaN  \n",
              "3         NaN         NaN            NaN            NaN  \n",
              "4         NaN         NaN            NaN            NaN  "
            ],
            "text/html": [
              "\n",
              "  <div id=\"df-da8d1d5b-5342-421a-a340-ef233b5172f4\" class=\"colab-df-container\">\n",
              "    <div>\n",
              "<style scoped>\n",
              "    .dataframe tbody tr th:only-of-type {\n",
              "        vertical-align: middle;\n",
              "    }\n",
              "\n",
              "    .dataframe tbody tr th {\n",
              "        vertical-align: top;\n",
              "    }\n",
              "\n",
              "    .dataframe thead th {\n",
              "        text-align: right;\n",
              "    }\n",
              "</style>\n",
              "<table border=\"1\" class=\"dataframe\">\n",
              "  <thead>\n",
              "    <tr style=\"text-align: right;\">\n",
              "      <th></th>\n",
              "      <th>id</th>\n",
              "      <th>feedback_type</th>\n",
              "      <th>time_stamp</th>\n",
              "      <th>comment</th>\n",
              "      <th>user_id</th>\n",
              "      <th>item_id</th>\n",
              "      <th>created_at</th>\n",
              "      <th>updated_at</th>\n",
              "      <th>created_by_id</th>\n",
              "      <th>updated_by_id</th>\n",
              "    </tr>\n",
              "  </thead>\n",
              "  <tbody>\n",
              "    <tr>\n",
              "      <th>0</th>\n",
              "      <td>49554</td>\n",
              "      <td>click</td>\n",
              "      <td>2025-02-13 10:03:47.440412</td>\n",
              "      <td>NaN</td>\n",
              "      <td>1182</td>\n",
              "      <td>23942</td>\n",
              "      <td>NaN</td>\n",
              "      <td>NaN</td>\n",
              "      <td>NaN</td>\n",
              "      <td>NaN</td>\n",
              "    </tr>\n",
              "    <tr>\n",
              "      <th>1</th>\n",
              "      <td>49553</td>\n",
              "      <td>read</td>\n",
              "      <td>2025-02-13 10:03:42.411734</td>\n",
              "      <td>NaN</td>\n",
              "      <td>1182</td>\n",
              "      <td>23942</td>\n",
              "      <td>NaN</td>\n",
              "      <td>NaN</td>\n",
              "      <td>NaN</td>\n",
              "      <td>NaN</td>\n",
              "    </tr>\n",
              "    <tr>\n",
              "      <th>2</th>\n",
              "      <td>49552</td>\n",
              "      <td>click</td>\n",
              "      <td>2025-02-13 10:01:54.947236</td>\n",
              "      <td>NaN</td>\n",
              "      <td>1058</td>\n",
              "      <td>23942</td>\n",
              "      <td>NaN</td>\n",
              "      <td>NaN</td>\n",
              "      <td>NaN</td>\n",
              "      <td>NaN</td>\n",
              "    </tr>\n",
              "    <tr>\n",
              "      <th>3</th>\n",
              "      <td>49550</td>\n",
              "      <td>click</td>\n",
              "      <td>2025-02-13 10:01:31.955569</td>\n",
              "      <td>NaN</td>\n",
              "      <td>1058</td>\n",
              "      <td>23930</td>\n",
              "      <td>NaN</td>\n",
              "      <td>NaN</td>\n",
              "      <td>NaN</td>\n",
              "      <td>NaN</td>\n",
              "    </tr>\n",
              "    <tr>\n",
              "      <th>4</th>\n",
              "      <td>49549</td>\n",
              "      <td>click</td>\n",
              "      <td>2025-02-13 10:01:10.809916</td>\n",
              "      <td>NaN</td>\n",
              "      <td>1058</td>\n",
              "      <td>23941</td>\n",
              "      <td>NaN</td>\n",
              "      <td>NaN</td>\n",
              "      <td>NaN</td>\n",
              "      <td>NaN</td>\n",
              "    </tr>\n",
              "  </tbody>\n",
              "</table>\n",
              "</div>\n",
              "    <div class=\"colab-df-buttons\">\n",
              "\n",
              "  <div class=\"colab-df-container\">\n",
              "    <button class=\"colab-df-convert\" onclick=\"convertToInteractive('df-da8d1d5b-5342-421a-a340-ef233b5172f4')\"\n",
              "            title=\"Convert this dataframe to an interactive table.\"\n",
              "            style=\"display:none;\">\n",
              "\n",
              "  <svg xmlns=\"http://www.w3.org/2000/svg\" height=\"24px\" viewBox=\"0 -960 960 960\">\n",
              "    <path d=\"M120-120v-720h720v720H120Zm60-500h600v-160H180v160Zm220 220h160v-160H400v160Zm0 220h160v-160H400v160ZM180-400h160v-160H180v160Zm440 0h160v-160H620v160ZM180-180h160v-160H180v160Zm440 0h160v-160H620v160Z\"/>\n",
              "  </svg>\n",
              "    </button>\n",
              "\n",
              "  <style>\n",
              "    .colab-df-container {\n",
              "      display:flex;\n",
              "      gap: 12px;\n",
              "    }\n",
              "\n",
              "    .colab-df-convert {\n",
              "      background-color: #E8F0FE;\n",
              "      border: none;\n",
              "      border-radius: 50%;\n",
              "      cursor: pointer;\n",
              "      display: none;\n",
              "      fill: #1967D2;\n",
              "      height: 32px;\n",
              "      padding: 0 0 0 0;\n",
              "      width: 32px;\n",
              "    }\n",
              "\n",
              "    .colab-df-convert:hover {\n",
              "      background-color: #E2EBFA;\n",
              "      box-shadow: 0px 1px 2px rgba(60, 64, 67, 0.3), 0px 1px 3px 1px rgba(60, 64, 67, 0.15);\n",
              "      fill: #174EA6;\n",
              "    }\n",
              "\n",
              "    .colab-df-buttons div {\n",
              "      margin-bottom: 4px;\n",
              "    }\n",
              "\n",
              "    [theme=dark] .colab-df-convert {\n",
              "      background-color: #3B4455;\n",
              "      fill: #D2E3FC;\n",
              "    }\n",
              "\n",
              "    [theme=dark] .colab-df-convert:hover {\n",
              "      background-color: #434B5C;\n",
              "      box-shadow: 0px 1px 3px 1px rgba(0, 0, 0, 0.15);\n",
              "      filter: drop-shadow(0px 1px 2px rgba(0, 0, 0, 0.3));\n",
              "      fill: #FFFFFF;\n",
              "    }\n",
              "  </style>\n",
              "\n",
              "    <script>\n",
              "      const buttonEl =\n",
              "        document.querySelector('#df-da8d1d5b-5342-421a-a340-ef233b5172f4 button.colab-df-convert');\n",
              "      buttonEl.style.display =\n",
              "        google.colab.kernel.accessAllowed ? 'block' : 'none';\n",
              "\n",
              "      async function convertToInteractive(key) {\n",
              "        const element = document.querySelector('#df-da8d1d5b-5342-421a-a340-ef233b5172f4');\n",
              "        const dataTable =\n",
              "          await google.colab.kernel.invokeFunction('convertToInteractive',\n",
              "                                                    [key], {});\n",
              "        if (!dataTable) return;\n",
              "\n",
              "        const docLinkHtml = 'Like what you see? Visit the ' +\n",
              "          '<a target=\"_blank\" href=https://colab.research.google.com/notebooks/data_table.ipynb>data table notebook</a>'\n",
              "          + ' to learn more about interactive tables.';\n",
              "        element.innerHTML = '';\n",
              "        dataTable['output_type'] = 'display_data';\n",
              "        await google.colab.output.renderOutput(dataTable, element);\n",
              "        const docLink = document.createElement('div');\n",
              "        docLink.innerHTML = docLinkHtml;\n",
              "        element.appendChild(docLink);\n",
              "      }\n",
              "    </script>\n",
              "  </div>\n",
              "\n",
              "\n",
              "<div id=\"df-07123a59-8f31-4fcc-94ac-7e84b4f85e9e\">\n",
              "  <button class=\"colab-df-quickchart\" onclick=\"quickchart('df-07123a59-8f31-4fcc-94ac-7e84b4f85e9e')\"\n",
              "            title=\"Suggest charts\"\n",
              "            style=\"display:none;\">\n",
              "\n",
              "<svg xmlns=\"http://www.w3.org/2000/svg\" height=\"24px\"viewBox=\"0 0 24 24\"\n",
              "     width=\"24px\">\n",
              "    <g>\n",
              "        <path d=\"M19 3H5c-1.1 0-2 .9-2 2v14c0 1.1.9 2 2 2h14c1.1 0 2-.9 2-2V5c0-1.1-.9-2-2-2zM9 17H7v-7h2v7zm4 0h-2V7h2v10zm4 0h-2v-4h2v4z\"/>\n",
              "    </g>\n",
              "</svg>\n",
              "  </button>\n",
              "\n",
              "<style>\n",
              "  .colab-df-quickchart {\n",
              "      --bg-color: #E8F0FE;\n",
              "      --fill-color: #1967D2;\n",
              "      --hover-bg-color: #E2EBFA;\n",
              "      --hover-fill-color: #174EA6;\n",
              "      --disabled-fill-color: #AAA;\n",
              "      --disabled-bg-color: #DDD;\n",
              "  }\n",
              "\n",
              "  [theme=dark] .colab-df-quickchart {\n",
              "      --bg-color: #3B4455;\n",
              "      --fill-color: #D2E3FC;\n",
              "      --hover-bg-color: #434B5C;\n",
              "      --hover-fill-color: #FFFFFF;\n",
              "      --disabled-bg-color: #3B4455;\n",
              "      --disabled-fill-color: #666;\n",
              "  }\n",
              "\n",
              "  .colab-df-quickchart {\n",
              "    background-color: var(--bg-color);\n",
              "    border: none;\n",
              "    border-radius: 50%;\n",
              "    cursor: pointer;\n",
              "    display: none;\n",
              "    fill: var(--fill-color);\n",
              "    height: 32px;\n",
              "    padding: 0;\n",
              "    width: 32px;\n",
              "  }\n",
              "\n",
              "  .colab-df-quickchart:hover {\n",
              "    background-color: var(--hover-bg-color);\n",
              "    box-shadow: 0 1px 2px rgba(60, 64, 67, 0.3), 0 1px 3px 1px rgba(60, 64, 67, 0.15);\n",
              "    fill: var(--button-hover-fill-color);\n",
              "  }\n",
              "\n",
              "  .colab-df-quickchart-complete:disabled,\n",
              "  .colab-df-quickchart-complete:disabled:hover {\n",
              "    background-color: var(--disabled-bg-color);\n",
              "    fill: var(--disabled-fill-color);\n",
              "    box-shadow: none;\n",
              "  }\n",
              "\n",
              "  .colab-df-spinner {\n",
              "    border: 2px solid var(--fill-color);\n",
              "    border-color: transparent;\n",
              "    border-bottom-color: var(--fill-color);\n",
              "    animation:\n",
              "      spin 1s steps(1) infinite;\n",
              "  }\n",
              "\n",
              "  @keyframes spin {\n",
              "    0% {\n",
              "      border-color: transparent;\n",
              "      border-bottom-color: var(--fill-color);\n",
              "      border-left-color: var(--fill-color);\n",
              "    }\n",
              "    20% {\n",
              "      border-color: transparent;\n",
              "      border-left-color: var(--fill-color);\n",
              "      border-top-color: var(--fill-color);\n",
              "    }\n",
              "    30% {\n",
              "      border-color: transparent;\n",
              "      border-left-color: var(--fill-color);\n",
              "      border-top-color: var(--fill-color);\n",
              "      border-right-color: var(--fill-color);\n",
              "    }\n",
              "    40% {\n",
              "      border-color: transparent;\n",
              "      border-right-color: var(--fill-color);\n",
              "      border-top-color: var(--fill-color);\n",
              "    }\n",
              "    60% {\n",
              "      border-color: transparent;\n",
              "      border-right-color: var(--fill-color);\n",
              "    }\n",
              "    80% {\n",
              "      border-color: transparent;\n",
              "      border-right-color: var(--fill-color);\n",
              "      border-bottom-color: var(--fill-color);\n",
              "    }\n",
              "    90% {\n",
              "      border-color: transparent;\n",
              "      border-bottom-color: var(--fill-color);\n",
              "    }\n",
              "  }\n",
              "</style>\n",
              "\n",
              "  <script>\n",
              "    async function quickchart(key) {\n",
              "      const quickchartButtonEl =\n",
              "        document.querySelector('#' + key + ' button');\n",
              "      quickchartButtonEl.disabled = true;  // To prevent multiple clicks.\n",
              "      quickchartButtonEl.classList.add('colab-df-spinner');\n",
              "      try {\n",
              "        const charts = await google.colab.kernel.invokeFunction(\n",
              "            'suggestCharts', [key], {});\n",
              "      } catch (error) {\n",
              "        console.error('Error during call to suggestCharts:', error);\n",
              "      }\n",
              "      quickchartButtonEl.classList.remove('colab-df-spinner');\n",
              "      quickchartButtonEl.classList.add('colab-df-quickchart-complete');\n",
              "    }\n",
              "    (() => {\n",
              "      let quickchartButtonEl =\n",
              "        document.querySelector('#df-07123a59-8f31-4fcc-94ac-7e84b4f85e9e button');\n",
              "      quickchartButtonEl.style.display =\n",
              "        google.colab.kernel.accessAllowed ? 'block' : 'none';\n",
              "    })();\n",
              "  </script>\n",
              "</div>\n",
              "\n",
              "    </div>\n",
              "  </div>\n"
            ],
            "application/vnd.google.colaboratory.intrinsic+json": {
              "type": "dataframe",
              "variable_name": "rec_feedback_df",
              "summary": "{\n  \"name\": \"rec_feedback_df\",\n  \"rows\": 1000,\n  \"fields\": [\n    {\n      \"column\": \"id\",\n      \"properties\": {\n        \"dtype\": \"number\",\n        \"std\": 359,\n        \"min\": 48319,\n        \"max\": 49554,\n        \"num_unique_values\": 1000,\n        \"samples\": [\n          48929,\n          48655,\n          48651\n        ],\n        \"semantic_type\": \"\",\n        \"description\": \"\"\n      }\n    },\n    {\n      \"column\": \"feedback_type\",\n      \"properties\": {\n        \"dtype\": \"category\",\n        \"num_unique_values\": 4,\n        \"samples\": [\n          \"read\",\n          \"share\",\n          \"click\"\n        ],\n        \"semantic_type\": \"\",\n        \"description\": \"\"\n      }\n    },\n    {\n      \"column\": \"time_stamp\",\n      \"properties\": {\n        \"dtype\": \"object\",\n        \"num_unique_values\": 1000,\n        \"samples\": [\n          \"2025-02-11 04:42:23.677528\",\n          \"2025-02-10 09:36:41.947892\",\n          \"2025-02-10 09:26:31.421717\"\n        ],\n        \"semantic_type\": \"\",\n        \"description\": \"\"\n      }\n    },\n    {\n      \"column\": \"comment\",\n      \"properties\": {\n        \"dtype\": \"number\",\n        \"std\": null,\n        \"min\": null,\n        \"max\": null,\n        \"num_unique_values\": 0,\n        \"samples\": [],\n        \"semantic_type\": \"\",\n        \"description\": \"\"\n      }\n    },\n    {\n      \"column\": \"user_id\",\n      \"properties\": {\n        \"dtype\": \"number\",\n        \"std\": 665,\n        \"min\": 257,\n        \"max\": 2329,\n        \"num_unique_values\": 107,\n        \"samples\": [],\n        \"semantic_type\": \"\",\n        \"description\": \"\"\n      }\n    },\n    {\n      \"column\": \"item_id\",\n      \"properties\": {\n        \"dtype\": \"number\",\n        \"std\": 1533,\n        \"min\": 15257,\n        \"max\": 23962,\n        \"num_unique_values\": 332,\n        \"samples\": [],\n        \"semantic_type\": \"\",\n        \"description\": \"\"\n      }\n    },\n    {\n      \"column\": \"created_at\",\n      \"properties\": {\n        \"dtype\": \"number\",\n        \"std\": null,\n        \"min\": null,\n        \"max\": null,\n        \"num_unique_values\": 0,\n        \"samples\": [],\n        \"semantic_type\": \"\",\n        \"description\": \"\"\n      }\n    },\n    {\n      \"column\": \"updated_at\",\n      \"properties\": {\n        \"dtype\": \"number\",\n        \"std\": null,\n        \"min\": null,\n        \"max\": null,\n        \"num_unique_values\": 0,\n        \"samples\": [],\n        \"semantic_type\": \"\",\n        \"description\": \"\"\n      }\n    },\n    {\n      \"column\": \"created_by_id\",\n      \"properties\": {\n        \"dtype\": \"number\",\n        \"std\": null,\n        \"min\": null,\n        \"max\": null,\n        \"num_unique_values\": 0,\n        \"samples\": [],\n        \"semantic_type\": \"\",\n        \"description\": \"\"\n      }\n    },\n    {\n      \"column\": \"updated_by_id\",\n      \"properties\": {\n        \"dtype\": \"number\",\n        \"std\": null,\n        \"min\": null,\n        \"max\": null,\n        \"num_unique_values\": 0,\n        \"samples\": [],\n        \"semantic_type\": \"\",\n        \"description\": \"\"\n      }\n    }\n  ]\n}"
            }
          },
          "metadata": {},
          "execution_count": 435
        }
      ]
    },
    {
      "cell_type": "code",
      "source": [
        "rec_feedback_df.dtypes"
      ],
      "metadata": {
        "colab": {
          "base_uri": "https://localhost:8080/",
          "height": 398
        },
        "id": "wn_gZgApRIDT",
        "outputId": "254c9399-09f5-4a01-b9fd-1a7fa87d2e00"
      },
      "execution_count": 436,
      "outputs": [
        {
          "output_type": "execute_result",
          "data": {
            "text/plain": [
              "id                 int64\n",
              "feedback_type     object\n",
              "time_stamp        object\n",
              "comment          float64\n",
              "user_id            int64\n",
              "item_id            int64\n",
              "created_at       float64\n",
              "updated_at       float64\n",
              "created_by_id    float64\n",
              "updated_by_id    float64\n",
              "dtype: object"
            ],
            "text/html": [
              "<div>\n",
              "<style scoped>\n",
              "    .dataframe tbody tr th:only-of-type {\n",
              "        vertical-align: middle;\n",
              "    }\n",
              "\n",
              "    .dataframe tbody tr th {\n",
              "        vertical-align: top;\n",
              "    }\n",
              "\n",
              "    .dataframe thead th {\n",
              "        text-align: right;\n",
              "    }\n",
              "</style>\n",
              "<table border=\"1\" class=\"dataframe\">\n",
              "  <thead>\n",
              "    <tr style=\"text-align: right;\">\n",
              "      <th></th>\n",
              "      <th>0</th>\n",
              "    </tr>\n",
              "  </thead>\n",
              "  <tbody>\n",
              "    <tr>\n",
              "      <th>id</th>\n",
              "      <td>int64</td>\n",
              "    </tr>\n",
              "    <tr>\n",
              "      <th>feedback_type</th>\n",
              "      <td>object</td>\n",
              "    </tr>\n",
              "    <tr>\n",
              "      <th>time_stamp</th>\n",
              "      <td>object</td>\n",
              "    </tr>\n",
              "    <tr>\n",
              "      <th>comment</th>\n",
              "      <td>float64</td>\n",
              "    </tr>\n",
              "    <tr>\n",
              "      <th>user_id</th>\n",
              "      <td>int64</td>\n",
              "    </tr>\n",
              "    <tr>\n",
              "      <th>item_id</th>\n",
              "      <td>int64</td>\n",
              "    </tr>\n",
              "    <tr>\n",
              "      <th>created_at</th>\n",
              "      <td>float64</td>\n",
              "    </tr>\n",
              "    <tr>\n",
              "      <th>updated_at</th>\n",
              "      <td>float64</td>\n",
              "    </tr>\n",
              "    <tr>\n",
              "      <th>created_by_id</th>\n",
              "      <td>float64</td>\n",
              "    </tr>\n",
              "    <tr>\n",
              "      <th>updated_by_id</th>\n",
              "      <td>float64</td>\n",
              "    </tr>\n",
              "  </tbody>\n",
              "</table>\n",
              "</div><br><label><b>dtype:</b> object</label>"
            ]
          },
          "metadata": {},
          "execution_count": 436
        }
      ]
    },
    {
      "cell_type": "code",
      "source": [
        "print(rec_feedback_df.isnull().sum())"
      ],
      "metadata": {
        "colab": {
          "base_uri": "https://localhost:8080/"
        },
        "id": "qytJ1Aj9RK3j",
        "outputId": "d520ff95-311d-4ce4-81db-028ce9d97b13"
      },
      "execution_count": 440,
      "outputs": [
        {
          "output_type": "stream",
          "name": "stdout",
          "text": [
            "id               0\n",
            "feedback_type    0\n",
            "time_stamp       0\n",
            "user_id          0\n",
            "item_id          0\n",
            "dtype: int64\n"
          ]
        }
      ]
    },
    {
      "cell_type": "code",
      "source": [
        "interaction_weights = {'click': 1, 'read': 2, 'like': 3}\n",
        "rec_feedback_df['weight'] = rec_feedback_df['feedback_type'].map(interaction_weights)"
      ],
      "metadata": {
        "id": "ynT7qblgRNb7"
      },
      "execution_count": 445,
      "outputs": []
    },
    {
      "cell_type": "code",
      "source": [
        "rec_feedback_df['time_stamp'] = pd.to_datetime(rec_feedback_df['time_stamp'])"
      ],
      "metadata": {
        "id": "KmPe8BigJFPv"
      },
      "execution_count": 446,
      "outputs": []
    },
    {
      "cell_type": "code",
      "source": [
        "from datetime import datetime\n",
        "\n",
        "current_time = datetime.now()\n",
        "print(current_time)"
      ],
      "metadata": {
        "colab": {
          "base_uri": "https://localhost:8080/"
        },
        "id": "j2Amo9XzJqEl",
        "outputId": "4157322d-5849-40e4-9e08-6b98446cab97"
      },
      "execution_count": 450,
      "outputs": [
        {
          "output_type": "stream",
          "name": "stdout",
          "text": [
            "2025-02-17 09:05:04.470340\n"
          ]
        }
      ]
    },
    {
      "cell_type": "code",
      "source": [
        "current_time = datetime.now()\n",
        "time_decay_factor = 0.9  # Adjust based on how fast news ages\n",
        "rec_feedback_df['time_weight'] = rec_feedback_df['time_stamp'].apply(\n",
        "    lambda x: time_decay_factor ** ((current_time - x).days)\n",
        ")"
      ],
      "metadata": {
        "id": "uMEgclHJJan2"
      },
      "execution_count": 451,
      "outputs": []
    },
    {
      "cell_type": "code",
      "source": [
        "rec_feedback_df['final_weight'] = rec_feedback_df['weight'] * rec_feedback_df['time_weight']"
      ],
      "metadata": {
        "id": "-tudn7QZT2nT"
      },
      "execution_count": 452,
      "outputs": []
    },
    {
      "cell_type": "code",
      "source": [
        "reader = Reader(rating_scale=(0, 5))\n",
        "data = Dataset.load_from_df(rec_feedback_df[['user_id', 'item_id', 'final_weight']], reader)"
      ],
      "metadata": {
        "id": "vvTTrkXcsYpb"
      },
      "execution_count": 453,
      "outputs": []
    },
    {
      "cell_type": "code",
      "source": [
        "trainset, testset = train_test_split(data, test_size=0.2)\n",
        "svd = SVD()\n",
        "svd.fit(trainset)"
      ],
      "metadata": {
        "id": "SIgby_q-RU46",
        "colab": {
          "base_uri": "https://localhost:8080/"
        },
        "outputId": "c4ffa989-23a4-4a79-f506-c7296c762f63"
      },
      "execution_count": 454,
      "outputs": [
        {
          "output_type": "execute_result",
          "data": {
            "text/plain": [
              "<surprise.prediction_algorithms.matrix_factorization.SVD at 0x7a863cd97a10>"
            ]
          },
          "metadata": {},
          "execution_count": 454
        }
      ]
    },
    {
      "cell_type": "code",
      "source": [
        "with open('collaborative_model.pkl', 'wb') as f:\n",
        "    pickle.dump(svd, f)"
      ],
      "metadata": {
        "id": "qBOSEcuMRYWb"
      },
      "execution_count": 455,
      "outputs": []
    },
    {
      "cell_type": "code",
      "source": [
        "def recommend_collaborative(user_id, model=svd, top_n=5):\n",
        "    \"\"\"Recommend top N articles for a given user using SVD.\"\"\"\n",
        "    if user_id not in rec_feedback_df['user_id'].values:\n",
        "        print(f\"User {user_id} not found. Returning trending articles.\")\n",
        "        return rec_feedback_df.groupby('item_id')['final_weight'].sum().sort_values(ascending=False).head(top_n).index.tolist()\n",
        "\n",
        "    all_items = rec_feedback_df['item_id'].unique()\n",
        "    predictions = [model.predict(user_id, item) for item in all_items]\n",
        "\n",
        "    top_recommendations = sorted(predictions, key=lambda x: x.est, reverse=True)[:top_n]\n",
        "\n",
        "    return [pred.iid for pred in top_recommendations]"
      ],
      "metadata": {
        "id": "Jwz91vKjWjK0"
      },
      "execution_count": 456,
      "outputs": []
    },
    {
      "cell_type": "code",
      "source": [
        "user_id = 2303\n",
        "top_recommendations = recommend_collaborative(user_id, svd, top_n=5)\n",
        "print(\"Top 5 Recommendations:\", top_recommendations)"
      ],
      "metadata": {
        "colab": {
          "base_uri": "https://localhost:8080/"
        },
        "id": "MIAGNrIvsn4z",
        "outputId": "2e237073-90d6-407b-a907-48755fecfef5"
      },
      "execution_count": 458,
      "outputs": [
        {
          "output_type": "stream",
          "name": "stdout",
          "text": [
            "Top 5 Recommendations: [23803, 23763, 23939, 23941, 20102]\n"
          ]
        }
      ]
    },
    {
      "cell_type": "markdown",
      "source": [
        "## Hybrid Model"
      ],
      "metadata": {
        "id": "UdAexcCQXLzL"
      }
    },
    {
      "cell_type": "code",
      "source": [
        "with open('cbf_model_cosine_sim.pkl', 'rb') as f:\n",
        "    cosine_sim = pickle.load(f)\n",
        "\n",
        "with open('cbf_model_tfidf.pkl', 'rb') as f:\n",
        "    tfidf_vectorizer = pickle.load(f)\n",
        "\n",
        "with open('collaborative_model.pkl', 'rb') as f:\n",
        "    knn = pickle.load(f)"
      ],
      "metadata": {
        "id": "CgQHt_N9l-3s"
      },
      "execution_count": 513,
      "outputs": []
    },
    {
      "cell_type": "code",
      "source": [
        "# Content-Based Filtering\n",
        "def recommend_content_based(news_id, cosine_sim=cosine_sim, top_n=5):\n",
        "    if news_id not in news_df['id'].values:\n",
        "        print(f\"News ID {news_id} not found.\")\n",
        "        return []\n",
        "\n",
        "    idx = news_df[news_df['id'] == news_id].index[0]\n",
        "    sim_scores = sorted(enumerate(cosine_sim[idx]), key=lambda x: x[1], reverse=True)\n",
        "    recommended_indices = [x[0] for x in sim_scores[1:top_n + 1]]\n",
        "\n",
        "    return news_df.iloc[recommended_indices]['id'].tolist()"
      ],
      "metadata": {
        "id": "0BoKyIsu6j-e"
      },
      "execution_count": 514,
      "outputs": []
    },
    {
      "cell_type": "code",
      "source": [
        "# Collaborative Filtering\n",
        "def recommend_collaborative(user_id, user_item_matrix=user_item_matrix, knn=knn, top_n=5):\n",
        "    if user_id not in user_item_matrix.index:\n",
        "        print(f\"User {user_id} not found. Returning top items.\")\n",
        "        return user_item_matrix.sum(axis=0).sort_values(ascending=False).head(top_n).index.tolist()\n",
        "\n",
        "    user_index = user_item_matrix.index.get_loc(user_id)\n",
        "    distances, indices = knn.kneighbors(user_item_matrix.iloc[user_index, :].values.reshape(1, -1), n_neighbors=top_n + 1)\n",
        "    similar_users = user_item_matrix.index[indices.flatten()[1:]].tolist()\n",
        "    recommended_items = rec_feedback_df[rec_feedback_df['user_id'].isin(similar_users)]['item_id'].value_counts().index.tolist()\n",
        "\n",
        "    return recommended_items[:top_n]"
      ],
      "metadata": {
        "id": "H9I3AA0q6sHc"
      },
      "execution_count": 515,
      "outputs": []
    },
    {
      "cell_type": "code",
      "source": [
        "# Hybrid Filtering\n",
        "def recommend_hybrid(user_id, news_id, alpha=0.5, top_n=5):\n",
        "    cbf_recommendations = recommend_content_based(news_id, top_n=top_n)\n",
        "    cf_recommendations = recommend_collaborative(user_id, top_n=top_n)\n",
        "\n",
        "    hybrid_scores = {}\n",
        "    for item in set(cbf_recommendations + cf_recommendations):\n",
        "        cbf_score = 1 if item in cbf_recommendations else 0\n",
        "        cf_score = 1 if item in cf_recommendations else 0\n",
        "        hybrid_scores[item] = alpha * cbf_score + (1 - alpha) * cf_score\n",
        "\n",
        "    return sorted(hybrid_scores.keys(), key=lambda x: hybrid_scores[x], reverse=True)[:top_n]"
      ],
      "metadata": {
        "id": "C1W_lAyW6wK9"
      },
      "execution_count": 516,
      "outputs": []
    },
    {
      "cell_type": "code",
      "source": [
        "with open('hybrid_recommendation_model.pkl', 'wb') as f:\n",
        "    pickle.dump(recommend_hybrid, f)"
      ],
      "metadata": {
        "id": "5uxggpr_7wDB"
      },
      "execution_count": 518,
      "outputs": []
    },
    {
      "cell_type": "code",
      "source": [
        "user_id = 2303\n",
        "news_id = 23996\n",
        "top_n = 5\n",
        "\n",
        "recommendations = recommend_hybrid(user_id, news_id, alpha=0.5, top_n=top_n)\n",
        "print(\"Top Hybrid Recommendations:\", recommendations)"
      ],
      "metadata": {
        "colab": {
          "base_uri": "https://localhost:8080/",
          "height": 428
        },
        "id": "wTmuR-dy60wb",
        "outputId": "bb244f46-4a5e-476f-fe92-5bd76bc845ec"
      },
      "execution_count": 519,
      "outputs": [
        {
          "output_type": "error",
          "ename": "AttributeError",
          "evalue": "'csr_matrix' object has no attribute 'index'",
          "traceback": [
            "\u001b[0;31m---------------------------------------------------------------------------\u001b[0m",
            "\u001b[0;31mAttributeError\u001b[0m                            Traceback (most recent call last)",
            "\u001b[0;32m<ipython-input-519-e0746a808049>\u001b[0m in \u001b[0;36m<cell line: 0>\u001b[0;34m()\u001b[0m\n\u001b[1;32m      3\u001b[0m \u001b[0mtop_n\u001b[0m \u001b[0;34m=\u001b[0m \u001b[0;36m5\u001b[0m\u001b[0;34m\u001b[0m\u001b[0;34m\u001b[0m\u001b[0m\n\u001b[1;32m      4\u001b[0m \u001b[0;34m\u001b[0m\u001b[0m\n\u001b[0;32m----> 5\u001b[0;31m \u001b[0mrecommendations\u001b[0m \u001b[0;34m=\u001b[0m \u001b[0mrecommend_hybrid\u001b[0m\u001b[0;34m(\u001b[0m\u001b[0muser_id\u001b[0m\u001b[0;34m,\u001b[0m \u001b[0mnews_id\u001b[0m\u001b[0;34m,\u001b[0m \u001b[0malpha\u001b[0m\u001b[0;34m=\u001b[0m\u001b[0;36m0.5\u001b[0m\u001b[0;34m,\u001b[0m \u001b[0mtop_n\u001b[0m\u001b[0;34m=\u001b[0m\u001b[0mtop_n\u001b[0m\u001b[0;34m)\u001b[0m\u001b[0;34m\u001b[0m\u001b[0;34m\u001b[0m\u001b[0m\n\u001b[0m\u001b[1;32m      6\u001b[0m \u001b[0mprint\u001b[0m\u001b[0;34m(\u001b[0m\u001b[0;34m\"Top Hybrid Recommendations:\"\u001b[0m\u001b[0;34m,\u001b[0m \u001b[0mrecommendations\u001b[0m\u001b[0;34m)\u001b[0m\u001b[0;34m\u001b[0m\u001b[0;34m\u001b[0m\u001b[0m\n",
            "\u001b[0;32m<ipython-input-516-5e137516a614>\u001b[0m in \u001b[0;36mrecommend_hybrid\u001b[0;34m(user_id, news_id, alpha, top_n)\u001b[0m\n\u001b[1;32m      2\u001b[0m \u001b[0;32mdef\u001b[0m \u001b[0mrecommend_hybrid\u001b[0m\u001b[0;34m(\u001b[0m\u001b[0muser_id\u001b[0m\u001b[0;34m,\u001b[0m \u001b[0mnews_id\u001b[0m\u001b[0;34m,\u001b[0m \u001b[0malpha\u001b[0m\u001b[0;34m=\u001b[0m\u001b[0;36m0.5\u001b[0m\u001b[0;34m,\u001b[0m \u001b[0mtop_n\u001b[0m\u001b[0;34m=\u001b[0m\u001b[0;36m5\u001b[0m\u001b[0;34m)\u001b[0m\u001b[0;34m:\u001b[0m\u001b[0;34m\u001b[0m\u001b[0;34m\u001b[0m\u001b[0m\n\u001b[1;32m      3\u001b[0m     \u001b[0mcbf_recommendations\u001b[0m \u001b[0;34m=\u001b[0m \u001b[0mrecommend_content_based\u001b[0m\u001b[0;34m(\u001b[0m\u001b[0mnews_id\u001b[0m\u001b[0;34m,\u001b[0m \u001b[0mtop_n\u001b[0m\u001b[0;34m=\u001b[0m\u001b[0mtop_n\u001b[0m\u001b[0;34m)\u001b[0m\u001b[0;34m\u001b[0m\u001b[0;34m\u001b[0m\u001b[0m\n\u001b[0;32m----> 4\u001b[0;31m     \u001b[0mcf_recommendations\u001b[0m \u001b[0;34m=\u001b[0m \u001b[0mrecommend_collaborative\u001b[0m\u001b[0;34m(\u001b[0m\u001b[0muser_id\u001b[0m\u001b[0;34m,\u001b[0m \u001b[0mtop_n\u001b[0m\u001b[0;34m=\u001b[0m\u001b[0mtop_n\u001b[0m\u001b[0;34m)\u001b[0m\u001b[0;34m\u001b[0m\u001b[0;34m\u001b[0m\u001b[0m\n\u001b[0m\u001b[1;32m      5\u001b[0m \u001b[0;34m\u001b[0m\u001b[0m\n\u001b[1;32m      6\u001b[0m     \u001b[0mhybrid_scores\u001b[0m \u001b[0;34m=\u001b[0m \u001b[0;34m{\u001b[0m\u001b[0;34m}\u001b[0m\u001b[0;34m\u001b[0m\u001b[0;34m\u001b[0m\u001b[0m\n",
            "\u001b[0;32m<ipython-input-515-8f45992e055a>\u001b[0m in \u001b[0;36mrecommend_collaborative\u001b[0;34m(user_id, user_item_matrix, knn, top_n)\u001b[0m\n\u001b[1;32m      1\u001b[0m \u001b[0;31m# Collaborative Filtering\u001b[0m\u001b[0;34m\u001b[0m\u001b[0;34m\u001b[0m\u001b[0m\n\u001b[1;32m      2\u001b[0m \u001b[0;32mdef\u001b[0m \u001b[0mrecommend_collaborative\u001b[0m\u001b[0;34m(\u001b[0m\u001b[0muser_id\u001b[0m\u001b[0;34m,\u001b[0m \u001b[0muser_item_matrix\u001b[0m\u001b[0;34m=\u001b[0m\u001b[0muser_item_matrix\u001b[0m\u001b[0;34m,\u001b[0m \u001b[0mknn\u001b[0m\u001b[0;34m=\u001b[0m\u001b[0mknn\u001b[0m\u001b[0;34m,\u001b[0m \u001b[0mtop_n\u001b[0m\u001b[0;34m=\u001b[0m\u001b[0;36m5\u001b[0m\u001b[0;34m)\u001b[0m\u001b[0;34m:\u001b[0m\u001b[0;34m\u001b[0m\u001b[0;34m\u001b[0m\u001b[0m\n\u001b[0;32m----> 3\u001b[0;31m     \u001b[0;32mif\u001b[0m \u001b[0muser_id\u001b[0m \u001b[0;32mnot\u001b[0m \u001b[0;32min\u001b[0m \u001b[0muser_item_matrix\u001b[0m\u001b[0;34m.\u001b[0m\u001b[0mindex\u001b[0m\u001b[0;34m:\u001b[0m\u001b[0;34m\u001b[0m\u001b[0;34m\u001b[0m\u001b[0m\n\u001b[0m\u001b[1;32m      4\u001b[0m         \u001b[0mprint\u001b[0m\u001b[0;34m(\u001b[0m\u001b[0;34mf\"User {user_id} not found. Returning top items.\"\u001b[0m\u001b[0;34m)\u001b[0m\u001b[0;34m\u001b[0m\u001b[0;34m\u001b[0m\u001b[0m\n\u001b[1;32m      5\u001b[0m         \u001b[0;32mreturn\u001b[0m \u001b[0muser_item_matrix\u001b[0m\u001b[0;34m.\u001b[0m\u001b[0msum\u001b[0m\u001b[0;34m(\u001b[0m\u001b[0maxis\u001b[0m\u001b[0;34m=\u001b[0m\u001b[0;36m0\u001b[0m\u001b[0;34m)\u001b[0m\u001b[0;34m.\u001b[0m\u001b[0msort_values\u001b[0m\u001b[0;34m(\u001b[0m\u001b[0mascending\u001b[0m\u001b[0;34m=\u001b[0m\u001b[0;32mFalse\u001b[0m\u001b[0;34m)\u001b[0m\u001b[0;34m.\u001b[0m\u001b[0mhead\u001b[0m\u001b[0;34m(\u001b[0m\u001b[0mtop_n\u001b[0m\u001b[0;34m)\u001b[0m\u001b[0;34m.\u001b[0m\u001b[0mindex\u001b[0m\u001b[0;34m.\u001b[0m\u001b[0mtolist\u001b[0m\u001b[0;34m(\u001b[0m\u001b[0;34m)\u001b[0m\u001b[0;34m\u001b[0m\u001b[0;34m\u001b[0m\u001b[0m\n",
            "\u001b[0;31mAttributeError\u001b[0m: 'csr_matrix' object has no attribute 'index'"
          ]
        }
      ]
    }
  ]
}